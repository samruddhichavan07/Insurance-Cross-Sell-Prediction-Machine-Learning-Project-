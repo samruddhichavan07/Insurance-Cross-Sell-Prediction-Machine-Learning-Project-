{
 "cells": [
  {
   "cell_type": "markdown",
   "metadata": {
    "toc": true
   },
   "source": [
    "<h1>Table of Contents<span class=\"tocSkip\"></span></h1>\n",
    "<div class=\"toc\"><ul class=\"toc-item\"><li><span><a href=\"#Stage-1\" data-toc-modified-id=\"Stage-1-1\"><span class=\"toc-item-num\">1&nbsp;&nbsp;</span>Stage 1</a></span><ul class=\"toc-item\"><li><span><a href=\"#Data-Exploration\" data-toc-modified-id=\"Data-Exploration-1.1\"><span class=\"toc-item-num\">1.1&nbsp;&nbsp;</span>Data Exploration</a></span><ul class=\"toc-item\"><li><span><a href=\"#Load-Data\" data-toc-modified-id=\"Load-Data-1.1.1\"><span class=\"toc-item-num\">1.1.1&nbsp;&nbsp;</span>Load Data</a></span></li><li><span><a href=\"#Describe-Data\" data-toc-modified-id=\"Describe-Data-1.1.2\"><span class=\"toc-item-num\">1.1.2&nbsp;&nbsp;</span>Describe Data</a></span><ul class=\"toc-item\"><li><span><a href=\"#Numerical-Data\" data-toc-modified-id=\"Numerical-Data-1.1.2.1\"><span class=\"toc-item-num\">1.1.2.1&nbsp;&nbsp;</span>Numerical Data</a></span></li><li><span><a href=\"#Non-Numerical-Data-(Categorical)\" data-toc-modified-id=\"Non-Numerical-Data-(Categorical)-1.1.2.2\"><span class=\"toc-item-num\">1.1.2.2&nbsp;&nbsp;</span>Non-Numerical Data (Categorical)</a></span></li></ul></li><li><span><a href=\"#Features-&amp;-Target\" data-toc-modified-id=\"Features-&amp;-Target-1.1.3\"><span class=\"toc-item-num\">1.1.3&nbsp;&nbsp;</span>Features &amp; Target</a></span><ul class=\"toc-item\"><li><span><a href=\"#Features\" data-toc-modified-id=\"Features-1.1.3.1\"><span class=\"toc-item-num\">1.1.3.1&nbsp;&nbsp;</span>Features</a></span></li><li><span><a href=\"#Target\" data-toc-modified-id=\"Target-1.1.3.2\"><span class=\"toc-item-num\">1.1.3.2&nbsp;&nbsp;</span>Target</a></span></li></ul></li></ul></li><li><span><a href=\"#Data-Cleansing\" data-toc-modified-id=\"Data-Cleansing-1.2\"><span class=\"toc-item-num\">1.2&nbsp;&nbsp;</span>Data Cleansing</a></span><ul class=\"toc-item\"><li><span><a href=\"#Missing-Values\" data-toc-modified-id=\"Missing-Values-1.2.1\"><span class=\"toc-item-num\">1.2.1&nbsp;&nbsp;</span>Missing Values</a></span></li><li><span><a href=\"#Invalid-Values\" data-toc-modified-id=\"Invalid-Values-1.2.2\"><span class=\"toc-item-num\">1.2.2&nbsp;&nbsp;</span>Invalid Values</a></span></li><li><span><a href=\"#Duplicate-Rows\" data-toc-modified-id=\"Duplicate-Rows-1.2.3\"><span class=\"toc-item-num\">1.2.3&nbsp;&nbsp;</span>Duplicate Rows</a></span></li></ul></li><li><span><a href=\"#Feature-Engineering\" data-toc-modified-id=\"Feature-Engineering-1.3\"><span class=\"toc-item-num\">1.3&nbsp;&nbsp;</span>Feature Engineering</a></span><ul class=\"toc-item\"><li><span><a href=\"#We-will-use-dataframe:-data_preprocess-for-next-stage.\" data-toc-modified-id=\"We-will-use-dataframe:-data_preprocess-for-next-stage.-1.3.1\"><span class=\"toc-item-num\">1.3.1&nbsp;&nbsp;</span>We will use dataframe: data_preprocess for next stage.</a></span></li><li><span><a href=\"#Gender\" data-toc-modified-id=\"Gender-1.3.2\"><span class=\"toc-item-num\">1.3.2&nbsp;&nbsp;</span>Gender</a></span></li><li><span><a href=\"#Age\" data-toc-modified-id=\"Age-1.3.3\"><span class=\"toc-item-num\">1.3.3&nbsp;&nbsp;</span>Age</a></span></li><li><span><a href=\"#Driving_License\" data-toc-modified-id=\"Driving_License-1.3.4\"><span class=\"toc-item-num\">1.3.4&nbsp;&nbsp;</span>Driving_License</a></span></li><li><span><a href=\"#Region_Code\" data-toc-modified-id=\"Region_Code-1.3.5\"><span class=\"toc-item-num\">1.3.5&nbsp;&nbsp;</span>Region_Code</a></span><ul class=\"toc-item\"><li><span><a href=\"#Later-for-predicting-new-test-data\" data-toc-modified-id=\"Later-for-predicting-new-test-data-1.3.5.1\"><span class=\"toc-item-num\">1.3.5.1&nbsp;&nbsp;</span>Later for predicting new test data</a></span></li></ul></li><li><span><a href=\"#Previously_Insured\" data-toc-modified-id=\"Previously_Insured-1.3.6\"><span class=\"toc-item-num\">1.3.6&nbsp;&nbsp;</span>Previously_Insured</a></span></li><li><span><a href=\"#Vehicle_Age\" data-toc-modified-id=\"Vehicle_Age-1.3.7\"><span class=\"toc-item-num\">1.3.7&nbsp;&nbsp;</span>Vehicle_Age</a></span></li><li><span><a href=\"#Vehicle_Damage\" data-toc-modified-id=\"Vehicle_Damage-1.3.8\"><span class=\"toc-item-num\">1.3.8&nbsp;&nbsp;</span>Vehicle_Damage</a></span></li><li><span><a href=\"#Annual_Premium\" data-toc-modified-id=\"Annual_Premium-1.3.9\"><span class=\"toc-item-num\">1.3.9&nbsp;&nbsp;</span>Annual_Premium</a></span></li><li><span><a href=\"#Policy_Sales_Channel\" data-toc-modified-id=\"Policy_Sales_Channel-1.3.10\"><span class=\"toc-item-num\">1.3.10&nbsp;&nbsp;</span>Policy_Sales_Channel</a></span><ul class=\"toc-item\"><li><span><a href=\"#Later-for-predicting-new-test-data\" data-toc-modified-id=\"Later-for-predicting-new-test-data-1.3.10.1\"><span class=\"toc-item-num\">1.3.10.1&nbsp;&nbsp;</span>Later for predicting new test data</a></span></li></ul></li><li><span><a href=\"#Vintage\" data-toc-modified-id=\"Vintage-1.3.11\"><span class=\"toc-item-num\">1.3.11&nbsp;&nbsp;</span>Vintage</a></span></li></ul></li><li><span><a href=\"#Outliers\" data-toc-modified-id=\"Outliers-1.4\"><span class=\"toc-item-num\">1.4&nbsp;&nbsp;</span>Outliers</a></span><ul class=\"toc-item\"><li><span><a href=\"#Age\" data-toc-modified-id=\"Age-1.4.1\"><span class=\"toc-item-num\">1.4.1&nbsp;&nbsp;</span>Age</a></span><ul class=\"toc-item\"><li><span><a href=\"#Log-Transformation\" data-toc-modified-id=\"Log-Transformation-1.4.1.1\"><span class=\"toc-item-num\">1.4.1.1&nbsp;&nbsp;</span>Log Transformation</a></span></li></ul></li><li><span><a href=\"#Annual-Premium\" data-toc-modified-id=\"Annual-Premium-1.4.2\"><span class=\"toc-item-num\">1.4.2&nbsp;&nbsp;</span>Annual Premium</a></span></li></ul></li><li><span><a href=\"#Imbalanced-Class\" data-toc-modified-id=\"Imbalanced-Class-1.5\"><span class=\"toc-item-num\">1.5&nbsp;&nbsp;</span>Imbalanced Class</a></span><ul class=\"toc-item\"><li><span><a href=\"#Oversampling\" data-toc-modified-id=\"Oversampling-1.5.1\"><span class=\"toc-item-num\">1.5.1&nbsp;&nbsp;</span>Oversampling</a></span></li></ul></li><li><span><a href=\"#DATAFRAME-&amp;-CSV\" data-toc-modified-id=\"DATAFRAME-&amp;-CSV-1.6\"><span class=\"toc-item-num\">1.6&nbsp;&nbsp;</span>DATAFRAME &amp; CSV</a></span></li><li><span><a href=\"#Dataset-for-Modeling\" data-toc-modified-id=\"Dataset-for-Modeling-1.7\"><span class=\"toc-item-num\">1.7&nbsp;&nbsp;</span>Dataset for Modeling</a></span></li></ul></li><li><span><a href=\"#Stage-2\" data-toc-modified-id=\"Stage-2-2\"><span class=\"toc-item-num\">2&nbsp;&nbsp;</span>Stage 2</a></span><ul class=\"toc-item\"><li><span><a href=\"#Categorical-Feature-Encoding\" data-toc-modified-id=\"Categorical-Feature-Encoding-2.1\"><span class=\"toc-item-num\">2.1&nbsp;&nbsp;</span>Categorical Feature Encoding</a></span><ul class=\"toc-item\"><li><span><a href=\"#Gender\" data-toc-modified-id=\"Gender-2.1.1\"><span class=\"toc-item-num\">2.1.1&nbsp;&nbsp;</span>Gender</a></span></li><li><span><a href=\"#Driving_License\" data-toc-modified-id=\"Driving_License-2.1.2\"><span class=\"toc-item-num\">2.1.2&nbsp;&nbsp;</span>Driving_License</a></span></li><li><span><a href=\"#Region_Code\" data-toc-modified-id=\"Region_Code-2.1.3\"><span class=\"toc-item-num\">2.1.3&nbsp;&nbsp;</span>Region_Code</a></span></li><li><span><a href=\"#Previously_Insured\" data-toc-modified-id=\"Previously_Insured-2.1.4\"><span class=\"toc-item-num\">2.1.4&nbsp;&nbsp;</span>Previously_Insured</a></span></li><li><span><a href=\"#Vehicle_Age\" data-toc-modified-id=\"Vehicle_Age-2.1.5\"><span class=\"toc-item-num\">2.1.5&nbsp;&nbsp;</span>Vehicle_Age</a></span></li><li><span><a href=\"#Vehicle_Damage\" data-toc-modified-id=\"Vehicle_Damage-2.1.6\"><span class=\"toc-item-num\">2.1.6&nbsp;&nbsp;</span>Vehicle_Damage</a></span></li><li><span><a href=\"#Policy_Sales_Channel\" data-toc-modified-id=\"Policy_Sales_Channel-2.1.7\"><span class=\"toc-item-num\">2.1.7&nbsp;&nbsp;</span>Policy_Sales_Channel</a></span></li></ul></li><li><span><a href=\"#Numerical-Feature-Binning\" data-toc-modified-id=\"Numerical-Feature-Binning-2.2\"><span class=\"toc-item-num\">2.2&nbsp;&nbsp;</span>Numerical Feature Binning</a></span><ul class=\"toc-item\"><li><span><a href=\"#Age\" data-toc-modified-id=\"Age-2.2.1\"><span class=\"toc-item-num\">2.2.1&nbsp;&nbsp;</span>Age</a></span></li><li><span><a href=\"#Annual_Premium\" data-toc-modified-id=\"Annual_Premium-2.2.2\"><span class=\"toc-item-num\">2.2.2&nbsp;&nbsp;</span>Annual_Premium</a></span></li><li><span><a href=\"#Vintage\" data-toc-modified-id=\"Vintage-2.2.3\"><span class=\"toc-item-num\">2.2.3&nbsp;&nbsp;</span>Vintage</a></span></li></ul></li><li><span><a href=\"#EDA\" data-toc-modified-id=\"EDA-2.3\"><span class=\"toc-item-num\">2.3&nbsp;&nbsp;</span>EDA</a></span><ul class=\"toc-item\"><li><span><a href=\"#Matrix-Correlation\" data-toc-modified-id=\"Matrix-Correlation-2.3.1\"><span class=\"toc-item-num\">2.3.1&nbsp;&nbsp;</span>Matrix Correlation</a></span></li><li><span><a href=\"#Numerical\" data-toc-modified-id=\"Numerical-2.3.2\"><span class=\"toc-item-num\">2.3.2&nbsp;&nbsp;</span>Numerical</a></span></li><li><span><a href=\"#Categorical\" data-toc-modified-id=\"Categorical-2.3.3\"><span class=\"toc-item-num\">2.3.3&nbsp;&nbsp;</span>Categorical</a></span></li></ul></li><li><span><a href=\"#Insights-&amp;-Visualization\" data-toc-modified-id=\"Insights-&amp;-Visualization-2.4\"><span class=\"toc-item-num\">2.4&nbsp;&nbsp;</span>Insights &amp; Visualization</a></span><ul class=\"toc-item\"><li><span><a href=\"#Gender\" data-toc-modified-id=\"Gender-2.4.1\"><span class=\"toc-item-num\">2.4.1&nbsp;&nbsp;</span>Gender</a></span></li><li><span><a href=\"#Age\" data-toc-modified-id=\"Age-2.4.2\"><span class=\"toc-item-num\">2.4.2&nbsp;&nbsp;</span>Age</a></span></li><li><span><a href=\"#Driving_License\" data-toc-modified-id=\"Driving_License-2.4.3\"><span class=\"toc-item-num\">2.4.3&nbsp;&nbsp;</span>Driving_License</a></span></li><li><span><a href=\"#Region_Code\" data-toc-modified-id=\"Region_Code-2.4.4\"><span class=\"toc-item-num\">2.4.4&nbsp;&nbsp;</span>Region_Code</a></span></li><li><span><a href=\"#Previously_Insured\" data-toc-modified-id=\"Previously_Insured-2.4.5\"><span class=\"toc-item-num\">2.4.5&nbsp;&nbsp;</span>Previously_Insured</a></span></li><li><span><a href=\"#Vehicle_Age\" data-toc-modified-id=\"Vehicle_Age-2.4.6\"><span class=\"toc-item-num\">2.4.6&nbsp;&nbsp;</span>Vehicle_Age</a></span></li><li><span><a href=\"#Vehicle_Damage\" data-toc-modified-id=\"Vehicle_Damage-2.4.7\"><span class=\"toc-item-num\">2.4.7&nbsp;&nbsp;</span>Vehicle_Damage</a></span></li><li><span><a href=\"#Annual_Premium\" data-toc-modified-id=\"Annual_Premium-2.4.8\"><span class=\"toc-item-num\">2.4.8&nbsp;&nbsp;</span>Annual_Premium</a></span></li><li><span><a href=\"#Policy_Sales_Channel\" data-toc-modified-id=\"Policy_Sales_Channel-2.4.9\"><span class=\"toc-item-num\">2.4.9&nbsp;&nbsp;</span>Policy_Sales_Channel</a></span></li><li><span><a href=\"#Vintage\" data-toc-modified-id=\"Vintage-2.4.10\"><span class=\"toc-item-num\">2.4.10&nbsp;&nbsp;</span>Vintage</a></span></li><li><span><a href=\"#Internal-Concerns\" data-toc-modified-id=\"Internal-Concerns-2.4.11\"><span class=\"toc-item-num\">2.4.11&nbsp;&nbsp;</span>Internal Concerns</a></span></li></ul></li></ul></li><li><span><a href=\"#Stage-4\" data-toc-modified-id=\"Stage-4-3\"><span class=\"toc-item-num\">3&nbsp;&nbsp;</span>Stage 4</a></span><ul class=\"toc-item\"><li><span><a href=\"#How-much-should-we-bill-vehicle-insurance-customers?\" data-toc-modified-id=\"How-much-should-we-bill-vehicle-insurance-customers?-3.1\"><span class=\"toc-item-num\">3.1&nbsp;&nbsp;</span>How much should we bill vehicle insurance customers?</a></span><ul class=\"toc-item\"><li><span><a href=\"#So-Vehicle-Insurance-Premium-is...\" data-toc-modified-id=\"So-Vehicle-Insurance-Premium-is...-3.1.1\"><span class=\"toc-item-num\">3.1.1&nbsp;&nbsp;</span>So Vehicle Insurance Premium is...</a></span></li></ul></li></ul></li></ul></div>"
   ]
  },
  {
   "cell_type": "markdown",
   "metadata": {},
   "source": [
    "**Kelompok: Sandbox 2.0**\n",
    "\n",
    "**Anggota:**\n",
    "- Fadilah Nur Imani\n",
    "- Wine Tesa\n",
    "- Anjar Desmiarti\n",
    "- Winda\n",
    "- Shahrie Rabbani\n",
    "\n",
    "**Dataset:**\n",
    "Health Insurance\n",
    "\n",
    "**Mentor:**\n",
    "Rezki Trianto"
   ]
  },
  {
   "cell_type": "code",
   "execution_count": 2,
   "metadata": {},
   "outputs": [
    {
     "name": "stdout",
     "output_type": "stream",
     "text": [
      "Python: c:\\Users\\Samrudhhi\\Insurance-Cross-selling-Prediction\\.venv\\Scripts\\python.exe\n",
      "seaborn: 0.13.2\n"
     ]
    }
   ],
   "source": [
    "import sys, seaborn, matplotlib, pandas, sklearn\n",
    "print(\"Python:\", sys.executable)\n",
    "print(\"seaborn:\", seaborn.__version__)\n"
   ]
  },
  {
   "cell_type": "code",
   "execution_count": 3,
   "metadata": {
    "ExecuteTime": {
     "end_time": "2021-02-12T21:30:53.774107Z",
     "start_time": "2021-02-12T21:30:51.374527Z"
    }
   },
   "outputs": [],
   "source": [
    "import pandas as pd\n",
    "import numpy as np\n",
    "\n",
    "# visualization\n",
    "import seaborn as sns\n",
    "import matplotlib\n",
    "import matplotlib.pyplot as plt\n",
    "from matplotlib.lines import Line2D\n",
    "%matplotlib inline\n",
    "\n",
    "import imblearn\n",
    "from imblearn import over_sampling\n",
    "\n",
    "# pre-processing\n",
    "import sklearn\n",
    "from sklearn import preprocessing\n",
    "from sklearn.preprocessing import OrdinalEncoder, LabelEncoder\n",
    "from sklearn.preprocessing import StandardScaler\n",
    "\n",
    "from sklearn.model_selection import train_test_split \n",
    "\n",
    "# install: conda install -c conda-forge category_encoders\n",
    "import category_encoders\n",
    "from category_encoders import TargetEncoder\n",
    "\n",
    "import datetime\n",
    "import statsmodels.api as sm"
   ]
  },
  {
   "cell_type": "code",
   "execution_count": 4,
   "metadata": {
    "ExecuteTime": {
     "end_time": "2021-02-12T21:30:53.790065Z",
     "start_time": "2021-02-12T21:30:53.780091Z"
    }
   },
   "outputs": [
    {
     "name": "stdout",
     "output_type": "stream",
     "text": [
      "Pandas: 2.3.2\n",
      "Numpy: 2.3.3\n",
      "Matplotlib: 3.10.6\n",
      "Seaborn: 0.13.2\n",
      "Imblearn: 0.14.0\n",
      "Scikit-Learn: 1.7.2\n",
      "Category Encoders: 2.8.1\n",
      "Statsmodels: 0.14.5\n"
     ]
    }
   ],
   "source": [
    "print('Pandas:', pd.__version__)\n",
    "print('Numpy:', np.__version__)\n",
    "print('Matplotlib:', matplotlib.__version__)\n",
    "print('Seaborn:', sns.__version__)\n",
    "print('Imblearn:', imblearn.__version__)\n",
    "print('Scikit-Learn:', sklearn.__version__)\n",
    "print('Category Encoders:', category_encoders.__version__)\n",
    "print('Statsmodels:', sm.__version__)"
   ]
  },
  {
   "cell_type": "code",
   "execution_count": 5,
   "metadata": {
    "ExecuteTime": {
     "end_time": "2021-02-12T21:30:53.801034Z",
     "start_time": "2021-02-12T21:30:53.793057Z"
    }
   },
   "outputs": [],
   "source": [
    "sns.set_style(\"whitegrid\")\n",
    "sns.color_palette(\"bright\")\n",
    "plt.style.use(\"fivethirtyeight\")"
   ]
  },
  {
   "cell_type": "markdown",
   "metadata": {},
   "source": [
    "# Stage 1"
   ]
  },
  {
   "cell_type": "markdown",
   "metadata": {},
   "source": [
    "## Data Exploration"
   ]
  },
  {
   "cell_type": "markdown",
   "metadata": {},
   "source": [
    "### Load Data"
   ]
  },
  {
   "cell_type": "code",
   "execution_count": 6,
   "metadata": {
    "ExecuteTime": {
     "end_time": "2021-02-12T21:30:54.260806Z",
     "start_time": "2021-02-12T21:30:53.803030Z"
    },
    "scrolled": false
   },
   "outputs": [
    {
     "data": {
      "text/html": [
       "<div>\n",
       "<style scoped>\n",
       "    .dataframe tbody tr th:only-of-type {\n",
       "        vertical-align: middle;\n",
       "    }\n",
       "\n",
       "    .dataframe tbody tr th {\n",
       "        vertical-align: top;\n",
       "    }\n",
       "\n",
       "    .dataframe thead th {\n",
       "        text-align: right;\n",
       "    }\n",
       "</style>\n",
       "<table border=\"1\" class=\"dataframe\">\n",
       "  <thead>\n",
       "    <tr style=\"text-align: right;\">\n",
       "      <th></th>\n",
       "      <th>id</th>\n",
       "      <th>Gender</th>\n",
       "      <th>Age</th>\n",
       "      <th>Driving_License</th>\n",
       "      <th>Region_Code</th>\n",
       "      <th>Previously_Insured</th>\n",
       "      <th>Vehicle_Age</th>\n",
       "      <th>Vehicle_Damage</th>\n",
       "      <th>Annual_Premium</th>\n",
       "      <th>Policy_Sales_Channel</th>\n",
       "      <th>Vintage</th>\n",
       "      <th>Response</th>\n",
       "    </tr>\n",
       "  </thead>\n",
       "  <tbody>\n",
       "    <tr>\n",
       "      <th>0</th>\n",
       "      <td>1</td>\n",
       "      <td>Male</td>\n",
       "      <td>44</td>\n",
       "      <td>1</td>\n",
       "      <td>28.0</td>\n",
       "      <td>0</td>\n",
       "      <td>&gt; 2 Years</td>\n",
       "      <td>Yes</td>\n",
       "      <td>40454.0</td>\n",
       "      <td>26.0</td>\n",
       "      <td>217</td>\n",
       "      <td>1</td>\n",
       "    </tr>\n",
       "    <tr>\n",
       "      <th>1</th>\n",
       "      <td>2</td>\n",
       "      <td>Male</td>\n",
       "      <td>76</td>\n",
       "      <td>1</td>\n",
       "      <td>3.0</td>\n",
       "      <td>0</td>\n",
       "      <td>1-2 Year</td>\n",
       "      <td>No</td>\n",
       "      <td>33536.0</td>\n",
       "      <td>26.0</td>\n",
       "      <td>183</td>\n",
       "      <td>0</td>\n",
       "    </tr>\n",
       "    <tr>\n",
       "      <th>2</th>\n",
       "      <td>3</td>\n",
       "      <td>Male</td>\n",
       "      <td>47</td>\n",
       "      <td>1</td>\n",
       "      <td>28.0</td>\n",
       "      <td>0</td>\n",
       "      <td>&gt; 2 Years</td>\n",
       "      <td>Yes</td>\n",
       "      <td>38294.0</td>\n",
       "      <td>26.0</td>\n",
       "      <td>27</td>\n",
       "      <td>1</td>\n",
       "    </tr>\n",
       "    <tr>\n",
       "      <th>3</th>\n",
       "      <td>4</td>\n",
       "      <td>Male</td>\n",
       "      <td>21</td>\n",
       "      <td>1</td>\n",
       "      <td>11.0</td>\n",
       "      <td>1</td>\n",
       "      <td>&lt; 1 Year</td>\n",
       "      <td>No</td>\n",
       "      <td>28619.0</td>\n",
       "      <td>152.0</td>\n",
       "      <td>203</td>\n",
       "      <td>0</td>\n",
       "    </tr>\n",
       "    <tr>\n",
       "      <th>4</th>\n",
       "      <td>5</td>\n",
       "      <td>Female</td>\n",
       "      <td>29</td>\n",
       "      <td>1</td>\n",
       "      <td>41.0</td>\n",
       "      <td>1</td>\n",
       "      <td>&lt; 1 Year</td>\n",
       "      <td>No</td>\n",
       "      <td>27496.0</td>\n",
       "      <td>152.0</td>\n",
       "      <td>39</td>\n",
       "      <td>0</td>\n",
       "    </tr>\n",
       "    <tr>\n",
       "      <th>...</th>\n",
       "      <td>...</td>\n",
       "      <td>...</td>\n",
       "      <td>...</td>\n",
       "      <td>...</td>\n",
       "      <td>...</td>\n",
       "      <td>...</td>\n",
       "      <td>...</td>\n",
       "      <td>...</td>\n",
       "      <td>...</td>\n",
       "      <td>...</td>\n",
       "      <td>...</td>\n",
       "      <td>...</td>\n",
       "    </tr>\n",
       "    <tr>\n",
       "      <th>381104</th>\n",
       "      <td>381105</td>\n",
       "      <td>Male</td>\n",
       "      <td>74</td>\n",
       "      <td>1</td>\n",
       "      <td>26.0</td>\n",
       "      <td>1</td>\n",
       "      <td>1-2 Year</td>\n",
       "      <td>No</td>\n",
       "      <td>30170.0</td>\n",
       "      <td>26.0</td>\n",
       "      <td>88</td>\n",
       "      <td>0</td>\n",
       "    </tr>\n",
       "    <tr>\n",
       "      <th>381105</th>\n",
       "      <td>381106</td>\n",
       "      <td>Male</td>\n",
       "      <td>30</td>\n",
       "      <td>1</td>\n",
       "      <td>37.0</td>\n",
       "      <td>1</td>\n",
       "      <td>&lt; 1 Year</td>\n",
       "      <td>No</td>\n",
       "      <td>40016.0</td>\n",
       "      <td>152.0</td>\n",
       "      <td>131</td>\n",
       "      <td>0</td>\n",
       "    </tr>\n",
       "    <tr>\n",
       "      <th>381106</th>\n",
       "      <td>381107</td>\n",
       "      <td>Male</td>\n",
       "      <td>21</td>\n",
       "      <td>1</td>\n",
       "      <td>30.0</td>\n",
       "      <td>1</td>\n",
       "      <td>&lt; 1 Year</td>\n",
       "      <td>No</td>\n",
       "      <td>35118.0</td>\n",
       "      <td>160.0</td>\n",
       "      <td>161</td>\n",
       "      <td>0</td>\n",
       "    </tr>\n",
       "    <tr>\n",
       "      <th>381107</th>\n",
       "      <td>381108</td>\n",
       "      <td>Female</td>\n",
       "      <td>68</td>\n",
       "      <td>1</td>\n",
       "      <td>14.0</td>\n",
       "      <td>0</td>\n",
       "      <td>&gt; 2 Years</td>\n",
       "      <td>Yes</td>\n",
       "      <td>44617.0</td>\n",
       "      <td>124.0</td>\n",
       "      <td>74</td>\n",
       "      <td>0</td>\n",
       "    </tr>\n",
       "    <tr>\n",
       "      <th>381108</th>\n",
       "      <td>381109</td>\n",
       "      <td>Male</td>\n",
       "      <td>46</td>\n",
       "      <td>1</td>\n",
       "      <td>29.0</td>\n",
       "      <td>0</td>\n",
       "      <td>1-2 Year</td>\n",
       "      <td>No</td>\n",
       "      <td>41777.0</td>\n",
       "      <td>26.0</td>\n",
       "      <td>237</td>\n",
       "      <td>0</td>\n",
       "    </tr>\n",
       "  </tbody>\n",
       "</table>\n",
       "<p>381109 rows × 12 columns</p>\n",
       "</div>"
      ],
      "text/plain": [
       "            id  Gender  Age  Driving_License  Region_Code  Previously_Insured  \\\n",
       "0            1    Male   44                1         28.0                   0   \n",
       "1            2    Male   76                1          3.0                   0   \n",
       "2            3    Male   47                1         28.0                   0   \n",
       "3            4    Male   21                1         11.0                   1   \n",
       "4            5  Female   29                1         41.0                   1   \n",
       "...        ...     ...  ...              ...          ...                 ...   \n",
       "381104  381105    Male   74                1         26.0                   1   \n",
       "381105  381106    Male   30                1         37.0                   1   \n",
       "381106  381107    Male   21                1         30.0                   1   \n",
       "381107  381108  Female   68                1         14.0                   0   \n",
       "381108  381109    Male   46                1         29.0                   0   \n",
       "\n",
       "       Vehicle_Age Vehicle_Damage  Annual_Premium  Policy_Sales_Channel  \\\n",
       "0        > 2 Years            Yes         40454.0                  26.0   \n",
       "1         1-2 Year             No         33536.0                  26.0   \n",
       "2        > 2 Years            Yes         38294.0                  26.0   \n",
       "3         < 1 Year             No         28619.0                 152.0   \n",
       "4         < 1 Year             No         27496.0                 152.0   \n",
       "...            ...            ...             ...                   ...   \n",
       "381104    1-2 Year             No         30170.0                  26.0   \n",
       "381105    < 1 Year             No         40016.0                 152.0   \n",
       "381106    < 1 Year             No         35118.0                 160.0   \n",
       "381107   > 2 Years            Yes         44617.0                 124.0   \n",
       "381108    1-2 Year             No         41777.0                  26.0   \n",
       "\n",
       "        Vintage  Response  \n",
       "0           217         1  \n",
       "1           183         0  \n",
       "2            27         1  \n",
       "3           203         0  \n",
       "4            39         0  \n",
       "...         ...       ...  \n",
       "381104       88         0  \n",
       "381105      131         0  \n",
       "381106      161         0  \n",
       "381107       74         0  \n",
       "381108      237         0  \n",
       "\n",
       "[381109 rows x 12 columns]"
      ]
     },
     "execution_count": 6,
     "metadata": {},
     "output_type": "execute_result"
    }
   ],
   "source": [
    "data = pd.read_csv('data/train.csv')\n",
    "data"
   ]
  },
  {
   "cell_type": "markdown",
   "metadata": {},
   "source": [
    "### Describe Data"
   ]
  },
  {
   "cell_type": "code",
   "execution_count": 7,
   "metadata": {
    "ExecuteTime": {
     "end_time": "2021-02-12T21:30:54.332613Z",
     "start_time": "2021-02-12T21:30:54.262801Z"
    }
   },
   "outputs": [
    {
     "name": "stdout",
     "output_type": "stream",
     "text": [
      "<class 'pandas.core.frame.DataFrame'>\n",
      "RangeIndex: 381109 entries, 0 to 381108\n",
      "Data columns (total 12 columns):\n",
      " #   Column                Non-Null Count   Dtype  \n",
      "---  ------                --------------   -----  \n",
      " 0   id                    381109 non-null  int64  \n",
      " 1   Gender                381109 non-null  object \n",
      " 2   Age                   381109 non-null  int64  \n",
      " 3   Driving_License       381109 non-null  int64  \n",
      " 4   Region_Code           381109 non-null  float64\n",
      " 5   Previously_Insured    381109 non-null  int64  \n",
      " 6   Vehicle_Age           381109 non-null  object \n",
      " 7   Vehicle_Damage        381109 non-null  object \n",
      " 8   Annual_Premium        381109 non-null  float64\n",
      " 9   Policy_Sales_Channel  381109 non-null  float64\n",
      " 10  Vintage               381109 non-null  int64  \n",
      " 11  Response              381109 non-null  int64  \n",
      "dtypes: float64(3), int64(6), object(3)\n",
      "memory usage: 34.9+ MB\n"
     ]
    }
   ],
   "source": [
    "data.info()"
   ]
  },
  {
   "cell_type": "markdown",
   "metadata": {},
   "source": [
    "#### Numerical Data"
   ]
  },
  {
   "cell_type": "code",
   "execution_count": 8,
   "metadata": {
    "ExecuteTime": {
     "end_time": "2021-02-12T21:30:54.396444Z",
     "start_time": "2021-02-12T21:30:54.334607Z"
    }
   },
   "outputs": [
    {
     "name": "stdout",
     "output_type": "stream",
     "text": [
      "(381109, 9)\n"
     ]
    },
    {
     "data": {
      "text/html": [
       "<div>\n",
       "<style scoped>\n",
       "    .dataframe tbody tr th:only-of-type {\n",
       "        vertical-align: middle;\n",
       "    }\n",
       "\n",
       "    .dataframe tbody tr th {\n",
       "        vertical-align: top;\n",
       "    }\n",
       "\n",
       "    .dataframe thead th {\n",
       "        text-align: right;\n",
       "    }\n",
       "</style>\n",
       "<table border=\"1\" class=\"dataframe\">\n",
       "  <thead>\n",
       "    <tr style=\"text-align: right;\">\n",
       "      <th></th>\n",
       "      <th>id</th>\n",
       "      <th>Age</th>\n",
       "      <th>Driving_License</th>\n",
       "      <th>Region_Code</th>\n",
       "      <th>Previously_Insured</th>\n",
       "      <th>Annual_Premium</th>\n",
       "      <th>Policy_Sales_Channel</th>\n",
       "      <th>Vintage</th>\n",
       "      <th>Response</th>\n",
       "    </tr>\n",
       "  </thead>\n",
       "  <tbody>\n",
       "    <tr>\n",
       "      <th>0</th>\n",
       "      <td>1</td>\n",
       "      <td>44</td>\n",
       "      <td>1</td>\n",
       "      <td>28.0</td>\n",
       "      <td>0</td>\n",
       "      <td>40454.0</td>\n",
       "      <td>26.0</td>\n",
       "      <td>217</td>\n",
       "      <td>1</td>\n",
       "    </tr>\n",
       "    <tr>\n",
       "      <th>1</th>\n",
       "      <td>2</td>\n",
       "      <td>76</td>\n",
       "      <td>1</td>\n",
       "      <td>3.0</td>\n",
       "      <td>0</td>\n",
       "      <td>33536.0</td>\n",
       "      <td>26.0</td>\n",
       "      <td>183</td>\n",
       "      <td>0</td>\n",
       "    </tr>\n",
       "    <tr>\n",
       "      <th>2</th>\n",
       "      <td>3</td>\n",
       "      <td>47</td>\n",
       "      <td>1</td>\n",
       "      <td>28.0</td>\n",
       "      <td>0</td>\n",
       "      <td>38294.0</td>\n",
       "      <td>26.0</td>\n",
       "      <td>27</td>\n",
       "      <td>1</td>\n",
       "    </tr>\n",
       "    <tr>\n",
       "      <th>3</th>\n",
       "      <td>4</td>\n",
       "      <td>21</td>\n",
       "      <td>1</td>\n",
       "      <td>11.0</td>\n",
       "      <td>1</td>\n",
       "      <td>28619.0</td>\n",
       "      <td>152.0</td>\n",
       "      <td>203</td>\n",
       "      <td>0</td>\n",
       "    </tr>\n",
       "    <tr>\n",
       "      <th>4</th>\n",
       "      <td>5</td>\n",
       "      <td>29</td>\n",
       "      <td>1</td>\n",
       "      <td>41.0</td>\n",
       "      <td>1</td>\n",
       "      <td>27496.0</td>\n",
       "      <td>152.0</td>\n",
       "      <td>39</td>\n",
       "      <td>0</td>\n",
       "    </tr>\n",
       "    <tr>\n",
       "      <th>...</th>\n",
       "      <td>...</td>\n",
       "      <td>...</td>\n",
       "      <td>...</td>\n",
       "      <td>...</td>\n",
       "      <td>...</td>\n",
       "      <td>...</td>\n",
       "      <td>...</td>\n",
       "      <td>...</td>\n",
       "      <td>...</td>\n",
       "    </tr>\n",
       "    <tr>\n",
       "      <th>381104</th>\n",
       "      <td>381105</td>\n",
       "      <td>74</td>\n",
       "      <td>1</td>\n",
       "      <td>26.0</td>\n",
       "      <td>1</td>\n",
       "      <td>30170.0</td>\n",
       "      <td>26.0</td>\n",
       "      <td>88</td>\n",
       "      <td>0</td>\n",
       "    </tr>\n",
       "    <tr>\n",
       "      <th>381105</th>\n",
       "      <td>381106</td>\n",
       "      <td>30</td>\n",
       "      <td>1</td>\n",
       "      <td>37.0</td>\n",
       "      <td>1</td>\n",
       "      <td>40016.0</td>\n",
       "      <td>152.0</td>\n",
       "      <td>131</td>\n",
       "      <td>0</td>\n",
       "    </tr>\n",
       "    <tr>\n",
       "      <th>381106</th>\n",
       "      <td>381107</td>\n",
       "      <td>21</td>\n",
       "      <td>1</td>\n",
       "      <td>30.0</td>\n",
       "      <td>1</td>\n",
       "      <td>35118.0</td>\n",
       "      <td>160.0</td>\n",
       "      <td>161</td>\n",
       "      <td>0</td>\n",
       "    </tr>\n",
       "    <tr>\n",
       "      <th>381107</th>\n",
       "      <td>381108</td>\n",
       "      <td>68</td>\n",
       "      <td>1</td>\n",
       "      <td>14.0</td>\n",
       "      <td>0</td>\n",
       "      <td>44617.0</td>\n",
       "      <td>124.0</td>\n",
       "      <td>74</td>\n",
       "      <td>0</td>\n",
       "    </tr>\n",
       "    <tr>\n",
       "      <th>381108</th>\n",
       "      <td>381109</td>\n",
       "      <td>46</td>\n",
       "      <td>1</td>\n",
       "      <td>29.0</td>\n",
       "      <td>0</td>\n",
       "      <td>41777.0</td>\n",
       "      <td>26.0</td>\n",
       "      <td>237</td>\n",
       "      <td>0</td>\n",
       "    </tr>\n",
       "  </tbody>\n",
       "</table>\n",
       "<p>381109 rows × 9 columns</p>\n",
       "</div>"
      ],
      "text/plain": [
       "            id  Age  Driving_License  Region_Code  Previously_Insured  \\\n",
       "0            1   44                1         28.0                   0   \n",
       "1            2   76                1          3.0                   0   \n",
       "2            3   47                1         28.0                   0   \n",
       "3            4   21                1         11.0                   1   \n",
       "4            5   29                1         41.0                   1   \n",
       "...        ...  ...              ...          ...                 ...   \n",
       "381104  381105   74                1         26.0                   1   \n",
       "381105  381106   30                1         37.0                   1   \n",
       "381106  381107   21                1         30.0                   1   \n",
       "381107  381108   68                1         14.0                   0   \n",
       "381108  381109   46                1         29.0                   0   \n",
       "\n",
       "        Annual_Premium  Policy_Sales_Channel  Vintage  Response  \n",
       "0              40454.0                  26.0      217         1  \n",
       "1              33536.0                  26.0      183         0  \n",
       "2              38294.0                  26.0       27         1  \n",
       "3              28619.0                 152.0      203         0  \n",
       "4              27496.0                 152.0       39         0  \n",
       "...                ...                   ...      ...       ...  \n",
       "381104         30170.0                  26.0       88         0  \n",
       "381105         40016.0                 152.0      131         0  \n",
       "381106         35118.0                 160.0      161         0  \n",
       "381107         44617.0                 124.0       74         0  \n",
       "381108         41777.0                  26.0      237         0  \n",
       "\n",
       "[381109 rows x 9 columns]"
      ]
     },
     "execution_count": 8,
     "metadata": {},
     "output_type": "execute_result"
    }
   ],
   "source": [
    "print(data.select_dtypes(include = np.number).shape)\n",
    "data.select_dtypes(include = np.number)"
   ]
  },
  {
   "cell_type": "markdown",
   "metadata": {},
   "source": [
    "#### Non-Numerical Data (Categorical)"
   ]
  },
  {
   "cell_type": "code",
   "execution_count": 9,
   "metadata": {
    "ExecuteTime": {
     "end_time": "2021-02-12T21:30:54.436336Z",
     "start_time": "2021-02-12T21:30:54.398439Z"
    }
   },
   "outputs": [
    {
     "name": "stdout",
     "output_type": "stream",
     "text": [
      "(381109, 3)\n"
     ]
    },
    {
     "data": {
      "text/html": [
       "<div>\n",
       "<style scoped>\n",
       "    .dataframe tbody tr th:only-of-type {\n",
       "        vertical-align: middle;\n",
       "    }\n",
       "\n",
       "    .dataframe tbody tr th {\n",
       "        vertical-align: top;\n",
       "    }\n",
       "\n",
       "    .dataframe thead th {\n",
       "        text-align: right;\n",
       "    }\n",
       "</style>\n",
       "<table border=\"1\" class=\"dataframe\">\n",
       "  <thead>\n",
       "    <tr style=\"text-align: right;\">\n",
       "      <th></th>\n",
       "      <th>Gender</th>\n",
       "      <th>Vehicle_Age</th>\n",
       "      <th>Vehicle_Damage</th>\n",
       "    </tr>\n",
       "  </thead>\n",
       "  <tbody>\n",
       "    <tr>\n",
       "      <th>0</th>\n",
       "      <td>Male</td>\n",
       "      <td>&gt; 2 Years</td>\n",
       "      <td>Yes</td>\n",
       "    </tr>\n",
       "    <tr>\n",
       "      <th>1</th>\n",
       "      <td>Male</td>\n",
       "      <td>1-2 Year</td>\n",
       "      <td>No</td>\n",
       "    </tr>\n",
       "    <tr>\n",
       "      <th>2</th>\n",
       "      <td>Male</td>\n",
       "      <td>&gt; 2 Years</td>\n",
       "      <td>Yes</td>\n",
       "    </tr>\n",
       "    <tr>\n",
       "      <th>3</th>\n",
       "      <td>Male</td>\n",
       "      <td>&lt; 1 Year</td>\n",
       "      <td>No</td>\n",
       "    </tr>\n",
       "    <tr>\n",
       "      <th>4</th>\n",
       "      <td>Female</td>\n",
       "      <td>&lt; 1 Year</td>\n",
       "      <td>No</td>\n",
       "    </tr>\n",
       "    <tr>\n",
       "      <th>...</th>\n",
       "      <td>...</td>\n",
       "      <td>...</td>\n",
       "      <td>...</td>\n",
       "    </tr>\n",
       "    <tr>\n",
       "      <th>381104</th>\n",
       "      <td>Male</td>\n",
       "      <td>1-2 Year</td>\n",
       "      <td>No</td>\n",
       "    </tr>\n",
       "    <tr>\n",
       "      <th>381105</th>\n",
       "      <td>Male</td>\n",
       "      <td>&lt; 1 Year</td>\n",
       "      <td>No</td>\n",
       "    </tr>\n",
       "    <tr>\n",
       "      <th>381106</th>\n",
       "      <td>Male</td>\n",
       "      <td>&lt; 1 Year</td>\n",
       "      <td>No</td>\n",
       "    </tr>\n",
       "    <tr>\n",
       "      <th>381107</th>\n",
       "      <td>Female</td>\n",
       "      <td>&gt; 2 Years</td>\n",
       "      <td>Yes</td>\n",
       "    </tr>\n",
       "    <tr>\n",
       "      <th>381108</th>\n",
       "      <td>Male</td>\n",
       "      <td>1-2 Year</td>\n",
       "      <td>No</td>\n",
       "    </tr>\n",
       "  </tbody>\n",
       "</table>\n",
       "<p>381109 rows × 3 columns</p>\n",
       "</div>"
      ],
      "text/plain": [
       "        Gender Vehicle_Age Vehicle_Damage\n",
       "0         Male   > 2 Years            Yes\n",
       "1         Male    1-2 Year             No\n",
       "2         Male   > 2 Years            Yes\n",
       "3         Male    < 1 Year             No\n",
       "4       Female    < 1 Year             No\n",
       "...        ...         ...            ...\n",
       "381104    Male    1-2 Year             No\n",
       "381105    Male    < 1 Year             No\n",
       "381106    Male    < 1 Year             No\n",
       "381107  Female   > 2 Years            Yes\n",
       "381108    Male    1-2 Year             No\n",
       "\n",
       "[381109 rows x 3 columns]"
      ]
     },
     "execution_count": 9,
     "metadata": {},
     "output_type": "execute_result"
    }
   ],
   "source": [
    "print(data.select_dtypes(include = object).shape)\n",
    "data.select_dtypes(include = object)"
   ]
  },
  {
   "cell_type": "markdown",
   "metadata": {},
   "source": [
    "### Features & Target"
   ]
  },
  {
   "cell_type": "markdown",
   "metadata": {},
   "source": [
    "#### Features"
   ]
  },
  {
   "cell_type": "code",
   "execution_count": 10,
   "metadata": {
    "ExecuteTime": {
     "end_time": "2021-02-12T21:30:54.488198Z",
     "start_time": "2021-02-12T21:30:54.439329Z"
    }
   },
   "outputs": [
    {
     "name": "stdout",
     "output_type": "stream",
     "text": [
      "Lenghth:  7\n"
     ]
    },
    {
     "data": {
      "text/plain": [
       "['Age',\n",
       " 'Driving_License',\n",
       " 'Region_Code',\n",
       " 'Previously_Insured',\n",
       " 'Annual_Premium',\n",
       " 'Policy_Sales_Channel',\n",
       " 'Vintage']"
      ]
     },
     "execution_count": 10,
     "metadata": {},
     "output_type": "execute_result"
    }
   ],
   "source": [
    "features_num = list(data.select_dtypes(include = np.number).drop(columns = ['id', 'Response'], axis = 1).columns)\n",
    "print('Lenghth: ', len(features_num))\n",
    "features_num"
   ]
  },
  {
   "cell_type": "markdown",
   "metadata": {},
   "source": [
    "**The dataset has 7 numerical features.**"
   ]
  },
  {
   "cell_type": "markdown",
   "metadata": {},
   "source": [
    "- Region_Code & Policy Sales Channel is basically not a numeric data type, they are **categorical data that represent by numbers**. We need to do feature engineering to transform these features.\n",
    "- Driving_License & Previously_Insured are **categorical data that have been label encoded**.\n",
    "- Age, Annual_Premium, Vintage are numerical-discrete data types, we need to **check the distribution** of these features."
   ]
  },
  {
   "cell_type": "code",
   "execution_count": 11,
   "metadata": {
    "ExecuteTime": {
     "end_time": "2021-02-12T21:30:54.513130Z",
     "start_time": "2021-02-12T21:30:54.491189Z"
    }
   },
   "outputs": [
    {
     "name": "stdout",
     "output_type": "stream",
     "text": [
      "Lenghth:  3\n"
     ]
    },
    {
     "data": {
      "text/plain": [
       "['Gender', 'Vehicle_Age', 'Vehicle_Damage']"
      ]
     },
     "execution_count": 11,
     "metadata": {},
     "output_type": "execute_result"
    }
   ],
   "source": [
    "features_cat = list(data.select_dtypes(include = object).columns)\n",
    "print('Lenghth: ', len(features_cat))\n",
    "features_cat"
   ]
  },
  {
   "cell_type": "markdown",
   "metadata": {},
   "source": [
    "**The dataset has 3 categorical features.**"
   ]
  },
  {
   "cell_type": "markdown",
   "metadata": {},
   "source": [
    "- Vehicle_Age has natural, ordered quality, we can use an ordinal encoding.\n",
    "- Gender has 2 unique values, each of them is independent, we can use one-hot encoding.\n",
    "- Vehicle_Damage values are boolean, we can use label encoding (1 for yes, 0 for no)."
   ]
  },
  {
   "cell_type": "code",
   "execution_count": 12,
   "metadata": {
    "ExecuteTime": {
     "end_time": "2021-02-12T21:30:54.523104Z",
     "start_time": "2021-02-12T21:30:54.515126Z"
    }
   },
   "outputs": [
    {
     "name": "stdout",
     "output_type": "stream",
     "text": [
      "Lenghth:  10\n"
     ]
    },
    {
     "data": {
      "text/plain": [
       "['Age',\n",
       " 'Driving_License',\n",
       " 'Region_Code',\n",
       " 'Previously_Insured',\n",
       " 'Annual_Premium',\n",
       " 'Policy_Sales_Channel',\n",
       " 'Vintage',\n",
       " 'Gender',\n",
       " 'Vehicle_Age',\n",
       " 'Vehicle_Damage']"
      ]
     },
     "execution_count": 12,
     "metadata": {},
     "output_type": "execute_result"
    }
   ],
   "source": [
    "features_list = features_num + features_cat\n",
    "print('Lenghth: ', len(features_list))\n",
    "features_list"
   ]
  },
  {
   "cell_type": "markdown",
   "metadata": {},
   "source": [
    "**The data has a total of 10 features.**"
   ]
  },
  {
   "cell_type": "markdown",
   "metadata": {},
   "source": [
    "#### Target"
   ]
  },
  {
   "cell_type": "markdown",
   "metadata": {},
   "source": [
    "Target Variable: **'Response'** Column"
   ]
  },
  {
   "cell_type": "code",
   "execution_count": 13,
   "metadata": {
    "ExecuteTime": {
     "end_time": "2021-02-12T21:30:54.634805Z",
     "start_time": "2021-02-12T21:30:54.525100Z"
    }
   },
   "outputs": [
    {
     "name": "stdout",
     "output_type": "stream",
     "text": [
      "Unique Values: 2 \n",
      "Type: int64\n"
     ]
    },
    {
     "data": {
      "text/html": [
       "<div>\n",
       "<style scoped>\n",
       "    .dataframe tbody tr th:only-of-type {\n",
       "        vertical-align: middle;\n",
       "    }\n",
       "\n",
       "    .dataframe tbody tr th {\n",
       "        vertical-align: top;\n",
       "    }\n",
       "\n",
       "    .dataframe thead th {\n",
       "        text-align: right;\n",
       "    }\n",
       "</style>\n",
       "<table border=\"1\" class=\"dataframe\">\n",
       "  <thead>\n",
       "    <tr style=\"text-align: right;\">\n",
       "      <th></th>\n",
       "      <th>id</th>\n",
       "    </tr>\n",
       "    <tr>\n",
       "      <th>Response</th>\n",
       "      <th></th>\n",
       "    </tr>\n",
       "  </thead>\n",
       "  <tbody>\n",
       "    <tr>\n",
       "      <th>0</th>\n",
       "      <td>334399</td>\n",
       "    </tr>\n",
       "    <tr>\n",
       "      <th>1</th>\n",
       "      <td>46710</td>\n",
       "    </tr>\n",
       "  </tbody>\n",
       "</table>\n",
       "</div>"
      ],
      "text/plain": [
       "              id\n",
       "Response        \n",
       "0         334399\n",
       "1          46710"
      ]
     },
     "execution_count": 13,
     "metadata": {},
     "output_type": "execute_result"
    }
   ],
   "source": [
    "print('Unique Values:', data['Response'].nunique(), '\\nType:', data['Response'].dtypes)\n",
    "data.groupby(['Response']).count()[['id']]"
   ]
  },
  {
   "cell_type": "code",
   "execution_count": 14,
   "metadata": {
    "ExecuteTime": {
     "end_time": "2021-02-12T21:30:54.661734Z",
     "start_time": "2021-02-12T21:30:54.636799Z"
    }
   },
   "outputs": [
    {
     "name": "stdout",
     "output_type": "stream",
     "text": [
      "Conversion rate: 12.3 %\n"
     ]
    }
   ],
   "source": [
    "print('Conversion rate:', round(len(data[data['Response'] == 1]) * 100 / len(data), 1), '%')"
   ]
  },
  {
   "cell_type": "markdown",
   "metadata": {
    "ExecuteTime": {
     "end_time": "2021-02-01T01:53:19.045766Z",
     "start_time": "2021-02-01T01:53:19.035793Z"
    }
   },
   "source": [
    "**Target variable of the dataset consists of 2 categorical unique values, which means we will do binary classification.**"
   ]
  },
  {
   "cell_type": "markdown",
   "metadata": {},
   "source": [
    "## Data Cleansing"
   ]
  },
  {
   "cell_type": "markdown",
   "metadata": {},
   "source": [
    "### Missing Values"
   ]
  },
  {
   "cell_type": "code",
   "execution_count": 15,
   "metadata": {
    "ExecuteTime": {
     "end_time": "2021-02-12T21:30:54.867183Z",
     "start_time": "2021-02-12T21:30:54.850230Z"
    }
   },
   "outputs": [
    {
     "name": "stdout",
     "output_type": "stream",
     "text": [
      "Row counts: 381109 \n",
      "Column counts: 12 \n",
      "\n"
     ]
    },
    {
     "data": {
      "text/html": [
       "<div>\n",
       "<style scoped>\n",
       "    .dataframe tbody tr th:only-of-type {\n",
       "        vertical-align: middle;\n",
       "    }\n",
       "\n",
       "    .dataframe tbody tr th {\n",
       "        vertical-align: top;\n",
       "    }\n",
       "\n",
       "    .dataframe thead th {\n",
       "        text-align: right;\n",
       "    }\n",
       "</style>\n",
       "<table border=\"1\" class=\"dataframe\">\n",
       "  <thead>\n",
       "    <tr style=\"text-align: right;\">\n",
       "      <th></th>\n",
       "      <th>id</th>\n",
       "      <th>Gender</th>\n",
       "      <th>Age</th>\n",
       "      <th>Driving_License</th>\n",
       "      <th>Region_Code</th>\n",
       "      <th>Previously_Insured</th>\n",
       "      <th>Vehicle_Age</th>\n",
       "      <th>Vehicle_Damage</th>\n",
       "      <th>Annual_Premium</th>\n",
       "      <th>Policy_Sales_Channel</th>\n",
       "      <th>Vintage</th>\n",
       "      <th>Response</th>\n",
       "    </tr>\n",
       "  </thead>\n",
       "  <tbody>\n",
       "    <tr>\n",
       "      <th>0</th>\n",
       "      <td>1</td>\n",
       "      <td>Male</td>\n",
       "      <td>44</td>\n",
       "      <td>1</td>\n",
       "      <td>28.0</td>\n",
       "      <td>0</td>\n",
       "      <td>&gt; 2 Years</td>\n",
       "      <td>Yes</td>\n",
       "      <td>40454.0</td>\n",
       "      <td>26.0</td>\n",
       "      <td>217</td>\n",
       "      <td>1</td>\n",
       "    </tr>\n",
       "    <tr>\n",
       "      <th>1</th>\n",
       "      <td>2</td>\n",
       "      <td>Male</td>\n",
       "      <td>76</td>\n",
       "      <td>1</td>\n",
       "      <td>3.0</td>\n",
       "      <td>0</td>\n",
       "      <td>1-2 Year</td>\n",
       "      <td>No</td>\n",
       "      <td>33536.0</td>\n",
       "      <td>26.0</td>\n",
       "      <td>183</td>\n",
       "      <td>0</td>\n",
       "    </tr>\n",
       "    <tr>\n",
       "      <th>2</th>\n",
       "      <td>3</td>\n",
       "      <td>Male</td>\n",
       "      <td>47</td>\n",
       "      <td>1</td>\n",
       "      <td>28.0</td>\n",
       "      <td>0</td>\n",
       "      <td>&gt; 2 Years</td>\n",
       "      <td>Yes</td>\n",
       "      <td>38294.0</td>\n",
       "      <td>26.0</td>\n",
       "      <td>27</td>\n",
       "      <td>1</td>\n",
       "    </tr>\n",
       "    <tr>\n",
       "      <th>3</th>\n",
       "      <td>4</td>\n",
       "      <td>Male</td>\n",
       "      <td>21</td>\n",
       "      <td>1</td>\n",
       "      <td>11.0</td>\n",
       "      <td>1</td>\n",
       "      <td>&lt; 1 Year</td>\n",
       "      <td>No</td>\n",
       "      <td>28619.0</td>\n",
       "      <td>152.0</td>\n",
       "      <td>203</td>\n",
       "      <td>0</td>\n",
       "    </tr>\n",
       "    <tr>\n",
       "      <th>4</th>\n",
       "      <td>5</td>\n",
       "      <td>Female</td>\n",
       "      <td>29</td>\n",
       "      <td>1</td>\n",
       "      <td>41.0</td>\n",
       "      <td>1</td>\n",
       "      <td>&lt; 1 Year</td>\n",
       "      <td>No</td>\n",
       "      <td>27496.0</td>\n",
       "      <td>152.0</td>\n",
       "      <td>39</td>\n",
       "      <td>0</td>\n",
       "    </tr>\n",
       "  </tbody>\n",
       "</table>\n",
       "</div>"
      ],
      "text/plain": [
       "   id  Gender  Age  Driving_License  Region_Code  Previously_Insured  \\\n",
       "0   1    Male   44                1         28.0                   0   \n",
       "1   2    Male   76                1          3.0                   0   \n",
       "2   3    Male   47                1         28.0                   0   \n",
       "3   4    Male   21                1         11.0                   1   \n",
       "4   5  Female   29                1         41.0                   1   \n",
       "\n",
       "  Vehicle_Age Vehicle_Damage  Annual_Premium  Policy_Sales_Channel  Vintage  \\\n",
       "0   > 2 Years            Yes         40454.0                  26.0      217   \n",
       "1    1-2 Year             No         33536.0                  26.0      183   \n",
       "2   > 2 Years            Yes         38294.0                  26.0       27   \n",
       "3    < 1 Year             No         28619.0                 152.0      203   \n",
       "4    < 1 Year             No         27496.0                 152.0       39   \n",
       "\n",
       "   Response  \n",
       "0         1  \n",
       "1         0  \n",
       "2         1  \n",
       "3         0  \n",
       "4         0  "
      ]
     },
     "execution_count": 15,
     "metadata": {},
     "output_type": "execute_result"
    }
   ],
   "source": [
    "print('Row counts:', data.shape[0], '\\nColumn counts:', data.shape[1], '\\n')\n",
    "data.head()"
   ]
  },
  {
   "cell_type": "code",
   "execution_count": 16,
   "metadata": {
    "ExecuteTime": {
     "end_time": "2021-02-12T21:30:55.098564Z",
     "start_time": "2021-02-12T21:30:55.019777Z"
    }
   },
   "outputs": [
    {
     "name": "stdout",
     "output_type": "stream",
     "text": [
      "<class 'pandas.core.frame.DataFrame'>\n",
      "RangeIndex: 381109 entries, 0 to 381108\n",
      "Data columns (total 12 columns):\n",
      " #   Column                Non-Null Count   Dtype  \n",
      "---  ------                --------------   -----  \n",
      " 0   id                    381109 non-null  int64  \n",
      " 1   Gender                381109 non-null  object \n",
      " 2   Age                   381109 non-null  int64  \n",
      " 3   Driving_License       381109 non-null  int64  \n",
      " 4   Region_Code           381109 non-null  float64\n",
      " 5   Previously_Insured    381109 non-null  int64  \n",
      " 6   Vehicle_Age           381109 non-null  object \n",
      " 7   Vehicle_Damage        381109 non-null  object \n",
      " 8   Annual_Premium        381109 non-null  float64\n",
      " 9   Policy_Sales_Channel  381109 non-null  float64\n",
      " 10  Vintage               381109 non-null  int64  \n",
      " 11  Response              381109 non-null  int64  \n",
      "dtypes: float64(3), int64(6), object(3)\n",
      "memory usage: 34.9+ MB\n"
     ]
    }
   ],
   "source": [
    "data.info()"
   ]
  },
  {
   "cell_type": "code",
   "execution_count": 17,
   "metadata": {
    "ExecuteTime": {
     "end_time": "2021-02-12T21:30:55.241215Z",
     "start_time": "2021-02-12T21:30:55.173364Z"
    }
   },
   "outputs": [
    {
     "data": {
      "text/plain": [
       "id                      0\n",
       "Gender                  0\n",
       "Age                     0\n",
       "Driving_License         0\n",
       "Region_Code             0\n",
       "Previously_Insured      0\n",
       "Vehicle_Age             0\n",
       "Vehicle_Damage          0\n",
       "Annual_Premium          0\n",
       "Policy_Sales_Channel    0\n",
       "Vintage                 0\n",
       "Response                0\n",
       "dtype: int64"
      ]
     },
     "execution_count": 17,
     "metadata": {},
     "output_type": "execute_result"
    }
   ],
   "source": [
    "data.isnull().sum()"
   ]
  },
  {
   "cell_type": "markdown",
   "metadata": {},
   "source": [
    "**Dataset is clean from missing values.**"
   ]
  },
  {
   "cell_type": "markdown",
   "metadata": {},
   "source": [
    "### Invalid Values"
   ]
  },
  {
   "cell_type": "code",
   "execution_count": 18,
   "metadata": {
    "ExecuteTime": {
     "end_time": "2021-02-12T21:30:55.550356Z",
     "start_time": "2021-02-12T21:30:55.419706Z"
    }
   },
   "outputs": [
    {
     "data": {
      "text/plain": [
       "id                      381109\n",
       "Gender                       2\n",
       "Age                         66\n",
       "Driving_License              2\n",
       "Region_Code                 53\n",
       "Previously_Insured           2\n",
       "Vehicle_Age                  3\n",
       "Vehicle_Damage               2\n",
       "Annual_Premium           48838\n",
       "Policy_Sales_Channel       155\n",
       "Vintage                    290\n",
       "Response                     2\n",
       "dtype: int64"
      ]
     },
     "execution_count": 18,
     "metadata": {},
     "output_type": "execute_result"
    }
   ],
   "source": [
    "data.nunique()"
   ]
  },
  {
   "cell_type": "code",
   "execution_count": 19,
   "metadata": {
    "ExecuteTime": {
     "end_time": "2021-02-12T21:30:55.684030Z",
     "start_time": "2021-02-12T21:30:55.573296Z"
    }
   },
   "outputs": [
    {
     "name": "stdout",
     "output_type": "stream",
     "text": [
      "Unique Values: 2 \n",
      "Type: int64\n"
     ]
    },
    {
     "data": {
      "text/html": [
       "<div>\n",
       "<style scoped>\n",
       "    .dataframe tbody tr th:only-of-type {\n",
       "        vertical-align: middle;\n",
       "    }\n",
       "\n",
       "    .dataframe tbody tr th {\n",
       "        vertical-align: top;\n",
       "    }\n",
       "\n",
       "    .dataframe thead th {\n",
       "        text-align: right;\n",
       "    }\n",
       "</style>\n",
       "<table border=\"1\" class=\"dataframe\">\n",
       "  <thead>\n",
       "    <tr style=\"text-align: right;\">\n",
       "      <th></th>\n",
       "      <th>id</th>\n",
       "    </tr>\n",
       "    <tr>\n",
       "      <th>Driving_License</th>\n",
       "      <th></th>\n",
       "    </tr>\n",
       "  </thead>\n",
       "  <tbody>\n",
       "    <tr>\n",
       "      <th>0</th>\n",
       "      <td>812</td>\n",
       "    </tr>\n",
       "    <tr>\n",
       "      <th>1</th>\n",
       "      <td>380297</td>\n",
       "    </tr>\n",
       "  </tbody>\n",
       "</table>\n",
       "</div>"
      ],
      "text/plain": [
       "                     id\n",
       "Driving_License        \n",
       "0                   812\n",
       "1                380297"
      ]
     },
     "execution_count": 19,
     "metadata": {},
     "output_type": "execute_result"
    }
   ],
   "source": [
    "print('Unique Values:', data['Driving_License'].nunique(), '\\nType:', data['Driving_License'].dtypes)\n",
    "data.groupby(['Driving_License']).count()[['id']]"
   ]
  },
  {
   "cell_type": "code",
   "execution_count": 20,
   "metadata": {
    "ExecuteTime": {
     "end_time": "2021-02-12T21:30:55.879480Z",
     "start_time": "2021-02-12T21:30:55.754809Z"
    }
   },
   "outputs": [
    {
     "name": "stdout",
     "output_type": "stream",
     "text": [
      "Unique Values: 2 \n",
      "Type: int64\n"
     ]
    },
    {
     "data": {
      "text/html": [
       "<div>\n",
       "<style scoped>\n",
       "    .dataframe tbody tr th:only-of-type {\n",
       "        vertical-align: middle;\n",
       "    }\n",
       "\n",
       "    .dataframe tbody tr th {\n",
       "        vertical-align: top;\n",
       "    }\n",
       "\n",
       "    .dataframe thead th {\n",
       "        text-align: right;\n",
       "    }\n",
       "</style>\n",
       "<table border=\"1\" class=\"dataframe\">\n",
       "  <thead>\n",
       "    <tr style=\"text-align: right;\">\n",
       "      <th></th>\n",
       "      <th>id</th>\n",
       "    </tr>\n",
       "    <tr>\n",
       "      <th>Previously_Insured</th>\n",
       "      <th></th>\n",
       "    </tr>\n",
       "  </thead>\n",
       "  <tbody>\n",
       "    <tr>\n",
       "      <th>0</th>\n",
       "      <td>206481</td>\n",
       "    </tr>\n",
       "    <tr>\n",
       "      <th>1</th>\n",
       "      <td>174628</td>\n",
       "    </tr>\n",
       "  </tbody>\n",
       "</table>\n",
       "</div>"
      ],
      "text/plain": [
       "                        id\n",
       "Previously_Insured        \n",
       "0                   206481\n",
       "1                   174628"
      ]
     },
     "execution_count": 20,
     "metadata": {},
     "output_type": "execute_result"
    }
   ],
   "source": [
    "print('Unique Values:', data['Previously_Insured'].nunique(), '\\nType:', data['Previously_Insured'].dtypes)\n",
    "data.groupby(['Previously_Insured']).count()[['id']]"
   ]
  },
  {
   "cell_type": "code",
   "execution_count": 21,
   "metadata": {
    "ExecuteTime": {
     "end_time": "2021-02-12T21:30:56.099885Z",
     "start_time": "2021-02-12T21:30:55.969238Z"
    }
   },
   "outputs": [
    {
     "name": "stdout",
     "output_type": "stream",
     "text": [
      "Unique Values: 3 \n",
      "Type: object\n"
     ]
    },
    {
     "data": {
      "text/html": [
       "<div>\n",
       "<style scoped>\n",
       "    .dataframe tbody tr th:only-of-type {\n",
       "        vertical-align: middle;\n",
       "    }\n",
       "\n",
       "    .dataframe tbody tr th {\n",
       "        vertical-align: top;\n",
       "    }\n",
       "\n",
       "    .dataframe thead th {\n",
       "        text-align: right;\n",
       "    }\n",
       "</style>\n",
       "<table border=\"1\" class=\"dataframe\">\n",
       "  <thead>\n",
       "    <tr style=\"text-align: right;\">\n",
       "      <th></th>\n",
       "      <th>id</th>\n",
       "    </tr>\n",
       "    <tr>\n",
       "      <th>Vehicle_Age</th>\n",
       "      <th></th>\n",
       "    </tr>\n",
       "  </thead>\n",
       "  <tbody>\n",
       "    <tr>\n",
       "      <th>1-2 Year</th>\n",
       "      <td>200316</td>\n",
       "    </tr>\n",
       "    <tr>\n",
       "      <th>&lt; 1 Year</th>\n",
       "      <td>164786</td>\n",
       "    </tr>\n",
       "    <tr>\n",
       "      <th>&gt; 2 Years</th>\n",
       "      <td>16007</td>\n",
       "    </tr>\n",
       "  </tbody>\n",
       "</table>\n",
       "</div>"
      ],
      "text/plain": [
       "                 id\n",
       "Vehicle_Age        \n",
       "1-2 Year     200316\n",
       "< 1 Year     164786\n",
       "> 2 Years     16007"
      ]
     },
     "execution_count": 21,
     "metadata": {},
     "output_type": "execute_result"
    }
   ],
   "source": [
    "print('Unique Values:', data['Vehicle_Age'].nunique(), '\\nType:', data['Vehicle_Age'].dtypes)\n",
    "data.groupby(['Vehicle_Age']).count()[['id']]"
   ]
  },
  {
   "cell_type": "markdown",
   "metadata": {},
   "source": [
    "### Duplicate Rows"
   ]
  },
  {
   "cell_type": "code",
   "execution_count": 22,
   "metadata": {
    "ExecuteTime": {
     "end_time": "2021-02-12T21:30:56.464910Z",
     "start_time": "2021-02-12T21:30:56.207599Z"
    }
   },
   "outputs": [
    {
     "name": "stdout",
     "output_type": "stream",
     "text": [
      "Any duplicated rows?\n"
     ]
    },
    {
     "name": "stdout",
     "output_type": "stream",
     "text": [
      "No\n"
     ]
    }
   ],
   "source": [
    "print('Any duplicated rows?')\n",
    "print('No') if data.duplicated().values.any() == False else print('Yes')"
   ]
  },
  {
   "cell_type": "markdown",
   "metadata": {},
   "source": [
    "## Feature Engineering"
   ]
  },
  {
   "cell_type": "markdown",
   "metadata": {},
   "source": [
    "**Check Features Distribution**"
   ]
  },
  {
   "cell_type": "markdown",
   "metadata": {},
   "source": [
    "**Numerical Data**"
   ]
  },
  {
   "cell_type": "code",
   "execution_count": 23,
   "metadata": {
    "ExecuteTime": {
     "end_time": "2021-02-12T21:30:58.126466Z",
     "start_time": "2021-02-12T21:30:56.547689Z"
    }
   },
   "outputs": [
    {
     "name": "stderr",
     "output_type": "stream",
     "text": [
      "C:\\Users\\Samrudhhi\\AppData\\Local\\Temp\\ipykernel_1640\\3407101694.py:13: UserWarning: Tight layout not applied. tight_layout cannot make Axes width small enough to accommodate all Axes decorations\n",
      "  plt.tight_layout()\n"
     ]
    },
    {
     "data": {
      "image/png": "[encoded data removed]",
      "text/plain": [
       "<Figure size 640x480 with 7 Axes>"
      ]
     },
     "metadata": {},
     "output_type": "display_data"
    }
   ],
   "source": [
    "import os\n",
    "import seaborn as sns\n",
    "import matplotlib.pyplot as plt\n",
    "\n",
    "# Loop through numerical features and plot boxplots\n",
    "for i in range(len(features_num)):\n",
    "    plt.subplot(1, 7, i + 1)\n",
    "    sns.boxplot(\n",
    "        y=data[features_num[i]],\n",
    "        color='blue'\n",
    "    )\n",
    "\n",
    "plt.tight_layout()\n",
    "\n",
    "# ✅ Ensure folder exists before saving\n",
    "os.makedirs(\"fig/stage_1\", exist_ok=True)\n",
    "\n",
    "# Save the figure\n",
    "plt.savefig('fig/stage_1/num_feature_distribution_boxplot.png', bbox_inches='tight')\n",
    "plt.show()\n"
   ]
  },
  {
   "cell_type": "markdown",
   "metadata": {},
   "source": [
    "Annual_Premium have a lot of outlier in the upper range, this can be solved using IQR Method or log (if possible)."
   ]
  },
  {
   "cell_type": "markdown",
   "metadata": {},
   "source": [
    "**Non-Numerical Data (Categorical)**"
   ]
  },
  {
   "cell_type": "code",
   "execution_count": 24,
   "metadata": {
    "ExecuteTime": {
     "end_time": "2021-02-12T21:30:59.616479Z",
     "start_time": "2021-02-12T21:30:58.128458Z"
    }
   },
   "outputs": [
    {
     "data": {
      "image/png": "[encoded data removed]",
      "text/plain": [
       "<Figure size 2070x500 with 3 Axes>"
      ]
     },
     "metadata": {},
     "output_type": "display_data"
    }
   ],
   "source": [
    "plt.figure(figsize = (20.7, 5))\n",
    "\n",
    "for i in range(0, len(features_cat)):\n",
    "    plt.subplot(1, 3, i + 1)\n",
    "    sns.countplot(\n",
    "        x = data[features_cat[i]],\n",
    "        color = 'blue'\n",
    "    )\n",
    "\n",
    "plt.tight_layout()\n",
    "\n",
    "plt.savefig('fig/stage_1/non-num feature distribution countplot.png', bbox_inches = 'tight')"
   ]
  },
  {
   "cell_type": "code",
   "execution_count": 25,
   "metadata": {
    "ExecuteTime": {
     "end_time": "2021-02-12T21:30:59.663353Z",
     "start_time": "2021-02-12T21:30:59.618474Z"
    }
   },
   "outputs": [
    {
     "data": {
      "text/html": [
       "<div>\n",
       "<style scoped>\n",
       "    .dataframe tbody tr th:only-of-type {\n",
       "        vertical-align: middle;\n",
       "    }\n",
       "\n",
       "    .dataframe tbody tr th {\n",
       "        vertical-align: top;\n",
       "    }\n",
       "\n",
       "    .dataframe thead th {\n",
       "        text-align: right;\n",
       "    }\n",
       "</style>\n",
       "<table border=\"1\" class=\"dataframe\">\n",
       "  <thead>\n",
       "    <tr style=\"text-align: right;\">\n",
       "      <th></th>\n",
       "      <th>id</th>\n",
       "      <th>Gender</th>\n",
       "      <th>Age</th>\n",
       "      <th>Driving_License</th>\n",
       "      <th>Region_Code</th>\n",
       "      <th>Previously_Insured</th>\n",
       "      <th>Vehicle_Age</th>\n",
       "      <th>Vehicle_Damage</th>\n",
       "      <th>Annual_Premium</th>\n",
       "      <th>Policy_Sales_Channel</th>\n",
       "      <th>Vintage</th>\n",
       "      <th>Response</th>\n",
       "    </tr>\n",
       "  </thead>\n",
       "  <tbody>\n",
       "    <tr>\n",
       "      <th>0</th>\n",
       "      <td>1</td>\n",
       "      <td>Male</td>\n",
       "      <td>44</td>\n",
       "      <td>1</td>\n",
       "      <td>28.0</td>\n",
       "      <td>0</td>\n",
       "      <td>&gt; 2 Years</td>\n",
       "      <td>Yes</td>\n",
       "      <td>40454.0</td>\n",
       "      <td>26.0</td>\n",
       "      <td>217</td>\n",
       "      <td>1</td>\n",
       "    </tr>\n",
       "    <tr>\n",
       "      <th>1</th>\n",
       "      <td>2</td>\n",
       "      <td>Male</td>\n",
       "      <td>76</td>\n",
       "      <td>1</td>\n",
       "      <td>3.0</td>\n",
       "      <td>0</td>\n",
       "      <td>1-2 Year</td>\n",
       "      <td>No</td>\n",
       "      <td>33536.0</td>\n",
       "      <td>26.0</td>\n",
       "      <td>183</td>\n",
       "      <td>0</td>\n",
       "    </tr>\n",
       "    <tr>\n",
       "      <th>2</th>\n",
       "      <td>3</td>\n",
       "      <td>Male</td>\n",
       "      <td>47</td>\n",
       "      <td>1</td>\n",
       "      <td>28.0</td>\n",
       "      <td>0</td>\n",
       "      <td>&gt; 2 Years</td>\n",
       "      <td>Yes</td>\n",
       "      <td>38294.0</td>\n",
       "      <td>26.0</td>\n",
       "      <td>27</td>\n",
       "      <td>1</td>\n",
       "    </tr>\n",
       "    <tr>\n",
       "      <th>3</th>\n",
       "      <td>4</td>\n",
       "      <td>Male</td>\n",
       "      <td>21</td>\n",
       "      <td>1</td>\n",
       "      <td>11.0</td>\n",
       "      <td>1</td>\n",
       "      <td>&lt; 1 Year</td>\n",
       "      <td>No</td>\n",
       "      <td>28619.0</td>\n",
       "      <td>152.0</td>\n",
       "      <td>203</td>\n",
       "      <td>0</td>\n",
       "    </tr>\n",
       "    <tr>\n",
       "      <th>4</th>\n",
       "      <td>5</td>\n",
       "      <td>Female</td>\n",
       "      <td>29</td>\n",
       "      <td>1</td>\n",
       "      <td>41.0</td>\n",
       "      <td>1</td>\n",
       "      <td>&lt; 1 Year</td>\n",
       "      <td>No</td>\n",
       "      <td>27496.0</td>\n",
       "      <td>152.0</td>\n",
       "      <td>39</td>\n",
       "      <td>0</td>\n",
       "    </tr>\n",
       "    <tr>\n",
       "      <th>...</th>\n",
       "      <td>...</td>\n",
       "      <td>...</td>\n",
       "      <td>...</td>\n",
       "      <td>...</td>\n",
       "      <td>...</td>\n",
       "      <td>...</td>\n",
       "      <td>...</td>\n",
       "      <td>...</td>\n",
       "      <td>...</td>\n",
       "      <td>...</td>\n",
       "      <td>...</td>\n",
       "      <td>...</td>\n",
       "    </tr>\n",
       "    <tr>\n",
       "      <th>381104</th>\n",
       "      <td>381105</td>\n",
       "      <td>Male</td>\n",
       "      <td>74</td>\n",
       "      <td>1</td>\n",
       "      <td>26.0</td>\n",
       "      <td>1</td>\n",
       "      <td>1-2 Year</td>\n",
       "      <td>No</td>\n",
       "      <td>30170.0</td>\n",
       "      <td>26.0</td>\n",
       "      <td>88</td>\n",
       "      <td>0</td>\n",
       "    </tr>\n",
       "    <tr>\n",
       "      <th>381105</th>\n",
       "      <td>381106</td>\n",
       "      <td>Male</td>\n",
       "      <td>30</td>\n",
       "      <td>1</td>\n",
       "      <td>37.0</td>\n",
       "      <td>1</td>\n",
       "      <td>&lt; 1 Year</td>\n",
       "      <td>No</td>\n",
       "      <td>40016.0</td>\n",
       "      <td>152.0</td>\n",
       "      <td>131</td>\n",
       "      <td>0</td>\n",
       "    </tr>\n",
       "    <tr>\n",
       "      <th>381106</th>\n",
       "      <td>381107</td>\n",
       "      <td>Male</td>\n",
       "      <td>21</td>\n",
       "      <td>1</td>\n",
       "      <td>30.0</td>\n",
       "      <td>1</td>\n",
       "      <td>&lt; 1 Year</td>\n",
       "      <td>No</td>\n",
       "      <td>35118.0</td>\n",
       "      <td>160.0</td>\n",
       "      <td>161</td>\n",
       "      <td>0</td>\n",
       "    </tr>\n",
       "    <tr>\n",
       "      <th>381107</th>\n",
       "      <td>381108</td>\n",
       "      <td>Female</td>\n",
       "      <td>68</td>\n",
       "      <td>1</td>\n",
       "      <td>14.0</td>\n",
       "      <td>0</td>\n",
       "      <td>&gt; 2 Years</td>\n",
       "      <td>Yes</td>\n",
       "      <td>44617.0</td>\n",
       "      <td>124.0</td>\n",
       "      <td>74</td>\n",
       "      <td>0</td>\n",
       "    </tr>\n",
       "    <tr>\n",
       "      <th>381108</th>\n",
       "      <td>381109</td>\n",
       "      <td>Male</td>\n",
       "      <td>46</td>\n",
       "      <td>1</td>\n",
       "      <td>29.0</td>\n",
       "      <td>0</td>\n",
       "      <td>1-2 Year</td>\n",
       "      <td>No</td>\n",
       "      <td>41777.0</td>\n",
       "      <td>26.0</td>\n",
       "      <td>237</td>\n",
       "      <td>0</td>\n",
       "    </tr>\n",
       "  </tbody>\n",
       "</table>\n",
       "<p>381109 rows × 12 columns</p>\n",
       "</div>"
      ],
      "text/plain": [
       "            id  Gender  Age  Driving_License  Region_Code  Previously_Insured  \\\n",
       "0            1    Male   44                1         28.0                   0   \n",
       "1            2    Male   76                1          3.0                   0   \n",
       "2            3    Male   47                1         28.0                   0   \n",
       "3            4    Male   21                1         11.0                   1   \n",
       "4            5  Female   29                1         41.0                   1   \n",
       "...        ...     ...  ...              ...          ...                 ...   \n",
       "381104  381105    Male   74                1         26.0                   1   \n",
       "381105  381106    Male   30                1         37.0                   1   \n",
       "381106  381107    Male   21                1         30.0                   1   \n",
       "381107  381108  Female   68                1         14.0                   0   \n",
       "381108  381109    Male   46                1         29.0                   0   \n",
       "\n",
       "       Vehicle_Age Vehicle_Damage  Annual_Premium  Policy_Sales_Channel  \\\n",
       "0        > 2 Years            Yes         40454.0                  26.0   \n",
       "1         1-2 Year             No         33536.0                  26.0   \n",
       "2        > 2 Years            Yes         38294.0                  26.0   \n",
       "3         < 1 Year             No         28619.0                 152.0   \n",
       "4         < 1 Year             No         27496.0                 152.0   \n",
       "...            ...            ...             ...                   ...   \n",
       "381104    1-2 Year             No         30170.0                  26.0   \n",
       "381105    < 1 Year             No         40016.0                 152.0   \n",
       "381106    < 1 Year             No         35118.0                 160.0   \n",
       "381107   > 2 Years            Yes         44617.0                 124.0   \n",
       "381108    1-2 Year             No         41777.0                  26.0   \n",
       "\n",
       "        Vintage  Response  \n",
       "0           217         1  \n",
       "1           183         0  \n",
       "2            27         1  \n",
       "3           203         0  \n",
       "4            39         0  \n",
       "...         ...       ...  \n",
       "381104       88         0  \n",
       "381105      131         0  \n",
       "381106      161         0  \n",
       "381107       74         0  \n",
       "381108      237         0  \n",
       "\n",
       "[381109 rows x 12 columns]"
      ]
     },
     "execution_count": 25,
     "metadata": {},
     "output_type": "execute_result"
    }
   ],
   "source": [
    "data_preprocess = data.copy()\n",
    "data_preprocess"
   ]
  },
  {
   "cell_type": "markdown",
   "metadata": {},
   "source": [
    "### We will use dataframe: data_preprocess for next stage."
   ]
  },
  {
   "cell_type": "markdown",
   "metadata": {},
   "source": [
    "### Gender"
   ]
  },
  {
   "cell_type": "code",
   "execution_count": 26,
   "metadata": {
    "ExecuteTime": {
     "end_time": "2021-02-12T21:30:59.713220Z",
     "start_time": "2021-02-12T21:30:59.665348Z"
    }
   },
   "outputs": [
    {
     "data": {
      "text/plain": [
       "Gender\n",
       "Male      206089\n",
       "Female    175020\n",
       "Name: count, dtype: int64"
      ]
     },
     "execution_count": 26,
     "metadata": {},
     "output_type": "execute_result"
    }
   ],
   "source": [
    "data_preprocess['Gender'].value_counts()"
   ]
  },
  {
   "cell_type": "code",
   "execution_count": 27,
   "metadata": {
    "ExecuteTime": {
     "end_time": "2021-02-12T21:30:59.787021Z",
     "start_time": "2021-02-12T21:30:59.715214Z"
    }
   },
   "outputs": [],
   "source": [
    "dummies_Gender = pd.get_dummies(data_preprocess['Gender'], prefix = 'Gender')\n",
    "data_preprocess = pd.concat([data_preprocess, dummies_Gender], axis = 1)"
   ]
  },
  {
   "cell_type": "code",
   "execution_count": 28,
   "metadata": {
    "ExecuteTime": {
     "end_time": "2021-02-12T21:30:59.862851Z",
     "start_time": "2021-02-12T21:30:59.789017Z"
    }
   },
   "outputs": [
    {
     "data": {
      "text/html": [
       "<div>\n",
       "<style scoped>\n",
       "    .dataframe tbody tr th:only-of-type {\n",
       "        vertical-align: middle;\n",
       "    }\n",
       "\n",
       "    .dataframe tbody tr th {\n",
       "        vertical-align: top;\n",
       "    }\n",
       "\n",
       "    .dataframe thead th {\n",
       "        text-align: right;\n",
       "    }\n",
       "</style>\n",
       "<table border=\"1\" class=\"dataframe\">\n",
       "  <thead>\n",
       "    <tr style=\"text-align: right;\">\n",
       "      <th></th>\n",
       "      <th>Gender</th>\n",
       "      <th>Gender_Male</th>\n",
       "      <th>Gender_Female</th>\n",
       "    </tr>\n",
       "  </thead>\n",
       "  <tbody>\n",
       "    <tr>\n",
       "      <th>0</th>\n",
       "      <td>Male</td>\n",
       "      <td>True</td>\n",
       "      <td>False</td>\n",
       "    </tr>\n",
       "    <tr>\n",
       "      <th>1</th>\n",
       "      <td>Male</td>\n",
       "      <td>True</td>\n",
       "      <td>False</td>\n",
       "    </tr>\n",
       "    <tr>\n",
       "      <th>2</th>\n",
       "      <td>Male</td>\n",
       "      <td>True</td>\n",
       "      <td>False</td>\n",
       "    </tr>\n",
       "    <tr>\n",
       "      <th>3</th>\n",
       "      <td>Male</td>\n",
       "      <td>True</td>\n",
       "      <td>False</td>\n",
       "    </tr>\n",
       "    <tr>\n",
       "      <th>4</th>\n",
       "      <td>Female</td>\n",
       "      <td>False</td>\n",
       "      <td>True</td>\n",
       "    </tr>\n",
       "  </tbody>\n",
       "</table>\n",
       "</div>"
      ],
      "text/plain": [
       "   Gender  Gender_Male  Gender_Female\n",
       "0    Male         True          False\n",
       "1    Male         True          False\n",
       "2    Male         True          False\n",
       "3    Male         True          False\n",
       "4  Female        False           True"
      ]
     },
     "execution_count": 28,
     "metadata": {},
     "output_type": "execute_result"
    }
   ],
   "source": [
    "data_preprocess[['Gender', 'Gender_Male', 'Gender_Female']].head()"
   ]
  },
  {
   "cell_type": "markdown",
   "metadata": {},
   "source": [
    "### Age"
   ]
  },
  {
   "cell_type": "code",
   "execution_count": 29,
   "metadata": {
    "ExecuteTime": {
     "end_time": "2021-02-12T21:30:59.885758Z",
     "start_time": "2021-02-12T21:30:59.864814Z"
    }
   },
   "outputs": [
    {
     "data": {
      "text/plain": [
       "count    381109.000000\n",
       "mean         38.822584\n",
       "std          15.511611\n",
       "min          20.000000\n",
       "25%          25.000000\n",
       "50%          36.000000\n",
       "75%          49.000000\n",
       "max          85.000000\n",
       "Name: Age, dtype: float64"
      ]
     },
     "execution_count": 29,
     "metadata": {},
     "output_type": "execute_result"
    }
   ],
   "source": [
    "data_preprocess['Age'].describe()"
   ]
  },
  {
   "cell_type": "markdown",
   "metadata": {},
   "source": [
    "### Driving_License"
   ]
  },
  {
   "cell_type": "code",
   "execution_count": 30,
   "metadata": {
    "ExecuteTime": {
     "end_time": "2021-02-12T21:30:59.899755Z",
     "start_time": "2021-02-12T21:30:59.888750Z"
    }
   },
   "outputs": [
    {
     "data": {
      "text/plain": [
       "Driving_License\n",
       "1    380297\n",
       "0       812\n",
       "Name: count, dtype: int64"
      ]
     },
     "execution_count": 30,
     "metadata": {},
     "output_type": "execute_result"
    }
   ],
   "source": [
    "data_preprocess['Driving_License'].value_counts()"
   ]
  },
  {
   "cell_type": "markdown",
   "metadata": {},
   "source": [
    "### Region_Code"
   ]
  },
  {
   "cell_type": "markdown",
   "metadata": {},
   "source": [
    "- https://contrib.scikit-learn.org/category_encoders/targetencoder.html#\n",
    "- We will use Target encoding for Region_Code and Policy_Sales Channel"
   ]
  },
  {
   "cell_type": "code",
   "execution_count": 31,
   "metadata": {
    "ExecuteTime": {
     "end_time": "2021-02-12T21:31:00.482163Z",
     "start_time": "2021-02-12T21:30:59.901716Z"
    }
   },
   "outputs": [],
   "source": [
    "te = TargetEncoder()\n",
    "data_preprocess['Region_Code_Encoding'] = te.fit_transform(data_preprocess['Region_Code'].astype(str), data_preprocess['Response'])"
   ]
  },
  {
   "cell_type": "code",
   "execution_count": 32,
   "metadata": {
    "ExecuteTime": {
     "end_time": "2021-02-12T21:31:00.522057Z",
     "start_time": "2021-02-12T21:31:00.484157Z"
    }
   },
   "outputs": [
    {
     "data": {
      "text/html": [
       "<div>\n",
       "<style scoped>\n",
       "    .dataframe tbody tr th:only-of-type {\n",
       "        vertical-align: middle;\n",
       "    }\n",
       "\n",
       "    .dataframe tbody tr th {\n",
       "        vertical-align: top;\n",
       "    }\n",
       "\n",
       "    .dataframe thead th {\n",
       "        text-align: right;\n",
       "    }\n",
       "</style>\n",
       "<table border=\"1\" class=\"dataframe\">\n",
       "  <thead>\n",
       "    <tr style=\"text-align: right;\">\n",
       "      <th></th>\n",
       "      <th>Region_Code</th>\n",
       "      <th>Response</th>\n",
       "      <th>Region_Code_Encoding</th>\n",
       "    </tr>\n",
       "  </thead>\n",
       "  <tbody>\n",
       "    <tr>\n",
       "      <th>0</th>\n",
       "      <td>28.0</td>\n",
       "      <td>1</td>\n",
       "      <td>0.187163</td>\n",
       "    </tr>\n",
       "    <tr>\n",
       "      <th>1</th>\n",
       "      <td>3.0</td>\n",
       "      <td>0</td>\n",
       "      <td>0.127662</td>\n",
       "    </tr>\n",
       "    <tr>\n",
       "      <th>2</th>\n",
       "      <td>28.0</td>\n",
       "      <td>1</td>\n",
       "      <td>0.187163</td>\n",
       "    </tr>\n",
       "    <tr>\n",
       "      <th>3</th>\n",
       "      <td>11.0</td>\n",
       "      <td>0</td>\n",
       "      <td>0.112760</td>\n",
       "    </tr>\n",
       "    <tr>\n",
       "      <th>4</th>\n",
       "      <td>41.0</td>\n",
       "      <td>0</td>\n",
       "      <td>0.121776</td>\n",
       "    </tr>\n",
       "  </tbody>\n",
       "</table>\n",
       "</div>"
      ],
      "text/plain": [
       "   Region_Code  Response  Region_Code_Encoding\n",
       "0         28.0         1              0.187163\n",
       "1          3.0         0              0.127662\n",
       "2         28.0         1              0.187163\n",
       "3         11.0         0              0.112760\n",
       "4         41.0         0              0.121776"
      ]
     },
     "execution_count": 32,
     "metadata": {},
     "output_type": "execute_result"
    }
   ],
   "source": [
    "data_preprocess[['Region_Code', 'Response', 'Region_Code_Encoding']].head()"
   ]
  },
  {
   "cell_type": "markdown",
   "metadata": {},
   "source": [
    "#### Later for predicting new test data"
   ]
  },
  {
   "cell_type": "code",
   "execution_count": 33,
   "metadata": {
    "ExecuteTime": {
     "end_time": "2021-02-12T21:31:00.711549Z",
     "start_time": "2021-02-12T21:31:00.524050Z"
    }
   },
   "outputs": [
    {
     "data": {
      "text/html": [
       "<div>\n",
       "<style scoped>\n",
       "    .dataframe tbody tr th:only-of-type {\n",
       "        vertical-align: middle;\n",
       "    }\n",
       "\n",
       "    .dataframe tbody tr th {\n",
       "        vertical-align: top;\n",
       "    }\n",
       "\n",
       "    .dataframe thead th {\n",
       "        text-align: right;\n",
       "    }\n",
       "</style>\n",
       "<table border=\"1\" class=\"dataframe\">\n",
       "  <thead>\n",
       "    <tr style=\"text-align: right;\">\n",
       "      <th></th>\n",
       "      <th>id</th>\n",
       "      <th>Gender</th>\n",
       "      <th>Age</th>\n",
       "      <th>Driving_License</th>\n",
       "      <th>Region_Code</th>\n",
       "      <th>Previously_Insured</th>\n",
       "      <th>Vehicle_Age</th>\n",
       "      <th>Vehicle_Damage</th>\n",
       "      <th>Annual_Premium</th>\n",
       "      <th>Policy_Sales_Channel</th>\n",
       "      <th>Vintage</th>\n",
       "      <th>Response</th>\n",
       "      <th>Gender_Female</th>\n",
       "      <th>Gender_Male</th>\n",
       "      <th>Region_Code_Encoding</th>\n",
       "    </tr>\n",
       "  </thead>\n",
       "  <tbody>\n",
       "    <tr>\n",
       "      <th>181</th>\n",
       "      <td>182</td>\n",
       "      <td>Male</td>\n",
       "      <td>52</td>\n",
       "      <td>1</td>\n",
       "      <td>0.0</td>\n",
       "      <td>0</td>\n",
       "      <td>1-2 Year</td>\n",
       "      <td>Yes</td>\n",
       "      <td>2630.0</td>\n",
       "      <td>124.0</td>\n",
       "      <td>89</td>\n",
       "      <td>0</td>\n",
       "      <td>False</td>\n",
       "      <td>True</td>\n",
       "      <td>0.086096</td>\n",
       "    </tr>\n",
       "    <tr>\n",
       "      <th>185</th>\n",
       "      <td>186</td>\n",
       "      <td>Male</td>\n",
       "      <td>52</td>\n",
       "      <td>1</td>\n",
       "      <td>0.0</td>\n",
       "      <td>1</td>\n",
       "      <td>1-2 Year</td>\n",
       "      <td>No</td>\n",
       "      <td>2630.0</td>\n",
       "      <td>26.0</td>\n",
       "      <td>134</td>\n",
       "      <td>0</td>\n",
       "      <td>False</td>\n",
       "      <td>True</td>\n",
       "      <td>0.086096</td>\n",
       "    </tr>\n",
       "    <tr>\n",
       "      <th>232</th>\n",
       "      <td>233</td>\n",
       "      <td>Male</td>\n",
       "      <td>53</td>\n",
       "      <td>1</td>\n",
       "      <td>0.0</td>\n",
       "      <td>0</td>\n",
       "      <td>1-2 Year</td>\n",
       "      <td>Yes</td>\n",
       "      <td>2630.0</td>\n",
       "      <td>26.0</td>\n",
       "      <td>69</td>\n",
       "      <td>0</td>\n",
       "      <td>False</td>\n",
       "      <td>True</td>\n",
       "      <td>0.086096</td>\n",
       "    </tr>\n",
       "    <tr>\n",
       "      <th>710</th>\n",
       "      <td>711</td>\n",
       "      <td>Female</td>\n",
       "      <td>46</td>\n",
       "      <td>1</td>\n",
       "      <td>0.0</td>\n",
       "      <td>0</td>\n",
       "      <td>1-2 Year</td>\n",
       "      <td>Yes</td>\n",
       "      <td>2630.0</td>\n",
       "      <td>47.0</td>\n",
       "      <td>292</td>\n",
       "      <td>0</td>\n",
       "      <td>True</td>\n",
       "      <td>False</td>\n",
       "      <td>0.086096</td>\n",
       "    </tr>\n",
       "    <tr>\n",
       "      <th>1500</th>\n",
       "      <td>1501</td>\n",
       "      <td>Male</td>\n",
       "      <td>38</td>\n",
       "      <td>1</td>\n",
       "      <td>0.0</td>\n",
       "      <td>1</td>\n",
       "      <td>1-2 Year</td>\n",
       "      <td>No</td>\n",
       "      <td>2630.0</td>\n",
       "      <td>26.0</td>\n",
       "      <td>107</td>\n",
       "      <td>0</td>\n",
       "      <td>False</td>\n",
       "      <td>True</td>\n",
       "      <td>0.086096</td>\n",
       "    </tr>\n",
       "    <tr>\n",
       "      <th>...</th>\n",
       "      <td>...</td>\n",
       "      <td>...</td>\n",
       "      <td>...</td>\n",
       "      <td>...</td>\n",
       "      <td>...</td>\n",
       "      <td>...</td>\n",
       "      <td>...</td>\n",
       "      <td>...</td>\n",
       "      <td>...</td>\n",
       "      <td>...</td>\n",
       "      <td>...</td>\n",
       "      <td>...</td>\n",
       "      <td>...</td>\n",
       "      <td>...</td>\n",
       "      <td>...</td>\n",
       "    </tr>\n",
       "    <tr>\n",
       "      <th>377620</th>\n",
       "      <td>377621</td>\n",
       "      <td>Female</td>\n",
       "      <td>36</td>\n",
       "      <td>1</td>\n",
       "      <td>52.0</td>\n",
       "      <td>0</td>\n",
       "      <td>1-2 Year</td>\n",
       "      <td>Yes</td>\n",
       "      <td>2630.0</td>\n",
       "      <td>156.0</td>\n",
       "      <td>287</td>\n",
       "      <td>0</td>\n",
       "      <td>True</td>\n",
       "      <td>False</td>\n",
       "      <td>0.123596</td>\n",
       "    </tr>\n",
       "    <tr>\n",
       "      <th>379190</th>\n",
       "      <td>379191</td>\n",
       "      <td>Female</td>\n",
       "      <td>52</td>\n",
       "      <td>1</td>\n",
       "      <td>52.0</td>\n",
       "      <td>0</td>\n",
       "      <td>1-2 Year</td>\n",
       "      <td>No</td>\n",
       "      <td>38666.0</td>\n",
       "      <td>124.0</td>\n",
       "      <td>76</td>\n",
       "      <td>0</td>\n",
       "      <td>True</td>\n",
       "      <td>False</td>\n",
       "      <td>0.123596</td>\n",
       "    </tr>\n",
       "    <tr>\n",
       "      <th>379972</th>\n",
       "      <td>379973</td>\n",
       "      <td>Male</td>\n",
       "      <td>52</td>\n",
       "      <td>1</td>\n",
       "      <td>52.0</td>\n",
       "      <td>0</td>\n",
       "      <td>1-2 Year</td>\n",
       "      <td>Yes</td>\n",
       "      <td>74788.0</td>\n",
       "      <td>26.0</td>\n",
       "      <td>231</td>\n",
       "      <td>0</td>\n",
       "      <td>False</td>\n",
       "      <td>True</td>\n",
       "      <td>0.123596</td>\n",
       "    </tr>\n",
       "    <tr>\n",
       "      <th>380255</th>\n",
       "      <td>380256</td>\n",
       "      <td>Male</td>\n",
       "      <td>65</td>\n",
       "      <td>1</td>\n",
       "      <td>52.0</td>\n",
       "      <td>0</td>\n",
       "      <td>&gt; 2 Years</td>\n",
       "      <td>Yes</td>\n",
       "      <td>37150.0</td>\n",
       "      <td>163.0</td>\n",
       "      <td>93</td>\n",
       "      <td>1</td>\n",
       "      <td>False</td>\n",
       "      <td>True</td>\n",
       "      <td>0.123596</td>\n",
       "    </tr>\n",
       "    <tr>\n",
       "      <th>380390</th>\n",
       "      <td>380391</td>\n",
       "      <td>Female</td>\n",
       "      <td>23</td>\n",
       "      <td>1</td>\n",
       "      <td>52.0</td>\n",
       "      <td>1</td>\n",
       "      <td>&lt; 1 Year</td>\n",
       "      <td>No</td>\n",
       "      <td>45008.0</td>\n",
       "      <td>152.0</td>\n",
       "      <td>228</td>\n",
       "      <td>0</td>\n",
       "      <td>True</td>\n",
       "      <td>False</td>\n",
       "      <td>0.123596</td>\n",
       "    </tr>\n",
       "  </tbody>\n",
       "</table>\n",
       "<p>381109 rows × 15 columns</p>\n",
       "</div>"
      ],
      "text/plain": [
       "            id  Gender  Age  Driving_License  Region_Code  Previously_Insured  \\\n",
       "181        182    Male   52                1          0.0                   0   \n",
       "185        186    Male   52                1          0.0                   1   \n",
       "232        233    Male   53                1          0.0                   0   \n",
       "710        711  Female   46                1          0.0                   0   \n",
       "1500      1501    Male   38                1          0.0                   1   \n",
       "...        ...     ...  ...              ...          ...                 ...   \n",
       "377620  377621  Female   36                1         52.0                   0   \n",
       "379190  379191  Female   52                1         52.0                   0   \n",
       "379972  379973    Male   52                1         52.0                   0   \n",
       "380255  380256    Male   65                1         52.0                   0   \n",
       "380390  380391  Female   23                1         52.0                   1   \n",
       "\n",
       "       Vehicle_Age Vehicle_Damage  Annual_Premium  Policy_Sales_Channel  \\\n",
       "181       1-2 Year            Yes          2630.0                 124.0   \n",
       "185       1-2 Year             No          2630.0                  26.0   \n",
       "232       1-2 Year            Yes          2630.0                  26.0   \n",
       "710       1-2 Year            Yes          2630.0                  47.0   \n",
       "1500      1-2 Year             No          2630.0                  26.0   \n",
       "...            ...            ...             ...                   ...   \n",
       "377620    1-2 Year            Yes          2630.0                 156.0   \n",
       "379190    1-2 Year             No         38666.0                 124.0   \n",
       "379972    1-2 Year            Yes         74788.0                  26.0   \n",
       "380255   > 2 Years            Yes         37150.0                 163.0   \n",
       "380390    < 1 Year             No         45008.0                 152.0   \n",
       "\n",
       "        Vintage  Response  Gender_Female  Gender_Male  Region_Code_Encoding  \n",
       "181          89         0          False         True              0.086096  \n",
       "185         134         0          False         True              0.086096  \n",
       "232          69         0          False         True              0.086096  \n",
       "710         292         0           True        False              0.086096  \n",
       "1500        107         0          False         True              0.086096  \n",
       "...         ...       ...            ...          ...                   ...  \n",
       "377620      287         0           True        False              0.123596  \n",
       "379190       76         0           True        False              0.123596  \n",
       "379972      231         0          False         True              0.123596  \n",
       "380255       93         1          False         True              0.123596  \n",
       "380390      228         0           True        False              0.123596  \n",
       "\n",
       "[381109 rows x 15 columns]"
      ]
     },
     "execution_count": 33,
     "metadata": {},
     "output_type": "execute_result"
    }
   ],
   "source": [
    "sort_region = data_preprocess.sort_values(['Region_Code', 'Region_Code_Encoding'], ascending = True)\n",
    "sort_region"
   ]
  },
  {
   "cell_type": "code",
   "execution_count": 34,
   "metadata": {
    "ExecuteTime": {
     "end_time": "2021-02-12T21:31:00.880098Z",
     "start_time": "2021-02-12T21:31:00.714540Z"
    }
   },
   "outputs": [
    {
     "data": {
      "text/html": [
       "<div>\n",
       "<style scoped>\n",
       "    .dataframe tbody tr th:only-of-type {\n",
       "        vertical-align: middle;\n",
       "    }\n",
       "\n",
       "    .dataframe tbody tr th {\n",
       "        vertical-align: top;\n",
       "    }\n",
       "\n",
       "    .dataframe thead th {\n",
       "        text-align: right;\n",
       "    }\n",
       "</style>\n",
       "<table border=\"1\" class=\"dataframe\">\n",
       "  <thead>\n",
       "    <tr style=\"text-align: right;\">\n",
       "      <th></th>\n",
       "      <th>Region_Code</th>\n",
       "      <th>Region_Code_Encoding</th>\n",
       "    </tr>\n",
       "  </thead>\n",
       "  <tbody>\n",
       "    <tr>\n",
       "      <th>0</th>\n",
       "      <td>0.0</td>\n",
       "      <td>0.086096</td>\n",
       "    </tr>\n",
       "    <tr>\n",
       "      <th>1</th>\n",
       "      <td>1.0</td>\n",
       "      <td>0.108135</td>\n",
       "    </tr>\n",
       "    <tr>\n",
       "      <th>2</th>\n",
       "      <td>2.0</td>\n",
       "      <td>0.071075</td>\n",
       "    </tr>\n",
       "    <tr>\n",
       "      <th>3</th>\n",
       "      <td>3.0</td>\n",
       "      <td>0.127662</td>\n",
       "    </tr>\n",
       "    <tr>\n",
       "      <th>4</th>\n",
       "      <td>4.0</td>\n",
       "      <td>0.158245</td>\n",
       "    </tr>\n",
       "    <tr>\n",
       "      <th>5</th>\n",
       "      <td>5.0</td>\n",
       "      <td>0.115715</td>\n",
       "    </tr>\n",
       "    <tr>\n",
       "      <th>6</th>\n",
       "      <td>6.0</td>\n",
       "      <td>0.069904</td>\n",
       "    </tr>\n",
       "    <tr>\n",
       "      <th>7</th>\n",
       "      <td>7.0</td>\n",
       "      <td>0.131747</td>\n",
       "    </tr>\n",
       "    <tr>\n",
       "      <th>8</th>\n",
       "      <td>8.0</td>\n",
       "      <td>0.096142</td>\n",
       "    </tr>\n",
       "    <tr>\n",
       "      <th>9</th>\n",
       "      <td>9.0</td>\n",
       "      <td>0.081587</td>\n",
       "    </tr>\n",
       "    <tr>\n",
       "      <th>10</th>\n",
       "      <td>10.0</td>\n",
       "      <td>0.060128</td>\n",
       "    </tr>\n",
       "    <tr>\n",
       "      <th>11</th>\n",
       "      <td>11.0</td>\n",
       "      <td>0.112760</td>\n",
       "    </tr>\n",
       "    <tr>\n",
       "      <th>12</th>\n",
       "      <td>12.0</td>\n",
       "      <td>0.097561</td>\n",
       "    </tr>\n",
       "    <tr>\n",
       "      <th>13</th>\n",
       "      <td>13.0</td>\n",
       "      <td>0.090188</td>\n",
       "    </tr>\n",
       "    <tr>\n",
       "      <th>14</th>\n",
       "      <td>14.0</td>\n",
       "      <td>0.090209</td>\n",
       "    </tr>\n",
       "    <tr>\n",
       "      <th>15</th>\n",
       "      <td>15.0</td>\n",
       "      <td>0.071987</td>\n",
       "    </tr>\n",
       "    <tr>\n",
       "      <th>16</th>\n",
       "      <td>16.0</td>\n",
       "      <td>0.066766</td>\n",
       "    </tr>\n",
       "    <tr>\n",
       "      <th>17</th>\n",
       "      <td>17.0</td>\n",
       "      <td>0.070310</td>\n",
       "    </tr>\n",
       "    <tr>\n",
       "      <th>18</th>\n",
       "      <td>18.0</td>\n",
       "      <td>0.131574</td>\n",
       "    </tr>\n",
       "    <tr>\n",
       "      <th>19</th>\n",
       "      <td>19.0</td>\n",
       "      <td>0.162866</td>\n",
       "    </tr>\n",
       "    <tr>\n",
       "      <th>20</th>\n",
       "      <td>20.0</td>\n",
       "      <td>0.115245</td>\n",
       "    </tr>\n",
       "    <tr>\n",
       "      <th>21</th>\n",
       "      <td>21.0</td>\n",
       "      <td>0.071027</td>\n",
       "    </tr>\n",
       "    <tr>\n",
       "      <th>22</th>\n",
       "      <td>22.0</td>\n",
       "      <td>0.063407</td>\n",
       "    </tr>\n",
       "    <tr>\n",
       "      <th>23</th>\n",
       "      <td>23.0</td>\n",
       "      <td>0.153061</td>\n",
       "    </tr>\n",
       "    <tr>\n",
       "      <th>24</th>\n",
       "      <td>24.0</td>\n",
       "      <td>0.141615</td>\n",
       "    </tr>\n",
       "    <tr>\n",
       "      <th>25</th>\n",
       "      <td>25.0</td>\n",
       "      <td>0.042749</td>\n",
       "    </tr>\n",
       "    <tr>\n",
       "      <th>26</th>\n",
       "      <td>26.0</td>\n",
       "      <td>0.072284</td>\n",
       "    </tr>\n",
       "    <tr>\n",
       "      <th>27</th>\n",
       "      <td>27.0</td>\n",
       "      <td>0.074035</td>\n",
       "    </tr>\n",
       "    <tr>\n",
       "      <th>28</th>\n",
       "      <td>28.0</td>\n",
       "      <td>0.187163</td>\n",
       "    </tr>\n",
       "    <tr>\n",
       "      <th>29</th>\n",
       "      <td>29.0</td>\n",
       "      <td>0.123362</td>\n",
       "    </tr>\n",
       "    <tr>\n",
       "      <th>30</th>\n",
       "      <td>30.0</td>\n",
       "      <td>0.073825</td>\n",
       "    </tr>\n",
       "    <tr>\n",
       "      <th>31</th>\n",
       "      <td>31.0</td>\n",
       "      <td>0.100510</td>\n",
       "    </tr>\n",
       "    <tr>\n",
       "      <th>32</th>\n",
       "      <td>32.0</td>\n",
       "      <td>0.085755</td>\n",
       "    </tr>\n",
       "    <tr>\n",
       "      <th>33</th>\n",
       "      <td>33.0</td>\n",
       "      <td>0.099294</td>\n",
       "    </tr>\n",
       "    <tr>\n",
       "      <th>34</th>\n",
       "      <td>34.0</td>\n",
       "      <td>0.075721</td>\n",
       "    </tr>\n",
       "    <tr>\n",
       "      <th>35</th>\n",
       "      <td>35.0</td>\n",
       "      <td>0.124604</td>\n",
       "    </tr>\n",
       "    <tr>\n",
       "      <th>36</th>\n",
       "      <td>36.0</td>\n",
       "      <td>0.079914</td>\n",
       "    </tr>\n",
       "    <tr>\n",
       "      <th>37</th>\n",
       "      <td>37.0</td>\n",
       "      <td>0.079258</td>\n",
       "    </tr>\n",
       "    <tr>\n",
       "      <th>38</th>\n",
       "      <td>38.0</td>\n",
       "      <td>0.192004</td>\n",
       "    </tr>\n",
       "    <tr>\n",
       "      <th>39</th>\n",
       "      <td>39.0</td>\n",
       "      <td>0.123600</td>\n",
       "    </tr>\n",
       "    <tr>\n",
       "      <th>40</th>\n",
       "      <td>40.0</td>\n",
       "      <td>0.118147</td>\n",
       "    </tr>\n",
       "    <tr>\n",
       "      <th>41</th>\n",
       "      <td>41.0</td>\n",
       "      <td>0.121776</td>\n",
       "    </tr>\n",
       "    <tr>\n",
       "      <th>42</th>\n",
       "      <td>42.0</td>\n",
       "      <td>0.074450</td>\n",
       "    </tr>\n",
       "    <tr>\n",
       "      <th>43</th>\n",
       "      <td>43.0</td>\n",
       "      <td>0.092459</td>\n",
       "    </tr>\n",
       "    <tr>\n",
       "      <th>44</th>\n",
       "      <td>44.0</td>\n",
       "      <td>0.040842</td>\n",
       "    </tr>\n",
       "    <tr>\n",
       "      <th>45</th>\n",
       "      <td>45.0</td>\n",
       "      <td>0.109723</td>\n",
       "    </tr>\n",
       "    <tr>\n",
       "      <th>46</th>\n",
       "      <td>46.0</td>\n",
       "      <td>0.102891</td>\n",
       "    </tr>\n",
       "    <tr>\n",
       "      <th>47</th>\n",
       "      <td>47.0</td>\n",
       "      <td>0.087682</td>\n",
       "    </tr>\n",
       "    <tr>\n",
       "      <th>48</th>\n",
       "      <td>48.0</td>\n",
       "      <td>0.101901</td>\n",
       "    </tr>\n",
       "    <tr>\n",
       "      <th>49</th>\n",
       "      <td>49.0</td>\n",
       "      <td>0.074782</td>\n",
       "    </tr>\n",
       "    <tr>\n",
       "      <th>50</th>\n",
       "      <td>50.0</td>\n",
       "      <td>0.062677</td>\n",
       "    </tr>\n",
       "    <tr>\n",
       "      <th>51</th>\n",
       "      <td>51.0</td>\n",
       "      <td>0.153005</td>\n",
       "    </tr>\n",
       "    <tr>\n",
       "      <th>52</th>\n",
       "      <td>52.0</td>\n",
       "      <td>0.123596</td>\n",
       "    </tr>\n",
       "  </tbody>\n",
       "</table>\n",
       "</div>"
      ],
      "text/plain": [
       "    Region_Code  Region_Code_Encoding\n",
       "0           0.0              0.086096\n",
       "1           1.0              0.108135\n",
       "2           2.0              0.071075\n",
       "3           3.0              0.127662\n",
       "4           4.0              0.158245\n",
       "5           5.0              0.115715\n",
       "6           6.0              0.069904\n",
       "7           7.0              0.131747\n",
       "8           8.0              0.096142\n",
       "9           9.0              0.081587\n",
       "10         10.0              0.060128\n",
       "11         11.0              0.112760\n",
       "12         12.0              0.097561\n",
       "13         13.0              0.090188\n",
       "14         14.0              0.090209\n",
       "15         15.0              0.071987\n",
       "16         16.0              0.066766\n",
       "17         17.0              0.070310\n",
       "18         18.0              0.131574\n",
       "19         19.0              0.162866\n",
       "20         20.0              0.115245\n",
       "21         21.0              0.071027\n",
       "22         22.0              0.063407\n",
       "23         23.0              0.153061\n",
       "24         24.0              0.141615\n",
       "25         25.0              0.042749\n",
       "26         26.0              0.072284\n",
       "27         27.0              0.074035\n",
       "28         28.0              0.187163\n",
       "29         29.0              0.123362\n",
       "30         30.0              0.073825\n",
       "31         31.0              0.100510\n",
       "32         32.0              0.085755\n",
       "33         33.0              0.099294\n",
       "34         34.0              0.075721\n",
       "35         35.0              0.124604\n",
       "36         36.0              0.079914\n",
       "37         37.0              0.079258\n",
       "38         38.0              0.192004\n",
       "39         39.0              0.123600\n",
       "40         40.0              0.118147\n",
       "41         41.0              0.121776\n",
       "42         42.0              0.074450\n",
       "43         43.0              0.092459\n",
       "44         44.0              0.040842\n",
       "45         45.0              0.109723\n",
       "46         46.0              0.102891\n",
       "47         47.0              0.087682\n",
       "48         48.0              0.101901\n",
       "49         49.0              0.074782\n",
       "50         50.0              0.062677\n",
       "51         51.0              0.153005\n",
       "52         52.0              0.123596"
      ]
     },
     "execution_count": 34,
     "metadata": {},
     "output_type": "execute_result"
    }
   ],
   "source": [
    "region_unique = sort_region.groupby('Region_Code').first().reset_index()[['Region_Code', 'Region_Code_Encoding']]\n",
    "region_unique"
   ]
  },
  {
   "cell_type": "code",
   "execution_count": null,
   "metadata": {},
   "outputs": [],
   "source": [
    "import os\n",
    "\n",
    "# Define the directory path\n",
    "directory_path = \"formatting\"\n",
    "\n",
    "# Create the directory if it does not exist\n",
    "os.makedirs(directory_path, exist_ok=True)\n",
    "\n",
    "# Now, save your DataFrame\n",
    "region_unique.to_csv(\"formatting/region_target_encoding.csv\", index=False)\n"
   ]
  },
  {
   "cell_type": "code",
   "execution_count": 35,
   "metadata": {
    "ExecuteTime": {
     "end_time": "2021-02-12T21:31:00.891068Z",
     "start_time": "2021-02-12T21:31:00.882092Z"
    }
   },
   "outputs": [
    {
     "ename": "OSError",
     "evalue": "Cannot save file into a non-existent directory: 'formatting'",
     "output_type": "error",
     "traceback": [
      "\u001b[31m---------------------------------------------------------------------------\u001b[39m",
      "\u001b[31mOSError\u001b[39m                                   Traceback (most recent call last)",
      "\u001b[36mCell\u001b[39m\u001b[36m \u001b[39m\u001b[32mIn[35]\u001b[39m\u001b[32m, line 1\u001b[39m\n\u001b[32m----> \u001b[39m\u001b[32m1\u001b[39m \u001b[43mregion_unique\u001b[49m\u001b[43m.\u001b[49m\u001b[43mto_csv\u001b[49m\u001b[43m(\u001b[49m\u001b[33;43m\"\u001b[39;49m\u001b[33;43mformatting/region_target_encoding.csv\u001b[39;49m\u001b[33;43m\"\u001b[39;49m\u001b[43m,\u001b[49m\u001b[43m \u001b[49m\u001b[43mindex\u001b[49m\u001b[43m=\u001b[49m\u001b[38;5;28;43;01mFalse\u001b[39;49;00m\u001b[43m)\u001b[49m\n",
      "\u001b[36mFile \u001b[39m\u001b[32mc:\\Users\\Samrudhhi\\Insurance-Cross-selling-Prediction\\.venv\\Lib\\site-packages\\pandas\\util\\_decorators.py:333\u001b[39m, in \u001b[36mdeprecate_nonkeyword_arguments.<locals>.decorate.<locals>.wrapper\u001b[39m\u001b[34m(*args, **kwargs)\u001b[39m\n\u001b[32m    327\u001b[39m \u001b[38;5;28;01mif\u001b[39;00m \u001b[38;5;28mlen\u001b[39m(args) > num_allow_args:\n\u001b[32m    328\u001b[39m     warnings.warn(\n\u001b[32m    329\u001b[39m         msg.format(arguments=_format_argument_list(allow_args)),\n\u001b[32m    330\u001b[39m         \u001b[38;5;167;01mFutureWarning\u001b[39;00m,\n\u001b[32m    331\u001b[39m         stacklevel=find_stack_level(),\n\u001b[32m    332\u001b[39m     )\n\u001b[32m--> \u001b[39m\u001b[32m333\u001b[39m \u001b[38;5;28;01mreturn\u001b[39;00m \u001b[43mfunc\u001b[49m\u001b[43m(\u001b[49m\u001b[43m*\u001b[49m\u001b[43margs\u001b[49m\u001b[43m,\u001b[49m\u001b[43m \u001b[49m\u001b[43m*\u001b[49m\u001b[43m*\u001b[49m\u001b[43mkwargs\u001b[49m\u001b[43m)\u001b[49m\n",
      "\u001b[36mFile \u001b[39m\u001b[32mc:\\Users\\Samrudhhi\\Insurance-Cross-selling-Prediction\\.venv\\Lib\\site-packages\\pandas\\core\\generic.py:3986\u001b[39m, in \u001b[36mNDFrame.to_csv\u001b[39m\u001b[34m(self, path_or_buf, sep, na_rep, float_format, columns, header, index, index_label, mode, encoding, compression, quoting, quotechar, lineterminator, chunksize, date_format, doublequote, escapechar, decimal, errors, storage_options)\u001b[39m\n\u001b[32m   3975\u001b[39m df = \u001b[38;5;28mself\u001b[39m \u001b[38;5;28;01mif\u001b[39;00m \u001b[38;5;28misinstance\u001b[39m(\u001b[38;5;28mself\u001b[39m, ABCDataFrame) \u001b[38;5;28;01melse\u001b[39;00m \u001b[38;5;28mself\u001b[39m.to_frame()\n\u001b[32m   3977\u001b[39m formatter = DataFrameFormatter(\n\u001b[32m   3978\u001b[39m     frame=df,\n\u001b[32m   3979\u001b[39m     header=header,\n\u001b[32m   (...)\u001b[39m\u001b[32m   3983\u001b[39m     decimal=decimal,\n\u001b[32m   3984\u001b[39m )\n\u001b[32m-> \u001b[39m\u001b[32m3986\u001b[39m \u001b[38;5;28;01mreturn\u001b[39;00m \u001b[43mDataFrameRenderer\u001b[49m\u001b[43m(\u001b[49m\u001b[43mformatter\u001b[49m\u001b[43m)\u001b[49m\u001b[43m.\u001b[49m\u001b[43mto_csv\u001b[49m\u001b[43m(\u001b[49m\n\u001b[32m   3987\u001b[39m \u001b[43m    \u001b[49m\u001b[43mpath_or_buf\u001b[49m\u001b[43m,\u001b[49m\n\u001b[32m   3988\u001b[39m \u001b[43m    \u001b[49m\u001b[43mlineterminator\u001b[49m\u001b[43m=\u001b[49m\u001b[43mlineterminator\u001b[49m\u001b[43m,\u001b[49m\n\u001b[32m   3989\u001b[39m \u001b[43m    \u001b[49m\u001b[43msep\u001b[49m\u001b[43m=\u001b[49m\u001b[43msep\u001b[49m\u001b[43m,\u001b[49m\n\u001b[32m   3990\u001b[39m \u001b[43m    \u001b[49m\u001b[43mencoding\u001b[49m\u001b[43m=\u001b[49m\u001b[43mencoding\u001b[49m\u001b[43m,\u001b[49m\n\u001b[32m   3991\u001b[39m \u001b[43m    \u001b[49m\u001b[43merrors\u001b[49m\u001b[43m=\u001b[49m\u001b[43merrors\u001b[49m\u001b[43m,\u001b[49m\n\u001b[32m   3992\u001b[39m \u001b[43m    \u001b[49m\u001b[43mcompression\u001b[49m\u001b[43m=\u001b[49m\u001b[43mcompression\u001b[49m\u001b[43m,\u001b[49m\n\u001b[32m   3993\u001b[39m \u001b[43m    \u001b[49m\u001b[43mquoting\u001b[49m\u001b[43m=\u001b[49m\u001b[43mquoting\u001b[49m\u001b[43m,\u001b[49m\n\u001b[32m   3994\u001b[39m \u001b[43m    \u001b[49m\u001b[43mcolumns\u001b[49m\u001b[43m=\u001b[49m\u001b[43mcolumns\u001b[49m\u001b[43m,\u001b[49m\n\u001b[32m   3995\u001b[39m \u001b[43m    \u001b[49m\u001b[43mindex_label\u001b[49m\u001b[43m=\u001b[49m\u001b[43mindex_label\u001b[49m\u001b[43m,\u001b[49m\n\u001b[32m   3996\u001b[39m \u001b[43m    \u001b[49m\u001b[43mmode\u001b[49m\u001b[43m=\u001b[49m\u001b[43mmode\u001b[49m\u001b[43m,\u001b[49m\n\u001b[32m   3997\u001b[39m \u001b[43m    \u001b[49m\u001b[43mchunksize\u001b[49m\u001b[43m=\u001b[49m\u001b[43mchunksize\u001b[49m\u001b[43m,\u001b[49m\n\u001b[32m   3998\u001b[39m \u001b[43m    \u001b[49m\u001b[43mquotechar\u001b[49m\u001b[43m=\u001b[49m\u001b[43mquotechar\u001b[49m\u001b[43m,\u001b[49m\n\u001b[32m   3999\u001b[39m \u001b[43m    \u001b[49m\u001b[43mdate_format\u001b[49m\u001b[43m=\u001b[49m\u001b[43mdate_format\u001b[49m\u001b[43m,\u001b[49m\n\u001b[32m   4000\u001b[39m \u001b[43m    \u001b[49m\u001b[43mdoublequote\u001b[49m\u001b[43m=\u001b[49m\u001b[43mdoublequote\u001b[49m\u001b[43m,\u001b[49m\n\u001b[32m   4001\u001b[39m \u001b[43m    \u001b[49m\u001b[43mescapechar\u001b[49m\u001b[43m=\u001b[49m\u001b[43mescapechar\u001b[49m\u001b[43m,\u001b[49m\n\u001b[32m   4002\u001b[39m \u001b[43m    \u001b[49m\u001b[43mstorage_options\u001b[49m\u001b[43m=\u001b[49m\u001b[43mstorage_options\u001b[49m\u001b[43m,\u001b[49m\n\u001b[32m   4003\u001b[39m \u001b[43m\u001b[49m\u001b[43m)\u001b[49m\n",
      "\u001b[36mFile \u001b[39m\u001b[32mc:\\Users\\Samrudhhi\\Insurance-Cross-selling-Prediction\\.venv\\Lib\\site-packages\\pandas\\io\\formats\\format.py:1014\u001b[39m, in \u001b[36mDataFrameRenderer.to_csv\u001b[39m\u001b[34m(self, path_or_buf, encoding, sep, columns, index_label, mode, compression, quoting, quotechar, lineterminator, chunksize, date_format, doublequote, escapechar, errors, storage_options)\u001b[39m\n\u001b[32m    993\u001b[39m     created_buffer = \u001b[38;5;28;01mFalse\u001b[39;00m\n\u001b[32m    995\u001b[39m csv_formatter = CSVFormatter(\n\u001b[32m    996\u001b[39m     path_or_buf=path_or_buf,\n\u001b[32m    997\u001b[39m     lineterminator=lineterminator,\n\u001b[32m   (...)\u001b[39m\u001b[32m   1012\u001b[39m     formatter=\u001b[38;5;28mself\u001b[39m.fmt,\n\u001b[32m   1013\u001b[39m )\n\u001b[32m-> \u001b[39m\u001b[32m1014\u001b[39m \u001b[43mcsv_formatter\u001b[49m\u001b[43m.\u001b[49m\u001b[43msave\u001b[49m\u001b[43m(\u001b[49m\u001b[43m)\u001b[49m\n\u001b[32m   1016\u001b[39m \u001b[38;5;28;01mif\u001b[39;00m created_buffer:\n\u001b[32m   1017\u001b[39m     \u001b[38;5;28;01massert\u001b[39;00m \u001b[38;5;28misinstance\u001b[39m(path_or_buf, StringIO)\n",
      "\u001b[36mFile \u001b[39m\u001b[32mc:\\Users\\Samrudhhi\\Insurance-Cross-selling-Prediction\\.venv\\Lib\\site-packages\\pandas\\io\\formats\\csvs.py:251\u001b[39m, in \u001b[36mCSVFormatter.save\u001b[39m\u001b[34m(self)\u001b[39m\n\u001b[32m    247\u001b[39m \u001b[38;5;250m\u001b[39m\u001b[33;03m\"\"\"\u001b[39;00m\n\u001b[32m    248\u001b[39m \u001b[33;03mCreate the writer & save.\u001b[39;00m\n\u001b[32m    249\u001b[39m \u001b[33;03m\"\"\"\u001b[39;00m\n\u001b[32m    250\u001b[39m \u001b[38;5;66;03m# apply compression and byte/text conversion\u001b[39;00m\n\u001b[32m--> \u001b[39m\u001b[32m251\u001b[39m \u001b[38;5;28;01mwith\u001b[39;00m \u001b[43mget_handle\u001b[49m\u001b[43m(\u001b[49m\n\u001b[32m    252\u001b[39m \u001b[43m    \u001b[49m\u001b[38;5;28;43mself\u001b[39;49m\u001b[43m.\u001b[49m\u001b[43mfilepath_or_buffer\u001b[49m\u001b[43m,\u001b[49m\n\u001b[32m    253\u001b[39m \u001b[43m    \u001b[49m\u001b[38;5;28;43mself\u001b[39;49m\u001b[43m.\u001b[49m\u001b[43mmode\u001b[49m\u001b[43m,\u001b[49m\n\u001b[32m    254\u001b[39m \u001b[43m    \u001b[49m\u001b[43mencoding\u001b[49m\u001b[43m=\u001b[49m\u001b[38;5;28;43mself\u001b[39;49m\u001b[43m.\u001b[49m\u001b[43mencoding\u001b[49m\u001b[43m,\u001b[49m\n\u001b[32m    255\u001b[39m \u001b[43m    \u001b[49m\u001b[43merrors\u001b[49m\u001b[43m=\u001b[49m\u001b[38;5;28;43mself\u001b[39;49m\u001b[43m.\u001b[49m\u001b[43merrors\u001b[49m\u001b[43m,\u001b[49m\n\u001b[32m    256\u001b[39m \u001b[43m    \u001b[49m\u001b[43mcompression\u001b[49m\u001b[43m=\u001b[49m\u001b[38;5;28;43mself\u001b[39;49m\u001b[43m.\u001b[49m\u001b[43mcompression\u001b[49m\u001b[43m,\u001b[49m\n\u001b[32m    257\u001b[39m \u001b[43m    \u001b[49m\u001b[43mstorage_options\u001b[49m\u001b[43m=\u001b[49m\u001b[38;5;28;43mself\u001b[39;49m\u001b[43m.\u001b[49m\u001b[43mstorage_options\u001b[49m\u001b[43m,\u001b[49m\n\u001b[32m    258\u001b[39m \u001b[43m\u001b[49m\u001b[43m)\u001b[49m \u001b[38;5;28;01mas\u001b[39;00m handles:\n\u001b[32m    259\u001b[39m     \u001b[38;5;66;03m# Note: self.encoding is irrelevant here\u001b[39;00m\n\u001b[32m    260\u001b[39m     \u001b[38;5;28mself\u001b[39m.writer = csvlib.writer(\n\u001b[32m    261\u001b[39m         handles.handle,\n\u001b[32m    262\u001b[39m         lineterminator=\u001b[38;5;28mself\u001b[39m.lineterminator,\n\u001b[32m   (...)\u001b[39m\u001b[32m    267\u001b[39m         quotechar=\u001b[38;5;28mself\u001b[39m.quotechar,\n\u001b[32m    268\u001b[39m     )\n\u001b[32m    270\u001b[39m     \u001b[38;5;28mself\u001b[39m._save()\n",
      "\u001b[36mFile \u001b[39m\u001b[32mc:\\Users\\Samrudhhi\\Insurance-Cross-selling-Prediction\\.venv\\Lib\\site-packages\\pandas\\io\\common.py:749\u001b[39m, in \u001b[36mget_handle\u001b[39m\u001b[34m(path_or_buf, mode, encoding, compression, memory_map, is_text, errors, storage_options)\u001b[39m\n\u001b[32m    747\u001b[39m \u001b[38;5;66;03m# Only for write methods\u001b[39;00m\n\u001b[32m    748\u001b[39m \u001b[38;5;28;01mif\u001b[39;00m \u001b[33m\"\u001b[39m\u001b[33mr\u001b[39m\u001b[33m\"\u001b[39m \u001b[38;5;129;01mnot\u001b[39;00m \u001b[38;5;129;01min\u001b[39;00m mode \u001b[38;5;129;01mand\u001b[39;00m is_path:\n\u001b[32m--> \u001b[39m\u001b[32m749\u001b[39m     \u001b[43mcheck_parent_directory\u001b[49m\u001b[43m(\u001b[49m\u001b[38;5;28;43mstr\u001b[39;49m\u001b[43m(\u001b[49m\u001b[43mhandle\u001b[49m\u001b[43m)\u001b[49m\u001b[43m)\u001b[49m\n\u001b[32m    751\u001b[39m \u001b[38;5;28;01mif\u001b[39;00m compression:\n\u001b[32m    752\u001b[39m     \u001b[38;5;28;01mif\u001b[39;00m compression != \u001b[33m\"\u001b[39m\u001b[33mzstd\u001b[39m\u001b[33m\"\u001b[39m:\n\u001b[32m    753\u001b[39m         \u001b[38;5;66;03m# compression libraries do not like an explicit text-mode\u001b[39;00m\n",
      "\u001b[36mFile \u001b[39m\u001b[32mc:\\Users\\Samrudhhi\\Insurance-Cross-selling-Prediction\\.venv\\Lib\\site-packages\\pandas\\io\\common.py:616\u001b[39m, in \u001b[36mcheck_parent_directory\u001b[39m\u001b[34m(path)\u001b[39m\n\u001b[32m    614\u001b[39m parent = Path(path).parent\n\u001b[32m    615\u001b[39m \u001b[38;5;28;01mif\u001b[39;00m \u001b[38;5;129;01mnot\u001b[39;00m parent.is_dir():\n\u001b[32m--> \u001b[39m\u001b[32m616\u001b[39m     \u001b[38;5;28;01mraise\u001b[39;00m \u001b[38;5;167;01mOSError\u001b[39;00m(\u001b[33mrf\u001b[39m\u001b[33m\"\u001b[39m\u001b[33mCannot save file into a non-existent directory: \u001b[39m\u001b[33m'\u001b[39m\u001b[38;5;132;01m{\u001b[39;00mparent\u001b[38;5;132;01m}\u001b[39;00m\u001b[33m'\u001b[39m\u001b[33m\"\u001b[39m)\n",
      "\u001b[31mOSError\u001b[39m: Cannot save file into a non-existent directory: 'formatting'"
     ]
    }
   ],
   "source": [
    "region_unique.to_csv(\"formatting/region_target_encoding.csv\", index=False)\n"
   ]
  },
  {
   "cell_type": "markdown",
   "metadata": {},
   "source": [
    "### Previously_Insured"
   ]
  },
  {
   "cell_type": "code",
   "execution_count": null,
   "metadata": {
    "ExecuteTime": {
     "end_time": "2021-02-12T21:31:00.908023Z",
     "start_time": "2021-02-12T21:31:00.893063Z"
    }
   },
   "outputs": [],
   "source": [
    "data_preprocess['Previously_Insured'].value_counts()"
   ]
  },
  {
   "cell_type": "markdown",
   "metadata": {},
   "source": [
    "### Vehicle_Age"
   ]
  },
  {
   "cell_type": "code",
   "execution_count": null,
   "metadata": {
    "ExecuteTime": {
     "end_time": "2021-02-12T21:31:00.967863Z",
     "start_time": "2021-02-12T21:31:00.910017Z"
    }
   },
   "outputs": [],
   "source": [
    "data_preprocess['Vehicle_Age'].value_counts()"
   ]
  },
  {
   "cell_type": "code",
   "execution_count": null,
   "metadata": {
    "ExecuteTime": {
     "end_time": "2021-02-12T21:31:01.137409Z",
     "start_time": "2021-02-12T21:31:00.970856Z"
    }
   },
   "outputs": [],
   "source": [
    "oe_va = OrdinalEncoder(categories = [['< 1 Year', '1-2 Year', '> 2 Years']], dtype = np.int64)\n",
    "data_preprocess['Vehicle_Age_Encoding'] = oe_va.fit_transform(data_preprocess.loc[:, ['Vehicle_Age']])"
   ]
  },
  {
   "cell_type": "code",
   "execution_count": null,
   "metadata": {
    "ExecuteTime": {
     "end_time": "2021-02-12T21:31:01.151371Z",
     "start_time": "2021-02-12T21:31:01.140401Z"
    }
   },
   "outputs": [],
   "source": [
    "data_preprocess['Vehicle_Age_Encoding'].value_counts()"
   ]
  },
  {
   "cell_type": "code",
   "execution_count": null,
   "metadata": {
    "ExecuteTime": {
     "end_time": "2021-02-12T21:31:01.173314Z",
     "start_time": "2021-02-12T21:31:01.154364Z"
    }
   },
   "outputs": [],
   "source": [
    "data_preprocess['Vehicle_Age_Encoding'].skew()"
   ]
  },
  {
   "cell_type": "code",
   "execution_count": null,
   "metadata": {
    "ExecuteTime": {
     "end_time": "2021-02-12T21:31:01.492459Z",
     "start_time": "2021-02-12T21:31:01.175308Z"
    }
   },
   "outputs": [],
   "source": [
    "plt.figure(figsize = (20.7, 7))\n",
    "\n",
    "sns.boxplot(\n",
    "    x = data_preprocess['Vehicle_Age_Encoding']\n",
    ")\n",
    "\n",
    "plt.tight_layout()"
   ]
  },
  {
   "cell_type": "markdown",
   "metadata": {},
   "source": [
    "### Vehicle_Damage"
   ]
  },
  {
   "cell_type": "code",
   "execution_count": null,
   "metadata": {
    "ExecuteTime": {
     "end_time": "2021-02-12T21:31:01.544321Z",
     "start_time": "2021-02-12T21:31:01.494454Z"
    }
   },
   "outputs": [],
   "source": [
    "data_preprocess['Vehicle_Damage'].value_counts()"
   ]
  },
  {
   "cell_type": "code",
   "execution_count": null,
   "metadata": {
    "ExecuteTime": {
     "end_time": "2021-02-12T21:31:01.675971Z",
     "start_time": "2021-02-12T21:31:01.546315Z"
    }
   },
   "outputs": [],
   "source": [
    "le = LabelEncoder()\n",
    "data_preprocess['Vehicle_Damage_Encoding'] = le.fit_transform(data_preprocess['Vehicle_Damage'])"
   ]
  },
  {
   "cell_type": "code",
   "execution_count": null,
   "metadata": {
    "ExecuteTime": {
     "end_time": "2021-02-12T21:31:01.691926Z",
     "start_time": "2021-02-12T21:31:01.677964Z"
    }
   },
   "outputs": [],
   "source": [
    "data_preprocess['Vehicle_Damage_Encoding'].value_counts()"
   ]
  },
  {
   "cell_type": "markdown",
   "metadata": {},
   "source": [
    "### Annual_Premium"
   ]
  },
  {
   "cell_type": "code",
   "execution_count": null,
   "metadata": {
    "ExecuteTime": {
     "end_time": "2021-02-12T21:31:01.720849Z",
     "start_time": "2021-02-12T21:31:01.694919Z"
    }
   },
   "outputs": [],
   "source": [
    "data_preprocess['Annual_Premium'].describe()"
   ]
  },
  {
   "cell_type": "markdown",
   "metadata": {},
   "source": [
    "### Policy_Sales_Channel"
   ]
  },
  {
   "cell_type": "code",
   "execution_count": null,
   "metadata": {
    "ExecuteTime": {
     "end_time": "2021-02-12T21:31:02.438927Z",
     "start_time": "2021-02-12T21:31:01.738802Z"
    }
   },
   "outputs": [],
   "source": [
    "te = TargetEncoder()\n",
    "data_preprocess['Policy_Sales_Channel_Encoding'] = te.fit_transform(data_preprocess['Policy_Sales_Channel'].astype(str), data_preprocess['Response'])"
   ]
  },
  {
   "cell_type": "code",
   "execution_count": null,
   "metadata": {
    "ExecuteTime": {
     "end_time": "2021-02-12T21:31:02.523700Z",
     "start_time": "2021-02-12T21:31:02.441920Z"
    }
   },
   "outputs": [],
   "source": [
    "data_preprocess[['Policy_Sales_Channel', 'Response', 'Policy_Sales_Channel_Encoding']].head()"
   ]
  },
  {
   "cell_type": "markdown",
   "metadata": {},
   "source": [
    "#### Later for predicting new test data"
   ]
  },
  {
   "cell_type": "code",
   "execution_count": null,
   "metadata": {
    "ExecuteTime": {
     "end_time": "2021-02-12T21:31:02.694247Z",
     "start_time": "2021-02-12T21:31:02.526693Z"
    }
   },
   "outputs": [],
   "source": [
    "sort_channel = data_preprocess.sort_values(['Policy_Sales_Channel', 'Policy_Sales_Channel_Encoding'], ascending = True)\n",
    "sort_channel"
   ]
  },
  {
   "cell_type": "code",
   "execution_count": null,
   "metadata": {
    "ExecuteTime": {
     "end_time": "2021-02-12T21:31:02.834868Z",
     "start_time": "2021-02-12T21:31:02.696239Z"
    }
   },
   "outputs": [],
   "source": [
    "sales_channel_unique = sort_channel.groupby('Policy_Sales_Channel').first().reset_index()[['Policy_Sales_Channel', 'Policy_Sales_Channel_Encoding']]\n",
    "sales_channel_unique"
   ]
  },
  {
   "cell_type": "code",
   "execution_count": null,
   "metadata": {
    "ExecuteTime": {
     "end_time": "2021-02-12T21:31:02.843845Z",
     "start_time": "2021-02-12T21:31:02.836863Z"
    }
   },
   "outputs": [],
   "source": [
    "sales_channel_unique.to_csv('formatting/sales_channel_target_encoding.csv', index = False)"
   ]
  },
  {
   "cell_type": "markdown",
   "metadata": {},
   "source": [
    "### Vintage"
   ]
  },
  {
   "cell_type": "code",
   "execution_count": null,
   "metadata": {
    "ExecuteTime": {
     "end_time": "2021-02-12T21:31:03.042343Z",
     "start_time": "2021-02-12T21:31:03.017381Z"
    }
   },
   "outputs": [],
   "source": [
    "data_preprocess['Annual_Premium'].describe()"
   ]
  },
  {
   "cell_type": "markdown",
   "metadata": {},
   "source": [
    "## Outliers"
   ]
  },
  {
   "cell_type": "code",
   "execution_count": null,
   "metadata": {
    "ExecuteTime": {
     "end_time": "2021-02-12T21:31:04.307929Z",
     "start_time": "2021-02-12T21:31:03.213857Z"
    }
   },
   "outputs": [],
   "source": [
    "list_2 = ['Age', 'Annual_Premium', 'Vintage']\n",
    "\n",
    "plt.figure(figsize = (20.7, 5))\n",
    "\n",
    "for i in range(0, len(list_2)):\n",
    "    plt.subplot(1, 3, i + 1)\n",
    "    sns.boxplot(\n",
    "        x = data_preprocess[list_2[i]],\n",
    "        hue = data_preprocess['Response']\n",
    "    )\n",
    "\n",
    "plt.tight_layout()\n",
    "\n",
    "plt.savefig('fig/stage_1/outliers check histplot.png', bbox_inches = 'tight')"
   ]
  },
  {
   "cell_type": "code",
   "execution_count": null,
   "metadata": {
    "ExecuteTime": {
     "end_time": "2021-02-12T21:31:04.358791Z",
     "start_time": "2021-02-12T21:31:04.310920Z"
    }
   },
   "outputs": [],
   "source": [
    "data_preprocess[['Age', 'Annual_Premium', 'Vintage']].skew()"
   ]
  },
  {
   "cell_type": "markdown",
   "metadata": {},
   "source": [
    "- Since the Region_Code and Policy_Sales_Channel have been encoded based on their respective positive class (Probability of Response = 1), we also need to check their distribution."
   ]
  },
  {
   "cell_type": "code",
   "execution_count": null,
   "metadata": {
    "ExecuteTime": {
     "end_time": "2021-02-12T21:31:05.239437Z",
     "start_time": "2021-02-12T21:31:04.360788Z"
    }
   },
   "outputs": [],
   "source": [
    "list_2 = ['Region_Code_Encoding', 'Policy_Sales_Channel_Encoding']\n",
    "\n",
    "plt.figure(figsize = (20.7, 5))\n",
    "\n",
    "for i in range(0, len(list_2)):\n",
    "    plt.subplot(1, 2, i + 1)\n",
    "    sns.boxplot(\n",
    "        x = data_preprocess[list_2[i]],\n",
    "        hue = data_preprocess['Response']\n",
    "    )\n",
    "\n",
    "plt.tight_layout()\n",
    "\n",
    "plt.savefig('fig/stage_1/outliers check histplot.png', bbox_inches = 'tight')"
   ]
  },
  {
   "cell_type": "code",
   "execution_count": null,
   "metadata": {
    "ExecuteTime": {
     "end_time": "2021-02-12T21:31:05.300272Z",
     "start_time": "2021-02-12T21:31:05.241431Z"
    }
   },
   "outputs": [],
   "source": [
    "data_preprocess[['Region_Code_Encoding', 'Policy_Sales_Channel_Encoding']].skew()"
   ]
  },
  {
   "cell_type": "markdown",
   "metadata": {},
   "source": [
    "https://medium.com/@atanudan/kurtosis-skew-function-in-pandas-aa63d72e20de\n",
    "\n",
    "- If the skewness is between -0.5 and 0.5, the data are fairly symmetrical\n",
    "- If the skewness is between -1 and — 0.5 or between 0.5 and 1, the data are moderately skewed\n",
    "- If the skewness is less than -1 or greater than 1, the data are highly skewed"
   ]
  },
  {
   "cell_type": "markdown",
   "metadata": {},
   "source": [
    "- Based on the distribution plot and skewness, we need to **treat the outliers for Age and Annual_Premium features**."
   ]
  },
  {
   "cell_type": "markdown",
   "metadata": {},
   "source": [
    "### Age"
   ]
  },
  {
   "cell_type": "markdown",
   "metadata": {},
   "source": [
    "#### Log Transformation"
   ]
  },
  {
   "cell_type": "code",
   "execution_count": null,
   "metadata": {
    "ExecuteTime": {
     "end_time": "2021-02-12T21:31:05.387041Z",
     "start_time": "2021-02-12T21:31:05.302268Z"
    }
   },
   "outputs": [],
   "source": [
    "data_preprocess['Age_log'] = np.log(data_preprocess['Age'])\n",
    "data_preprocess[['Age', 'Age_log']].describe()"
   ]
  },
  {
   "cell_type": "code",
   "execution_count": null,
   "metadata": {
    "ExecuteTime": {
     "end_time": "2021-02-12T21:31:05.426935Z",
     "start_time": "2021-02-12T21:31:05.389037Z"
    }
   },
   "outputs": [],
   "source": [
    "data_preprocess[['Age', 'Age_log']].skew()"
   ]
  },
  {
   "cell_type": "markdown",
   "metadata": {},
   "source": [
    "Skewness decrease from 0.68 to 0.20, means data are fairly symmetrical."
   ]
  },
  {
   "cell_type": "code",
   "execution_count": null,
   "metadata": {
    "ExecuteTime": {
     "end_time": "2021-02-12T21:31:09.650635Z",
     "start_time": "2021-02-12T21:31:05.429927Z"
    }
   },
   "outputs": [],
   "source": [
    "age_viz = ['Age', 'Age_log']\n",
    "\n",
    "plt.figure(figsize = (20.7, 10))\n",
    "\n",
    "for i in range(0, len(age_viz)):\n",
    "    plt.subplot(2, 1, i + 1)\n",
    "    sns.histplot(\n",
    "        x = data_preprocess[age_viz[i]],\n",
    "        kde = True\n",
    "    )\n",
    "\n",
    "plt.tight_layout()"
   ]
  },
  {
   "cell_type": "code",
   "execution_count": null,
   "metadata": {
    "ExecuteTime": {
     "end_time": "2021-02-12T21:31:10.086469Z",
     "start_time": "2021-02-12T21:31:09.652632Z"
    },
    "scrolled": false
   },
   "outputs": [],
   "source": [
    "plt.figure(figsize = (20.7, 10))\n",
    "\n",
    "plt.subplot(2, 1, 1)\n",
    "sns.boxplot(\n",
    "    x = data_preprocess['Age_log']\n",
    ")\n",
    "\n",
    "plt.subplot(2, 1, 2)\n",
    "sns.boxplot(\n",
    "    x = data_preprocess['Age']\n",
    ")\n",
    "\n",
    "plt.tight_layout()"
   ]
  },
  {
   "cell_type": "code",
   "execution_count": null,
   "metadata": {
    "ExecuteTime": {
     "end_time": "2021-02-12T21:31:10.114394Z",
     "start_time": "2021-02-12T21:31:10.088465Z"
    }
   },
   "outputs": [],
   "source": [
    "Q1 = data_preprocess['Age_log'].quantile(0.25)\n",
    "Q3 = data_preprocess['Age_log'].quantile(0.75)\n",
    "IQR = Q3 - Q1\n",
    "low_limit = Q1 - (1.5 * IQR)\n",
    "high_limit = Q3 + (1.5 * IQR)\n",
    "\n",
    "print(low_limit)\n",
    "print(high_limit)"
   ]
  },
  {
   "cell_type": "code",
   "execution_count": null,
   "metadata": {
    "ExecuteTime": {
     "end_time": "2021-02-12T21:31:10.126363Z",
     "start_time": "2021-02-12T21:31:10.116390Z"
    }
   },
   "outputs": [],
   "source": [
    "filtered_entries = ((data_preprocess['Age_log'] < low_limit) | (data_preprocess['Age_log'] > high_limit))\n",
    "data_preprocess[filtered_entries].shape"
   ]
  },
  {
   "cell_type": "markdown",
   "metadata": {},
   "source": [
    "### Annual Premium"
   ]
  },
  {
   "cell_type": "code",
   "execution_count": null,
   "metadata": {
    "ExecuteTime": {
     "end_time": "2021-02-12T21:31:10.150299Z",
     "start_time": "2021-02-12T21:31:10.128357Z"
    }
   },
   "outputs": [],
   "source": [
    "data_preprocess[['Annual_Premium']].skew()"
   ]
  },
  {
   "cell_type": "code",
   "execution_count": null,
   "metadata": {
    "ExecuteTime": {
     "end_time": "2021-02-12T21:31:10.158278Z",
     "start_time": "2021-02-12T21:31:10.153292Z"
    }
   },
   "outputs": [],
   "source": [
    "before_remove = data_preprocess.shape[0]\n",
    "before_remove "
   ]
  },
  {
   "cell_type": "code",
   "execution_count": null,
   "metadata": {
    "ExecuteTime": {
     "end_time": "2021-02-12T21:31:10.188196Z",
     "start_time": "2021-02-12T21:31:10.161270Z"
    }
   },
   "outputs": [],
   "source": [
    "Q1 = data_preprocess['Annual_Premium'].quantile(0.25)\n",
    "Q3 = data_preprocess['Annual_Premium'].quantile(0.75)\n",
    "IQR = Q3 - Q1\n",
    "low_limit = Q1 - (1.5 * IQR)\n",
    "high_limit = Q3 + (1.5 * IQR)\n",
    "\n",
    "print(low_limit)\n",
    "print(high_limit)"
   ]
  },
  {
   "cell_type": "code",
   "execution_count": null,
   "metadata": {
    "ExecuteTime": {
     "end_time": "2021-02-12T21:31:10.291920Z",
     "start_time": "2021-02-12T21:31:10.190192Z"
    }
   },
   "outputs": [],
   "source": [
    "filtered_entries = ((data_preprocess['Annual_Premium'] >= low_limit) & (data_preprocess['Annual_Premium'] <= high_limit))\n",
    "data_preprocess = data_preprocess[filtered_entries].reset_index(drop = True)"
   ]
  },
  {
   "cell_type": "code",
   "execution_count": null,
   "metadata": {
    "ExecuteTime": {
     "end_time": "2021-02-12T21:31:10.299898Z",
     "start_time": "2021-02-12T21:31:10.293914Z"
    }
   },
   "outputs": [],
   "source": [
    "after_remove = data_preprocess.shape[0]\n",
    "after_remove"
   ]
  },
  {
   "cell_type": "code",
   "execution_count": null,
   "metadata": {
    "ExecuteTime": {
     "end_time": "2021-02-12T21:31:10.311867Z",
     "start_time": "2021-02-12T21:31:10.301896Z"
    }
   },
   "outputs": [],
   "source": [
    "print('Outlier removed:', round(100 - (after_remove * 100 / before_remove), 2), '%')"
   ]
  },
  {
   "cell_type": "code",
   "execution_count": null,
   "metadata": {
    "ExecuteTime": {
     "end_time": "2021-02-12T21:31:10.335802Z",
     "start_time": "2021-02-12T21:31:10.313862Z"
    }
   },
   "outputs": [],
   "source": [
    "data_preprocess[['Annual_Premium']].skew()"
   ]
  },
  {
   "cell_type": "code",
   "execution_count": null,
   "metadata": {
    "ExecuteTime": {
     "end_time": "2021-02-12T21:31:10.427557Z",
     "start_time": "2021-02-12T21:31:10.337798Z"
    }
   },
   "outputs": [],
   "source": [
    "data_preprocess['Annual_Premium_log'] = np.log(data_preprocess['Annual_Premium'])\n",
    "data_preprocess[['Annual_Premium', 'Annual_Premium_log']].describe()"
   ]
  },
  {
   "cell_type": "code",
   "execution_count": null,
   "metadata": {
    "ExecuteTime": {
     "end_time": "2021-02-12T21:31:10.487398Z",
     "start_time": "2021-02-12T21:31:10.429553Z"
    }
   },
   "outputs": [],
   "source": [
    "data_preprocess[['Annual_Premium', 'Annual_Premium_log']].skew()"
   ]
  },
  {
   "cell_type": "code",
   "execution_count": null,
   "metadata": {
    "ExecuteTime": {
     "end_time": "2021-02-12T21:31:14.844741Z",
     "start_time": "2021-02-12T21:31:10.489394Z"
    }
   },
   "outputs": [],
   "source": [
    "age_viz = ['Annual_Premium', 'Annual_Premium_log']\n",
    "\n",
    "plt.figure(figsize = (20.7, 10))\n",
    "\n",
    "for i in range(0, len(age_viz)):\n",
    "    plt.subplot(2, 1, i + 1)\n",
    "    sns.histplot(\n",
    "        x = data_preprocess[age_viz[i]],\n",
    "        kde = True\n",
    "    )\n",
    "\n",
    "plt.tight_layout()"
   ]
  },
  {
   "cell_type": "code",
   "execution_count": null,
   "metadata": {
    "ExecuteTime": {
     "end_time": "2021-02-12T21:31:15.494006Z",
     "start_time": "2021-02-12T21:31:14.846736Z"
    }
   },
   "outputs": [],
   "source": [
    "plt.figure(figsize = (20.7, 10))\n",
    "\n",
    "plt.subplot(2, 1, 1)\n",
    "sns.boxplot(\n",
    "    x = data_preprocess['Annual_Premium_log']\n",
    ")\n",
    "\n",
    "plt.subplot(2, 1, 2)\n",
    "sns.boxplot(\n",
    "    x = data_preprocess['Annual_Premium']\n",
    ")\n",
    "\n",
    "plt.tight_layout()"
   ]
  },
  {
   "cell_type": "markdown",
   "metadata": {},
   "source": [
    "We can see that 'Annual_Premium' distribution is **better without log transformation**, so we can ignore the log transformation ('Annual_Premium_log') and proceed with previous 'Annual_Premium'."
   ]
  },
  {
   "cell_type": "markdown",
   "metadata": {},
   "source": [
    "## Imbalanced Class"
   ]
  },
  {
   "cell_type": "code",
   "execution_count": null,
   "metadata": {
    "ExecuteTime": {
     "end_time": "2021-02-12T21:31:15.948789Z",
     "start_time": "2021-02-12T21:31:15.495998Z"
    }
   },
   "outputs": [],
   "source": [
    "plt.figure(figsize = (20.7, 8))\n",
    "\n",
    "sns.countplot(\n",
    "    x = data_preprocess['Response'],\n",
    "    palette = 'PuBu'\n",
    ")\n",
    "\n",
    "plt.title('Target Variable Distribution', fontsize = 20, fontweight = 'bold')\n",
    "\n",
    "plt.tight_layout()\n",
    "\n",
    "plt.savefig('fig/stage_1/imbalanced before.png', bbox_inches = 'tight')"
   ]
  },
  {
   "cell_type": "code",
   "execution_count": null,
   "metadata": {
    "ExecuteTime": {
     "end_time": "2021-02-12T21:31:15.960755Z",
     "start_time": "2021-02-12T21:31:15.950782Z"
    },
    "scrolled": false
   },
   "outputs": [],
   "source": [
    "data_preprocess['Response'].value_counts()"
   ]
  },
  {
   "cell_type": "markdown",
   "metadata": {},
   "source": [
    "### Oversampling"
   ]
  },
  {
   "cell_type": "code",
   "execution_count": null,
   "metadata": {
    "ExecuteTime": {
     "end_time": "2021-02-12T21:31:16.005636Z",
     "start_time": "2021-02-12T21:31:15.962749Z"
    }
   },
   "outputs": [],
   "source": [
    "data_preprocess_oversampling = data_preprocess[[\n",
    "    'Gender_Male', 'Gender_Female',\n",
    "    'Age_log',\n",
    "    'Driving_License',\n",
    "    'Region_Code_Encoding',\n",
    "    'Previously_Insured',\n",
    "    'Vehicle_Age_Encoding',\n",
    "    'Vehicle_Damage_Encoding',\n",
    "    'Annual_Premium',\n",
    "    'Policy_Sales_Channel_Encoding',\n",
    "    'Vintage',\n",
    "    'Response'\n",
    "]]\n",
    "data_preprocess_oversampling"
   ]
  },
  {
   "cell_type": "code",
   "execution_count": null,
   "metadata": {
    "ExecuteTime": {
     "end_time": "2021-02-12T21:31:17.284214Z",
     "start_time": "2021-02-12T21:31:16.007631Z"
    }
   },
   "outputs": [],
   "source": [
    "X_imbalanced = data_preprocess_oversampling.drop(['Response'], axis = 1)\n",
    "y_imbalanced = data_preprocess_oversampling['Response']\n",
    "\n",
    "oversampling = over_sampling.SMOTE(random_state = 42)\n",
    "\n",
    "X_over_smote, y_over_smote = oversampling.fit_resample(X_imbalanced, y_imbalanced)"
   ]
  },
  {
   "cell_type": "code",
   "execution_count": null,
   "metadata": {
    "ExecuteTime": {
     "end_time": "2021-02-12T21:31:17.354028Z",
     "start_time": "2021-02-12T21:31:17.290199Z"
    }
   },
   "outputs": [],
   "source": [
    "data_oversampling = pd.concat([X_over_smote, y_over_smote], axis = 1)\n",
    "data_oversampling"
   ]
  },
  {
   "cell_type": "code",
   "execution_count": null,
   "metadata": {
    "ExecuteTime": {
     "end_time": "2021-02-12T21:31:17.366994Z",
     "start_time": "2021-02-12T21:31:17.357020Z"
    }
   },
   "outputs": [],
   "source": [
    "data_preprocess_oversampling['Response'].value_counts()"
   ]
  },
  {
   "cell_type": "code",
   "execution_count": null,
   "metadata": {
    "ExecuteTime": {
     "end_time": "2021-02-12T21:31:17.373974Z",
     "start_time": "2021-02-12T21:31:17.368988Z"
    }
   },
   "outputs": [],
   "source": [
    "data_preprocess_oversampling.shape"
   ]
  },
  {
   "cell_type": "code",
   "execution_count": null,
   "metadata": {
    "ExecuteTime": {
     "end_time": "2021-02-12T21:31:17.389932Z",
     "start_time": "2021-02-12T21:31:17.375969Z"
    }
   },
   "outputs": [],
   "source": [
    "data_oversampling['Response'].value_counts()"
   ]
  },
  {
   "cell_type": "code",
   "execution_count": null,
   "metadata": {
    "ExecuteTime": {
     "end_time": "2021-02-12T21:31:17.397911Z",
     "start_time": "2021-02-12T21:31:17.391926Z"
    }
   },
   "outputs": [],
   "source": [
    "data_oversampling.shape"
   ]
  },
  {
   "cell_type": "code",
   "execution_count": null,
   "metadata": {
    "ExecuteTime": {
     "end_time": "2021-02-12T21:31:18.088064Z",
     "start_time": "2021-02-12T21:31:17.399906Z"
    },
    "scrolled": false
   },
   "outputs": [],
   "source": [
    "fig, ax = plt.subplots(1, 2, figsize = (20.7, 8))\n",
    "\n",
    "sns.countplot(\n",
    "    x = 'Response',\n",
    "    data = data_preprocess_oversampling,\n",
    "    palette = 'PuBu',\n",
    "    ax = ax[0]\n",
    ")\n",
    "\n",
    "sns.countplot(\n",
    "    x = 'Response',\n",
    "    data = data_oversampling,\n",
    "    palette = 'YlOrBr',\n",
    "    ax = ax[1]\n",
    ")\n",
    "\n",
    "ax[0].set_title('Target Variable before Oversampling', fontsize = 20, fontweight = 'bold')\n",
    "ax[1].set_title('Target Variable after Oversampling', fontsize = 20, fontweight = 'bold')\n",
    "\n",
    "plt.tight_layout()\n",
    "\n",
    "plt.savefig('fig/stage_1/imbalanced comparison.png', bbox_inches = 'tight')"
   ]
  },
  {
   "cell_type": "code",
   "execution_count": null,
   "metadata": {
    "ExecuteTime": {
     "end_time": "2021-02-12T21:31:23.165481Z",
     "start_time": "2021-02-12T21:31:18.090059Z"
    }
   },
   "outputs": [],
   "source": [
    "data_preprocess.to_csv('output/data_preprocess.csv', index = False)"
   ]
  },
  {
   "cell_type": "code",
   "execution_count": null,
   "metadata": {
    "ExecuteTime": {
     "end_time": "2021-02-12T21:31:29.737901Z",
     "start_time": "2021-02-12T21:31:23.167476Z"
    }
   },
   "outputs": [],
   "source": [
    "data_oversampling.to_csv('output/data_oversampling.csv', index = False)"
   ]
  },
  {
   "cell_type": "markdown",
   "metadata": {},
   "source": [
    "## DATAFRAME & CSV\n",
    "- data_preprocess -> cleaned from missing value, outliers, and duplication.\n",
    "- data_oversampling -> result of oversampling process using SMOTE."
   ]
  },
  {
   "cell_type": "code",
   "execution_count": null,
   "metadata": {
    "ExecuteTime": {
     "end_time": "2021-02-12T21:31:29.757847Z",
     "start_time": "2021-02-12T21:31:29.739894Z"
    }
   },
   "outputs": [],
   "source": [
    "print(data_preprocess.shape)\n",
    "data_preprocess.head()"
   ]
  },
  {
   "cell_type": "code",
   "execution_count": null,
   "metadata": {
    "ExecuteTime": {
     "end_time": "2021-02-12T21:31:29.777794Z",
     "start_time": "2021-02-12T21:31:29.759841Z"
    }
   },
   "outputs": [],
   "source": [
    "print(data_oversampling.shape)\n",
    "data_oversampling.head()"
   ]
  },
  {
   "cell_type": "markdown",
   "metadata": {},
   "source": [
    "## Dataset for Modeling"
   ]
  },
  {
   "cell_type": "markdown",
   "metadata": {},
   "source": [
    "- We will use csv: data_oversampling.csv\n",
    "- We will do train-test split and standardization scaling\n",
    "- We will split the dataset before scaling to avoid data leakage\n",
    "- Both of the stages will be done in stage 3"
   ]
  },
  {
   "cell_type": "markdown",
   "metadata": {},
   "source": [
    "# Stage 2"
   ]
  },
  {
   "cell_type": "code",
   "execution_count": null,
   "metadata": {
    "ExecuteTime": {
     "end_time": "2021-02-12T21:31:29.807714Z",
     "start_time": "2021-02-12T21:31:29.779787Z"
    }
   },
   "outputs": [],
   "source": [
    "data_eda_viz = data.copy()"
   ]
  },
  {
   "cell_type": "code",
   "execution_count": null,
   "metadata": {
    "ExecuteTime": {
     "end_time": "2021-02-12T21:31:29.827661Z",
     "start_time": "2021-02-12T21:31:29.809709Z"
    }
   },
   "outputs": [],
   "source": [
    "print(data_eda_viz.shape)\n",
    "data_eda_viz.head()"
   ]
  },
  {
   "cell_type": "markdown",
   "metadata": {},
   "source": [
    "- Encode categorical Data for correlation matrix"
   ]
  },
  {
   "cell_type": "markdown",
   "metadata": {},
   "source": [
    "## Categorical Feature Encoding\n",
    "-  For Better Visualization"
   ]
  },
  {
   "cell_type": "markdown",
   "metadata": {},
   "source": [
    "### Gender"
   ]
  },
  {
   "cell_type": "code",
   "execution_count": null,
   "metadata": {
    "ExecuteTime": {
     "end_time": "2021-02-12T21:31:29.880538Z",
     "start_time": "2021-02-12T21:31:29.830652Z"
    }
   },
   "outputs": [],
   "source": [
    "data_eda_viz['Gender'].value_counts()"
   ]
  },
  {
   "cell_type": "code",
   "execution_count": null,
   "metadata": {
    "ExecuteTime": {
     "end_time": "2021-02-12T21:31:29.957311Z",
     "start_time": "2021-02-12T21:31:29.882513Z"
    }
   },
   "outputs": [],
   "source": [
    "dummies_Gender = pd.get_dummies(data_eda_viz['Gender'], prefix = 'Gender')\n",
    "data_eda_viz = pd.concat([data_eda_viz, dummies_Gender], axis = 1)"
   ]
  },
  {
   "cell_type": "code",
   "execution_count": null,
   "metadata": {
    "ExecuteTime": {
     "end_time": "2021-02-12T21:31:30.036102Z",
     "start_time": "2021-02-12T21:31:29.959307Z"
    }
   },
   "outputs": [],
   "source": [
    "data_eda_viz[['Gender', 'Gender_Male', 'Gender_Female']].head()"
   ]
  },
  {
   "cell_type": "markdown",
   "metadata": {},
   "source": [
    "### Driving_License"
   ]
  },
  {
   "cell_type": "code",
   "execution_count": null,
   "metadata": {
    "ExecuteTime": {
     "end_time": "2021-02-12T21:31:30.050063Z",
     "start_time": "2021-02-12T21:31:30.038096Z"
    },
    "scrolled": true
   },
   "outputs": [],
   "source": [
    "data_eda_viz['Driving_License'].value_counts()"
   ]
  },
  {
   "cell_type": "code",
   "execution_count": null,
   "metadata": {
    "ExecuteTime": {
     "end_time": "2021-02-12T21:31:30.058042Z",
     "start_time": "2021-02-12T21:31:30.052059Z"
    }
   },
   "outputs": [],
   "source": [
    "def driving_license(x):\n",
    "    if x['Driving_License'] == 1:\n",
    "        license = 'Yes'\n",
    "    else:\n",
    "        license = 'No'\n",
    "    return license"
   ]
  },
  {
   "cell_type": "code",
   "execution_count": null,
   "metadata": {
    "ExecuteTime": {
     "end_time": "2021-02-12T21:31:33.845911Z",
     "start_time": "2021-02-12T21:31:30.060038Z"
    }
   },
   "outputs": [],
   "source": [
    "data_eda_viz['Driving_License'] = data_eda_viz.apply(lambda x: driving_license(x), axis =1)"
   ]
  },
  {
   "cell_type": "code",
   "execution_count": null,
   "metadata": {
    "ExecuteTime": {
     "end_time": "2021-02-12T21:31:33.883808Z",
     "start_time": "2021-02-12T21:31:33.847906Z"
    }
   },
   "outputs": [],
   "source": [
    "data_eda_viz['Driving_License'].value_counts()"
   ]
  },
  {
   "cell_type": "code",
   "execution_count": null,
   "metadata": {
    "ExecuteTime": {
     "end_time": "2021-02-12T21:31:33.999498Z",
     "start_time": "2021-02-12T21:31:33.887799Z"
    }
   },
   "outputs": [],
   "source": [
    "dummies_Driving_License = pd.get_dummies(data_eda_viz['Driving_License'], prefix = 'Driving_License')\n",
    "data_eda_viz = pd.concat([data_eda_viz, dummies_Driving_License], axis = 1)"
   ]
  },
  {
   "cell_type": "code",
   "execution_count": null,
   "metadata": {
    "ExecuteTime": {
     "end_time": "2021-02-12T21:31:34.075296Z",
     "start_time": "2021-02-12T21:31:34.001494Z"
    }
   },
   "outputs": [],
   "source": [
    "data_eda_viz[['Driving_License', 'Driving_License_Yes', 'Driving_License_No']].head()"
   ]
  },
  {
   "cell_type": "markdown",
   "metadata": {},
   "source": [
    "### Region_Code"
   ]
  },
  {
   "cell_type": "code",
   "execution_count": null,
   "metadata": {
    "ExecuteTime": {
     "end_time": "2021-02-12T21:31:34.091254Z",
     "start_time": "2021-02-12T21:31:34.077290Z"
    }
   },
   "outputs": [],
   "source": [
    "data['Region_Code'].value_counts().head()"
   ]
  },
  {
   "cell_type": "code",
   "execution_count": null,
   "metadata": {
    "ExecuteTime": {
     "end_time": "2021-02-12T21:31:34.098236Z",
     "start_time": "2021-02-12T21:31:34.093248Z"
    }
   },
   "outputs": [],
   "source": [
    "def segment_region_code(x):\n",
    "    if x['Region_Code'] == 28.0:\n",
    "        segment = 'West Bengal'\n",
    "    elif x['Region_Code'] == 8.0:\n",
    "        segment = 'Haryana'\n",
    "    elif x['Region_Code'] == 46.0:\n",
    "        segment = 'Goa'\n",
    "    elif x['Region_Code'] == 41.0:\n",
    "        segment = 'Andra Pradesh'\n",
    "    elif x['Region_Code'] == 15.0:\n",
    "        segment = 'Maharashtra'\n",
    "    else:\n",
    "        segment = 'others'\n",
    "    return segment"
   ]
  },
  {
   "cell_type": "code",
   "execution_count": null,
   "metadata": {
    "ExecuteTime": {
     "end_time": "2021-02-12T21:31:42.216517Z",
     "start_time": "2021-02-12T21:31:34.100229Z"
    }
   },
   "outputs": [],
   "source": [
    "data_eda_viz['Region_Code_Group'] = data_eda_viz.apply(lambda x: segment_region_code(x), axis = 1)"
   ]
  },
  {
   "cell_type": "code",
   "execution_count": null,
   "metadata": {
    "ExecuteTime": {
     "end_time": "2021-02-12T21:31:42.257408Z",
     "start_time": "2021-02-12T21:31:42.218513Z"
    }
   },
   "outputs": [],
   "source": [
    "data_eda_viz['Region_Code_Group'].value_counts()"
   ]
  },
  {
   "cell_type": "code",
   "execution_count": null,
   "metadata": {
    "ExecuteTime": {
     "end_time": "2021-02-12T21:31:42.497768Z",
     "start_time": "2021-02-12T21:31:42.259403Z"
    }
   },
   "outputs": [],
   "source": [
    "dummies_Region_Code = pd.get_dummies(data_eda_viz['Region_Code_Group'], prefix = 'Region_Code')\n",
    "data_eda_viz = pd.concat([data_eda_viz, dummies_Region_Code], axis = 1)\n",
    "\n",
    "data_eda_viz[['Region_Code_Group', 'Region_Code_West Bengal', 'Region_Code_Haryana', 'Region_Code_Goa', 'Region_Code_Andra Pradesh', 'Region_Code_Maharashtra', 'Region_Code_others']].head()"
   ]
  },
  {
   "cell_type": "markdown",
   "metadata": {},
   "source": [
    "### Previously_Insured"
   ]
  },
  {
   "cell_type": "code",
   "execution_count": null,
   "metadata": {
    "ExecuteTime": {
     "end_time": "2021-02-12T21:31:42.509733Z",
     "start_time": "2021-02-12T21:31:42.499760Z"
    }
   },
   "outputs": [],
   "source": [
    "data_eda_viz['Previously_Insured'].value_counts()"
   ]
  },
  {
   "cell_type": "code",
   "execution_count": null,
   "metadata": {
    "ExecuteTime": {
     "end_time": "2021-02-12T21:31:42.516714Z",
     "start_time": "2021-02-12T21:31:42.511727Z"
    }
   },
   "outputs": [],
   "source": [
    "def previously_insured(x):\n",
    "    if x['Previously_Insured'] == 1:\n",
    "        prev_insured = 'Yes'\n",
    "    else:\n",
    "        prev_insured = 'No'\n",
    "    return prev_insured"
   ]
  },
  {
   "cell_type": "code",
   "execution_count": null,
   "metadata": {
    "ExecuteTime": {
     "end_time": "2021-02-12T21:31:46.811225Z",
     "start_time": "2021-02-12T21:31:42.519708Z"
    }
   },
   "outputs": [],
   "source": [
    "data_eda_viz['Previously_Insured'] = data_eda_viz.apply(lambda x: previously_insured(x), axis =1)"
   ]
  },
  {
   "cell_type": "code",
   "execution_count": null,
   "metadata": {
    "ExecuteTime": {
     "end_time": "2021-02-12T21:31:46.861093Z",
     "start_time": "2021-02-12T21:31:46.813220Z"
    }
   },
   "outputs": [],
   "source": [
    "data_eda_viz['Previously_Insured'].value_counts()"
   ]
  },
  {
   "cell_type": "code",
   "execution_count": null,
   "metadata": {
    "ExecuteTime": {
     "end_time": "2021-02-12T21:31:47.139348Z",
     "start_time": "2021-02-12T21:31:46.864086Z"
    }
   },
   "outputs": [],
   "source": [
    "dummies_Previously_Insured = pd.get_dummies(data_eda_viz['Previously_Insured'], prefix = 'Previously_Insured')\n",
    "data_eda_viz = pd.concat([data_eda_viz, dummies_Previously_Insured], axis = 1)\n",
    "\n",
    "data_eda_viz[['Previously_Insured', 'Previously_Insured_Yes', 'Previously_Insured_No']].head()"
   ]
  },
  {
   "cell_type": "markdown",
   "metadata": {},
   "source": [
    "### Vehicle_Age"
   ]
  },
  {
   "cell_type": "code",
   "execution_count": null,
   "metadata": {
    "ExecuteTime": {
     "end_time": "2021-02-12T21:31:47.190214Z",
     "start_time": "2021-02-12T21:31:47.141343Z"
    }
   },
   "outputs": [],
   "source": [
    "data_eda_viz['Vehicle_Age'].value_counts()"
   ]
  },
  {
   "cell_type": "code",
   "execution_count": null,
   "metadata": {
    "ExecuteTime": {
     "end_time": "2021-02-12T21:31:47.327844Z",
     "start_time": "2021-02-12T21:31:47.192208Z"
    }
   },
   "outputs": [],
   "source": [
    "oe_va = OrdinalEncoder(categories = [['< 1 Year', '1-2 Year', '> 2 Years']])\n",
    "data_eda_viz['Vehicle_Age_Num'] = oe_va.fit_transform(data_eda_viz.loc[:, ['Vehicle_Age']])"
   ]
  },
  {
   "cell_type": "code",
   "execution_count": null,
   "metadata": {
    "ExecuteTime": {
     "end_time": "2021-02-12T21:31:47.344798Z",
     "start_time": "2021-02-12T21:31:47.329840Z"
    }
   },
   "outputs": [],
   "source": [
    "data_eda_viz['Vehicle_Age_Num'].value_counts()"
   ]
  },
  {
   "cell_type": "markdown",
   "metadata": {},
   "source": [
    "### Vehicle_Damage"
   ]
  },
  {
   "cell_type": "code",
   "execution_count": null,
   "metadata": {
    "ExecuteTime": {
     "end_time": "2021-02-12T21:31:47.398654Z",
     "start_time": "2021-02-12T21:31:47.346793Z"
    }
   },
   "outputs": [],
   "source": [
    "data_eda_viz['Vehicle_Damage'].value_counts()"
   ]
  },
  {
   "cell_type": "code",
   "execution_count": null,
   "metadata": {
    "ExecuteTime": {
     "end_time": "2021-02-12T21:31:47.525315Z",
     "start_time": "2021-02-12T21:31:47.400649Z"
    }
   },
   "outputs": [],
   "source": [
    "dummies_Vehicle_Damage = pd.get_dummies(data_eda_viz['Vehicle_Damage'], prefix = 'Vehicle_Damage')\n",
    "data_eda_viz = pd.concat([data_eda_viz, dummies_Vehicle_Damage], axis = 1)"
   ]
  },
  {
   "cell_type": "code",
   "execution_count": null,
   "metadata": {
    "ExecuteTime": {
     "end_time": "2021-02-12T21:31:47.627044Z",
     "start_time": "2021-02-12T21:31:47.527311Z"
    }
   },
   "outputs": [],
   "source": [
    "data_eda_viz[['Vehicle_Damage', 'Vehicle_Damage_Yes', 'Vehicle_Damage_No']].head()"
   ]
  },
  {
   "cell_type": "markdown",
   "metadata": {},
   "source": [
    "### Policy_Sales_Channel"
   ]
  },
  {
   "cell_type": "code",
   "execution_count": null,
   "metadata": {
    "ExecuteTime": {
     "end_time": "2021-02-12T21:31:47.643998Z",
     "start_time": "2021-02-12T21:31:47.629039Z"
    }
   },
   "outputs": [],
   "source": [
    "data_eda_viz['Policy_Sales_Channel'].value_counts().head()"
   ]
  },
  {
   "cell_type": "code",
   "execution_count": null,
   "metadata": {
    "ExecuteTime": {
     "end_time": "2021-02-12T21:31:47.652975Z",
     "start_time": "2021-02-12T21:31:47.645993Z"
    }
   },
   "outputs": [],
   "source": [
    "def segment_policy_sales_channel(x):\n",
    "    if x['Policy_Sales_Channel'] == 152.0:\n",
    "        segment = 'Internet'\n",
    "    elif x['Policy_Sales_Channel'] == 26.0:\n",
    "        segment = 'Direct Response'\n",
    "    elif x['Policy_Sales_Channel'] == 124.0:\n",
    "        segment = 'Independent Agencies'\n",
    "    elif x['Policy_Sales_Channel'] == 160.0:\n",
    "        segment = 'Affinity Group'\n",
    "    elif x['Policy_Sales_Channel'] == 156.0:\n",
    "        segment = 'Exclusive/Captive Agents'\n",
    "    else:\n",
    "        segment = 'others'\n",
    "    return segment"
   ]
  },
  {
   "cell_type": "code",
   "execution_count": null,
   "metadata": {
    "ExecuteTime": {
     "end_time": "2021-02-12T21:31:55.666552Z",
     "start_time": "2021-02-12T21:31:47.655967Z"
    }
   },
   "outputs": [],
   "source": [
    "data_eda_viz['Policy_Sales_Channel_Group'] = data_eda_viz.apply(lambda x: segment_policy_sales_channel(x), axis = 1)"
   ]
  },
  {
   "cell_type": "code",
   "execution_count": null,
   "metadata": {
    "ExecuteTime": {
     "end_time": "2021-02-12T21:31:55.725379Z",
     "start_time": "2021-02-12T21:31:55.671531Z"
    }
   },
   "outputs": [],
   "source": [
    "data_eda_viz['Policy_Sales_Channel_Group'].value_counts()"
   ]
  },
  {
   "cell_type": "code",
   "execution_count": null,
   "metadata": {
    "ExecuteTime": {
     "end_time": "2021-02-12T21:31:56.171187Z",
     "start_time": "2021-02-12T21:31:55.728371Z"
    }
   },
   "outputs": [],
   "source": [
    "dummies_Policy_Sales_Channel = pd.get_dummies(data_eda_viz['Policy_Sales_Channel_Group'], prefix = 'Policy_Sales_Channel')\n",
    "data_eda_viz = pd.concat([data_eda_viz, dummies_Policy_Sales_Channel], axis = 1)\n",
    "\n",
    "data_eda_viz[['Policy_Sales_Channel_Group', 'Policy_Sales_Channel_Internet', 'Policy_Sales_Channel_Direct Response', 'Policy_Sales_Channel_Independent Agencies', 'Policy_Sales_Channel_Affinity Group', 'Policy_Sales_Channel_Exclusive/Captive Agents', 'Policy_Sales_Channel_others']].head()"
   ]
  },
  {
   "cell_type": "markdown",
   "metadata": {},
   "source": [
    "## Numerical Feature Binning\n",
    "- For Better Visualization"
   ]
  },
  {
   "cell_type": "markdown",
   "metadata": {},
   "source": [
    "### Age"
   ]
  },
  {
   "cell_type": "code",
   "execution_count": null,
   "metadata": {
    "ExecuteTime": {
     "end_time": "2021-02-12T21:31:56.214071Z",
     "start_time": "2021-02-12T21:31:56.187146Z"
    }
   },
   "outputs": [],
   "source": [
    "data_eda_viz['Age'].describe()"
   ]
  },
  {
   "cell_type": "code",
   "execution_count": null,
   "metadata": {
    "ExecuteTime": {
     "end_time": "2021-02-12T21:31:56.237011Z",
     "start_time": "2021-02-12T21:31:56.221054Z"
    }
   },
   "outputs": [],
   "source": [
    "data_eda_viz['Age'].value_counts()"
   ]
  },
  {
   "cell_type": "code",
   "execution_count": null,
   "metadata": {
    "ExecuteTime": {
     "end_time": "2021-02-12T21:31:56.247984Z",
     "start_time": "2021-02-12T21:31:56.241001Z"
    }
   },
   "outputs": [],
   "source": [
    "def segment_age(x):\n",
    "    if x['Age'] > 17 and x['Age'] <= 30:\n",
    "        segment = '17y - 30y'\n",
    "    elif x['Age'] > 30 and x['Age'] <= 45:\n",
    "        segment = '31y - 45y'\n",
    "    elif x['Age'] > 45 and x['Age'] <= 55:\n",
    "        segment = '46y - 55y'\n",
    "    elif x['Age'] > 55:\n",
    "        segment = '> 55y'\n",
    "    return segment"
   ]
  },
  {
   "cell_type": "code",
   "execution_count": null,
   "metadata": {
    "ExecuteTime": {
     "end_time": "2021-02-12T21:32:09.693013Z",
     "start_time": "2021-02-12T21:31:56.253967Z"
    }
   },
   "outputs": [],
   "source": [
    "data_eda_viz['Age_Group'] = data_eda_viz.apply(lambda x: segment_age(x), axis = 1)\n",
    "data_eda_viz.head()"
   ]
  },
  {
   "cell_type": "code",
   "execution_count": null,
   "metadata": {
    "ExecuteTime": {
     "end_time": "2021-02-12T21:32:09.730913Z",
     "start_time": "2021-02-12T21:32:09.695009Z"
    }
   },
   "outputs": [],
   "source": [
    "data_eda_viz['Age_Group'].value_counts()"
   ]
  },
  {
   "cell_type": "markdown",
   "metadata": {},
   "source": [
    "### Annual_Premium"
   ]
  },
  {
   "cell_type": "code",
   "execution_count": null,
   "metadata": {
    "ExecuteTime": {
     "end_time": "2021-02-12T21:32:09.758839Z",
     "start_time": "2021-02-12T21:32:09.732907Z"
    }
   },
   "outputs": [],
   "source": [
    "data_eda_viz['Annual_Premium'].describe()"
   ]
  },
  {
   "cell_type": "code",
   "execution_count": null,
   "metadata": {
    "ExecuteTime": {
     "end_time": "2021-02-12T21:32:09.795739Z",
     "start_time": "2021-02-12T21:32:09.760833Z"
    }
   },
   "outputs": [],
   "source": [
    "data_eda_viz['Annual_Premium'].value_counts()"
   ]
  },
  {
   "cell_type": "code",
   "execution_count": null,
   "metadata": {
    "ExecuteTime": {
     "end_time": "2021-02-12T21:32:09.803718Z",
     "start_time": "2021-02-12T21:32:09.797734Z"
    }
   },
   "outputs": [],
   "source": [
    "def segment_annual_premium(x):\n",
    "    if x['Annual_Premium'] < 5000:\n",
    "        segment = '< 5K'\n",
    "    elif x['Annual_Premium'] > 5000 and x['Annual_Premium'] <= 30000:\n",
    "        segment = '5K - 30K'\n",
    "    elif x['Annual_Premium'] > 30000 and x['Annual_Premium'] <= 40000:\n",
    "        segment = '30K - 40K'\n",
    "    elif x['Annual_Premium'] > 40000 and x['Annual_Premium'] <= 50000:\n",
    "        segment = '40K - 50K'\n",
    "    elif x['Annual_Premium'] > 50000:\n",
    "        segment = '> 50K'\n",
    "    return segment"
   ]
  },
  {
   "cell_type": "code",
   "execution_count": null,
   "metadata": {
    "ExecuteTime": {
     "end_time": "2021-02-12T21:32:21.464525Z",
     "start_time": "2021-02-12T21:32:09.805713Z"
    }
   },
   "outputs": [],
   "source": [
    "data_eda_viz['Annual_Premium_Group'] = data_eda_viz.apply(lambda x: segment_annual_premium(x), axis = 1)\n",
    "data.head()"
   ]
  },
  {
   "cell_type": "code",
   "execution_count": null,
   "metadata": {
    "ExecuteTime": {
     "end_time": "2021-02-12T21:32:21.527355Z",
     "start_time": "2021-02-12T21:32:21.469511Z"
    }
   },
   "outputs": [],
   "source": [
    "data_eda_viz['Annual_Premium_Group'].value_counts()"
   ]
  },
  {
   "cell_type": "markdown",
   "metadata": {},
   "source": [
    "### Vintage"
   ]
  },
  {
   "cell_type": "code",
   "execution_count": null,
   "metadata": {
    "ExecuteTime": {
     "end_time": "2021-02-12T21:32:21.564257Z",
     "start_time": "2021-02-12T21:32:21.530349Z"
    }
   },
   "outputs": [],
   "source": [
    "data_eda_viz['Vintage'].describe()"
   ]
  },
  {
   "cell_type": "code",
   "execution_count": null,
   "metadata": {
    "ExecuteTime": {
     "end_time": "2021-02-12T21:32:21.588212Z",
     "start_time": "2021-02-12T21:32:21.568266Z"
    }
   },
   "outputs": [],
   "source": [
    "data_eda_viz['Vintage'].value_counts()"
   ]
  },
  {
   "cell_type": "code",
   "execution_count": null,
   "metadata": {
    "ExecuteTime": {
     "end_time": "2021-02-12T21:32:21.596172Z",
     "start_time": "2021-02-12T21:32:21.591185Z"
    }
   },
   "outputs": [],
   "source": [
    "def vintage_month(x):\n",
    "    to_month = int(round(x['Vintage'] / 30, 0))\n",
    "    return to_month"
   ]
  },
  {
   "cell_type": "code",
   "execution_count": null,
   "metadata": {
    "ExecuteTime": {
     "end_time": "2021-02-12T21:32:27.283956Z",
     "start_time": "2021-02-12T21:32:21.599164Z"
    }
   },
   "outputs": [],
   "source": [
    "data_eda_viz['Vintage_Month'] = data_eda_viz.apply(lambda x: vintage_month(x), axis = 1)\n",
    "data_eda_viz.head()"
   ]
  },
  {
   "cell_type": "code",
   "execution_count": null,
   "metadata": {
    "ExecuteTime": {
     "end_time": "2021-02-12T21:32:27.296922Z",
     "start_time": "2021-02-12T21:32:27.285951Z"
    }
   },
   "outputs": [],
   "source": [
    "data_eda_viz['Vintage_Month'].value_counts()"
   ]
  },
  {
   "cell_type": "code",
   "execution_count": null,
   "metadata": {
    "ExecuteTime": {
     "end_time": "2021-02-12T21:32:27.304900Z",
     "start_time": "2021-02-12T21:32:27.298916Z"
    }
   },
   "outputs": [],
   "source": [
    "def vintage_month_group(x):\n",
    "    to_month = x['Vintage_Month']\n",
    "    \n",
    "    if to_month < 4:\n",
    "        month_group = '< 4 Month'\n",
    "    elif to_month >= 4 and to_month <= 7:\n",
    "        month_group = '4-7 Month'\n",
    "    elif to_month > 7:\n",
    "        month_group = '> 7 Month'\n",
    "    return month_group"
   ]
  },
  {
   "cell_type": "code",
   "execution_count": null,
   "metadata": {
    "ExecuteTime": {
     "end_time": "2021-02-12T21:32:32.518976Z",
     "start_time": "2021-02-12T21:32:27.306895Z"
    }
   },
   "outputs": [],
   "source": [
    "data_eda_viz['Vintage_Month_Group'] = data_eda_viz.apply(lambda x: vintage_month_group(x), axis = 1)\n",
    "data_eda_viz.head()"
   ]
  },
  {
   "cell_type": "code",
   "execution_count": null,
   "metadata": {
    "ExecuteTime": {
     "end_time": "2021-02-12T21:32:32.564829Z",
     "start_time": "2021-02-12T21:32:32.522941Z"
    }
   },
   "outputs": [],
   "source": [
    "data_eda_viz['Vintage_Month_Group'].value_counts()"
   ]
  },
  {
   "cell_type": "markdown",
   "metadata": {},
   "source": [
    "## EDA"
   ]
  },
  {
   "cell_type": "markdown",
   "metadata": {},
   "source": [
    "### Matrix Correlation"
   ]
  },
  {
   "cell_type": "code",
   "execution_count": null,
   "metadata": {
    "ExecuteTime": {
     "end_time": "2021-02-12T21:32:33.652949Z",
     "start_time": "2021-02-12T21:32:32.568818Z"
    }
   },
   "outputs": [],
   "source": [
    "feature = [\n",
    "    'Gender_Male', 'Gender_Female',\n",
    "    'Age',\n",
    "    'Vehicle_Age_Num',\n",
    "    'Annual_Premium',\n",
    "    'Vintage',\n",
    "    'Driving_License_Yes',\n",
    "    'Previously_Insured_Yes',\n",
    "    'Vehicle_Damage_Yes',\n",
    "    'Region_Code_West Bengal', 'Region_Code_Haryana', 'Region_Code_Goa', 'Region_Code_Andra Pradesh', 'Region_Code_Maharashtra', 'Region_Code_others',\n",
    "    'Policy_Sales_Channel_Internet', 'Policy_Sales_Channel_Direct Response', 'Policy_Sales_Channel_Independent Agencies', 'Policy_Sales_Channel_Affinity Group', 'Policy_Sales_Channel_Exclusive/Captive Agents', 'Policy_Sales_Channel_others'\n",
    "]\n",
    "\n",
    "target = ['Response']\n",
    "corr_ = feature + target\n",
    "\n",
    "check_corr = data_eda_viz[corr_].corr()"
   ]
  },
  {
   "cell_type": "code",
   "execution_count": null,
   "metadata": {
    "ExecuteTime": {
     "end_time": "2021-02-12T21:32:52.729665Z",
     "start_time": "2021-02-12T21:32:33.656909Z"
    },
    "scrolled": false
   },
   "outputs": [],
   "source": [
    "plt.figure(figsize = (20.7, 16))\n",
    "sns.heatmap(\n",
    "    check_corr,\n",
    "    annot = True,\n",
    "    fmt = '.1f',\n",
    "    cmap = 'RdBu'\n",
    ")\n",
    "\n",
    "plt.tight_layout()\n",
    "\n",
    "plt.savefig('fig/stage_2/correlation.png', bbox_inches = 'tight', dpi = 300, transparent = True)"
   ]
  },
  {
   "cell_type": "markdown",
   "metadata": {},
   "source": [
    "### Numerical"
   ]
  },
  {
   "cell_type": "code",
   "execution_count": null,
   "metadata": {
    "ExecuteTime": {
     "end_time": "2021-02-12T21:32:52.745285Z",
     "start_time": "2021-02-12T21:32:52.729665Z"
    }
   },
   "outputs": [],
   "source": [
    "features_num = ['Age', 'Annual_Premium', 'Vintage']"
   ]
  },
  {
   "cell_type": "code",
   "execution_count": null,
   "metadata": {
    "ExecuteTime": {
     "end_time": "2021-02-12T21:33:06.587505Z",
     "start_time": "2021-02-12T21:32:52.745285Z"
    }
   },
   "outputs": [],
   "source": [
    "plt.figure(figsize = (10, 21))\n",
    "for i in range(0, len(features_num)):\n",
    "    plt.subplot(3, 1, i + 1)\n",
    "    ax = sns.histplot(\n",
    "        x = data_eda_viz[features_num[i]],\n",
    "        kde = True\n",
    "    )\n",
    "    \n",
    "plt.tight_layout()\n",
    "\n",
    "plt.savefig('fig/stage_2/EDA num.png', bbox_inches = 'tight', dpi = 300, transparent = True)"
   ]
  },
  {
   "cell_type": "code",
   "execution_count": null,
   "metadata": {
    "ExecuteTime": {
     "end_time": "2021-02-12T21:33:29.402168Z",
     "start_time": "2021-02-12T21:33:06.589497Z"
    }
   },
   "outputs": [],
   "source": [
    "plt.figure(figsize = (12, 21))\n",
    "for i in range(0, len(features_num)):\n",
    "    plt.subplot(3, 1, i + 1)\n",
    "    ax = sns.histplot(\n",
    "        x = data_eda_viz[features_num[i]],\n",
    "        hue = data_eda_viz['Response'],\n",
    "        kde = True,\n",
    "        hue_order = [0, 1],\n",
    "        multiple = 'stack',\n",
    "        palette = ['darkgray', '#293286']\n",
    "    )\n",
    "\n",
    "    L = ax.legend(['Interested', 'Not Interested'], fontsize = 14, frameon = True)\n",
    "    L.set_title('Response', prop = {'size' : 14})\n",
    "    L.get_frame().set_alpha(1)\n",
    "    L.get_frame().set_facecolor((1, 1, 1, 1))\n",
    "    \n",
    "plt.tight_layout()\n",
    "\n",
    "plt.savefig('fig/stage_2/EDA num-target.png', bbox_inches = 'tight', dpi = 300, transparent = True)"
   ]
  },
  {
   "cell_type": "markdown",
   "metadata": {
    "ExecuteTime": {
     "end_time": "2021-02-05T18:33:27.171590Z",
     "start_time": "2021-02-05T18:33:27.168597Z"
    }
   },
   "source": [
    "### Categorical"
   ]
  },
  {
   "cell_type": "code",
   "execution_count": null,
   "metadata": {
    "ExecuteTime": {
     "end_time": "2021-02-12T21:33:29.408157Z",
     "start_time": "2021-02-12T21:33:29.404135Z"
    }
   },
   "outputs": [],
   "source": [
    "features_cat = ['Gender', 'Driving_License', 'Previously_Insured', 'Vehicle_Age', 'Vehicle_Damage', 'Region_Code_Group', 'Policy_Sales_Channel_Group']"
   ]
  },
  {
   "cell_type": "code",
   "execution_count": null,
   "metadata": {
    "ExecuteTime": {
     "end_time": "2021-02-12T21:33:35.339752Z",
     "start_time": "2021-02-12T21:33:29.411118Z"
    },
    "scrolled": false
   },
   "outputs": [],
   "source": [
    "plt.figure(figsize = (12, 49))\n",
    "for i in range(0, len(features_cat)):\n",
    "    plt.subplot(7, 1, i + 1)\n",
    "    ax = sns.countplot(\n",
    "        x = data_eda_viz[features_cat[i]],\n",
    "        order = data_eda_viz[features_cat[i]].value_counts().index,\n",
    "        palette = ['#3f88c5', '#ffba08', '#032b43', '#d00000', '#136f63', '#383d3b']\n",
    "        # ['#30bced', '#fc5130', '#737382', '#fffaff', '#e0777d', '#050401']\n",
    "        # ['#235789', '#f1d302', '#ed1c24', '#fdfffc', '#020100', '#3d0c11']\n",
    "    )\n",
    "    \n",
    "plt.tight_layout()\n",
    "\n",
    "plt.savefig('fig/stage_2/EDA cat.png', bbox_inches = 'tight', dpi = 300, transparent = True)"
   ]
  },
  {
   "cell_type": "code",
   "execution_count": null,
   "metadata": {
    "ExecuteTime": {
     "end_time": "2021-02-12T21:33:43.196147Z",
     "start_time": "2021-02-12T21:33:35.341715Z"
    },
    "scrolled": false
   },
   "outputs": [],
   "source": [
    "plt.figure(figsize = (12, 49))\n",
    "for i in range(0, len(features_cat)):\n",
    "    plt.subplot(7, 1, i + 1)\n",
    "    ax = sns.countplot(\n",
    "        x = data_eda_viz[features_cat[i]],\n",
    "        hue = data_eda_viz['Response'],\n",
    "        hue_order = [1, 0],\n",
    "        palette = ['#293286', 'darkgray'],\n",
    "        order = pd.crosstab(data_eda_viz[features_cat[i]], data_eda_viz['Response']).sort_values(1, ascending = False).index,\n",
    "    )\n",
    "    \n",
    "    L = ax.legend(['Interested', 'Not Interested'], fontsize = 14, frameon = True)\n",
    "    L.set_title('Response', prop = {'size' : 14})\n",
    "    L.get_frame().set_alpha(1)\n",
    "    L.get_frame().set_facecolor((1, 1, 1, 1))\n",
    "    \n",
    "plt.tight_layout()\n",
    "\n",
    "plt.savefig('fig/stage_2/EDA cat-target.png', bbox_inches = 'tight', dpi = 300, transparent = True)"
   ]
  },
  {
   "cell_type": "markdown",
   "metadata": {},
   "source": [
    "## Insights & Visualization"
   ]
  },
  {
   "cell_type": "code",
   "execution_count": null,
   "metadata": {
    "ExecuteTime": {
     "end_time": "2021-02-12T21:33:43.266957Z",
     "start_time": "2021-02-12T21:33:43.198145Z"
    }
   },
   "outputs": [],
   "source": [
    "data.info()"
   ]
  },
  {
   "cell_type": "markdown",
   "metadata": {},
   "source": [
    "### Gender"
   ]
  },
  {
   "cell_type": "code",
   "execution_count": null,
   "metadata": {
    "ExecuteTime": {
     "end_time": "2021-02-12T21:33:43.897381Z",
     "start_time": "2021-02-12T21:33:43.268951Z"
    }
   },
   "outputs": [],
   "source": [
    "gender_distribution = data_eda_viz.groupby(['Gender', 'Response']).count()[['id']]\n",
    "\n",
    "gender = data_eda_viz.groupby(['Gender']).count()[['id']]\n",
    "\n",
    "gender_distribution['percentage'] = gender_distribution.div(gender, level = 'Gender') * 100\n",
    "gender_distribution = gender_distribution.reset_index()\n",
    "gender_distribution.columns = ['Gender', 'Response', '#of customers', 'percentage']\n",
    "gender_distribution"
   ]
  },
  {
   "cell_type": "code",
   "execution_count": null,
   "metadata": {
    "ExecuteTime": {
     "end_time": "2021-02-12T21:33:43.904363Z",
     "start_time": "2021-02-12T21:33:43.899377Z"
    }
   },
   "outputs": [],
   "source": [
    "# palette color to highlight Response = 'Interested'/1\n",
    "color_focus_gender = ['#293286' if (x == 1) else 'darkgray' for x in gender_distribution['Response']]"
   ]
  },
  {
   "cell_type": "code",
   "execution_count": null,
   "metadata": {
    "ExecuteTime": {
     "end_time": "2021-02-12T21:33:44.917653Z",
     "start_time": "2021-02-12T21:33:43.906359Z"
    }
   },
   "outputs": [],
   "source": [
    "plt.figure(figsize = (10, 8))\n",
    "\n",
    "# plot proportion\n",
    "ax = sns.barplot(\n",
    "    x = 'Gender',\n",
    "    y = 'percentage',\n",
    "    hue = 'Response',\n",
    "    order = gender_distribution.iloc[gender_distribution[gender_distribution['Response'] == 1]['percentage'].sort_values(ascending = False).index]['Gender'],\n",
    "    palette = color_focus_gender,\n",
    "    data = gender_distribution\n",
    ")\n",
    "\n",
    "ax.spines['right'].set_visible(False)\n",
    "ax.spines['top'].set_visible(False)\n",
    "ax.spines['left'].set_visible(False)\n",
    "\n",
    "L = plt.legend(fontsize = 13, frameon = True)\n",
    "L.get_texts()[0].set_text('Not interested')\n",
    "L.get_texts()[1].set_text('Interested')\n",
    "L.set_title('Response', prop = {'size' : 13})\n",
    "L.get_frame().set_alpha(1)\n",
    "L.get_frame().set_facecolor((1, 1, 1, 1))\n",
    "\n",
    "y_ = [x for x in range(0, 120, 20)]\n",
    "plt.yticks(y_)\n",
    "\n",
    "plt.xlabel('Gender', fontsize = 14)\n",
    "plt.ylabel('Proportion', fontsize = 14)\n",
    "\n",
    "ylabels = [format(y) + '%' for y in ax.get_yticks()]\n",
    "ax.set_yticklabels(labels = ylabels)\n",
    "\n",
    "plt.xticks(fontsize = 14) \n",
    "plt.yticks(fontsize = 14) \n",
    "\n",
    "for p in ax.patches:\n",
    "    ax.annotate(\n",
    "        format(p.get_height(), '.1f') + '%',\n",
    "        (p.get_x() + p.get_width() / 2., p.get_height()), \n",
    "        ha = 'center',\n",
    "        fontweight = 'semibold',\n",
    "        size = 20,\n",
    "        xytext = (0, 10), \n",
    "        textcoords = 'offset points',\n",
    "        color = 'grey'\n",
    "    )\n",
    "\n",
    "plt.title('Customer Response Based on Gender', fontsize = 24, fontweight = 'semibold', ha = 'center', pad = 20)\n",
    "\n",
    "plt.tight_layout()\n",
    "\n",
    "plt.savefig('fig/stage_2/insight gender.png', bbox_inches = 'tight', dpi = 300, transparent = True)"
   ]
  },
  {
   "cell_type": "markdown",
   "metadata": {},
   "source": [
    "### Age"
   ]
  },
  {
   "cell_type": "code",
   "execution_count": null,
   "metadata": {
    "ExecuteTime": {
     "end_time": "2021-02-12T21:33:47.447936Z",
     "start_time": "2021-02-12T21:33:44.919648Z"
    }
   },
   "outputs": [],
   "source": [
    "plt.figure(figsize = (20.7, 8))\n",
    "\n",
    "# plot proportion\n",
    "ax = sns.histplot(\n",
    "    x = data_eda_viz['Age'],\n",
    "    hue = data_eda_viz['Response'],\n",
    "    stat = 'probability',\n",
    "    multiple = 'fill',\n",
    "    data = data_eda_viz,\n",
    "    palette = ['darkgray', '#293286']\n",
    ")\n",
    "\n",
    "ax.spines['right'].set_visible(False)\n",
    "ax.spines['top'].set_visible(False)\n",
    "ax.spines['left'].set_visible(False)\n",
    "\n",
    "L = ax.legend(['Interested', 'Not Interested'], fontsize = 14, frameon = True)\n",
    "L.set_title('Response', prop = {'size' : 14})\n",
    "L.get_frame().set_alpha(1)\n",
    "L.get_frame().set_facecolor((1, 1, 1, 1))\n",
    "\n",
    "plt.xlabel('Age', fontsize = 14)\n",
    "plt.ylabel('Proportion', fontsize = 14)\n",
    "\n",
    "y_ = [y for y in np.arange(0, 1.2, 0.2)]\n",
    "plt.yticks(y_)\n",
    "\n",
    "x_ = [x for x in range(20, 90, 5)]\n",
    "plt.xticks(x_)\n",
    "\n",
    "ylabels = [format(int(round(y * 100, 0))) + '%' for y in ax.get_yticks()]\n",
    "ax.set_yticklabels(labels = ylabels)\n",
    "\n",
    "plt.xticks(fontsize = 14) \n",
    "plt.yticks(fontsize = 14) \n",
    "\n",
    "plt.title('Customer Response Based on Age', fontsize = 24, fontweight = 'semibold', ha = 'center', pad = 20)\n",
    "\n",
    "plt.tight_layout()\n",
    "\n",
    "plt.savefig('fig/stage_2/insight age.png', bbox_inches = 'tight', dpi = 300, transparent = True)"
   ]
  },
  {
   "cell_type": "code",
   "execution_count": null,
   "metadata": {
    "ExecuteTime": {
     "end_time": "2021-02-12T21:33:48.055313Z",
     "start_time": "2021-02-12T21:33:47.449932Z"
    }
   },
   "outputs": [],
   "source": [
    "age_group_distribution = data_eda_viz.groupby(['Age_Group', 'Response']).count()[['id']]\n",
    "\n",
    "age_group = data_eda_viz.groupby(['Age_Group']).count()[['id']]\n",
    "\n",
    "age_group_distribution['percentage'] = age_group_distribution.div(age_group, level = 'Age_Group') * 100\n",
    "age_group_distribution = age_group_distribution.reset_index()\n",
    "age_group_distribution.columns = ['Age_Group', 'Response', '#of customers', 'percentage']\n",
    "age_group_distribution"
   ]
  },
  {
   "cell_type": "code",
   "execution_count": null,
   "metadata": {
    "ExecuteTime": {
     "end_time": "2021-02-12T21:33:48.063291Z",
     "start_time": "2021-02-12T21:33:48.057307Z"
    }
   },
   "outputs": [],
   "source": [
    "# palette color to highlight Response = 'Interested'/1\n",
    "color_focus_age_group = ['#293286' if (x == 1) else 'darkgray' for x in age_group_distribution['Response']]"
   ]
  },
  {
   "cell_type": "code",
   "execution_count": null,
   "metadata": {
    "ExecuteTime": {
     "end_time": "2021-02-12T21:33:49.335501Z",
     "start_time": "2021-02-12T21:33:48.066283Z"
    }
   },
   "outputs": [],
   "source": [
    "plt.figure(figsize = (10, 8))\n",
    "\n",
    "# plot proportion\n",
    "ax = sns.barplot(\n",
    "    x = 'Age_Group',\n",
    "    y = 'percentage',\n",
    "    hue = 'Response',\n",
    "    order = age_group_distribution.iloc[age_group_distribution[age_group_distribution['Response'] == 1]['percentage'].sort_values(ascending = False).index]['Age_Group'],\n",
    "    palette = color_focus_age_group,\n",
    "    data = age_group_distribution\n",
    ")\n",
    "\n",
    "ax.spines['right'].set_visible(False)\n",
    "ax.spines['top'].set_visible(False)\n",
    "ax.spines['left'].set_visible(False)\n",
    "\n",
    "L = plt.legend(fontsize = 13, frameon = True, bbox_to_anchor = (0, 1.03), loc = 'upper left')\n",
    "L.get_texts()[0].set_text('Not interested')\n",
    "L.get_texts()[1].set_text('Interested')\n",
    "L.set_title('Response', prop = {'size' : 13})\n",
    "L.get_frame().set_alpha(1)\n",
    "L.get_frame().set_facecolor((1, 1, 1, 1))\n",
    "\n",
    "y_ = [x for x in range(0, 120, 20)]\n",
    "plt.yticks(y_)\n",
    "\n",
    "plt.xlabel('Age Group', fontsize = 14)\n",
    "plt.ylabel('Proportion', fontsize = 14)\n",
    "\n",
    "ylabels = [format(y) + '%' for y in ax.get_yticks()]\n",
    "ax.set_yticklabels(labels = ylabels)\n",
    "\n",
    "plt.xticks(fontsize = 14) \n",
    "plt.yticks(fontsize = 14) \n",
    "\n",
    "for p in ax.patches:\n",
    "    ax.annotate(\n",
    "        format(p.get_height(), '.1f') + '%',\n",
    "        (p.get_x() + p.get_width() / 2., p.get_height()), \n",
    "        ha = 'center',\n",
    "        fontweight = 'semibold',\n",
    "        size = 20,\n",
    "        xytext = (5, 8), \n",
    "        textcoords = 'offset points',\n",
    "        color = 'grey'\n",
    "    )\n",
    "\n",
    "plt.title('Customer Response Based on Age Group', fontsize = 24, fontweight = 'semibold', ha = 'center', pad = 20)\n",
    "\n",
    "plt.tight_layout()\n",
    "\n",
    "plt.savefig('fig/stage_2/insight age group.png', bbox_inches = 'tight', dpi = 300, transparent = True)"
   ]
  },
  {
   "cell_type": "markdown",
   "metadata": {},
   "source": [
    "### Driving_License"
   ]
  },
  {
   "cell_type": "code",
   "execution_count": null,
   "metadata": {
    "ExecuteTime": {
     "end_time": "2021-02-12T21:33:50.283027Z",
     "start_time": "2021-02-12T21:33:49.337495Z"
    }
   },
   "outputs": [],
   "source": [
    "driving_license_distribution = data_eda_viz.groupby(['Driving_License', 'Response']).count()[['id']]\n",
    "\n",
    "driving_license = data_eda_viz.groupby(['Driving_License']).count()[['id']]\n",
    "\n",
    "driving_license_distribution['percentage'] = driving_license_distribution.div(driving_license, level = 'Driving_License') * 100\n",
    "driving_license_distribution = driving_license_distribution.reset_index()\n",
    "driving_license_distribution.columns = ['Driving_License', 'Response', '#of customers', 'percentage']\n",
    "driving_license_distribution"
   ]
  },
  {
   "cell_type": "code",
   "execution_count": null,
   "metadata": {
    "ExecuteTime": {
     "end_time": "2021-02-12T21:33:50.291006Z",
     "start_time": "2021-02-12T21:33:50.285021Z"
    }
   },
   "outputs": [],
   "source": [
    "# palette color to highlight Response = 'Interested'/1\n",
    "color_focus_driving_license = ['#293286' if (x == 1) else 'darkgray' for x in driving_license_distribution['Response']]"
   ]
  },
  {
   "cell_type": "code",
   "execution_count": null,
   "metadata": {
    "ExecuteTime": {
     "end_time": "2021-02-12T21:33:51.375330Z",
     "start_time": "2021-02-12T21:33:50.293998Z"
    }
   },
   "outputs": [],
   "source": [
    "plt.figure(figsize = (10, 8))\n",
    "\n",
    "# plot proportion\n",
    "ax = sns.barplot(\n",
    "    x = 'Driving_License',\n",
    "    y = 'percentage',\n",
    "    hue = 'Response',\n",
    "    order = driving_license_distribution.iloc[driving_license_distribution[driving_license_distribution['Response'] == 1]['percentage'].sort_values(ascending = False).index]['Driving_License'],\n",
    "    palette = color_focus_driving_license,\n",
    "    data = driving_license_distribution\n",
    ")\n",
    "\n",
    "ax.spines['right'].set_visible(False)\n",
    "ax.spines['top'].set_visible(False)\n",
    "ax.spines['left'].set_visible(False)\n",
    "\n",
    "L = plt.legend(fontsize = 13, frameon = True)\n",
    "L.get_texts()[0].set_text('Not interested')\n",
    "L.get_texts()[1].set_text('Interested')\n",
    "L.set_title('Response', prop = {'size' : 13})\n",
    "L.get_frame().set_alpha(1)\n",
    "L.get_frame().set_facecolor((1, 1, 1, 1))\n",
    "\n",
    "y_ = [x for x in range(0, 120, 20)]\n",
    "plt.yticks(y_)\n",
    "\n",
    "plt.xlabel('Driving License', fontsize = 14)\n",
    "plt.ylabel('Proportion', fontsize = 14)\n",
    "\n",
    "ylabels = [format(y) + '%' for y in ax.get_yticks()]\n",
    "ax.set_yticklabels(labels = ylabels)\n",
    "\n",
    "plt.xticks(fontsize = 14) \n",
    "plt.yticks(fontsize = 14) \n",
    "\n",
    "for p in ax.patches:\n",
    "    ax.annotate(\n",
    "        format(p.get_height(), '.1f') + '%',\n",
    "        (p.get_x() + p.get_width() / 2., p.get_height()), \n",
    "        ha = 'center',\n",
    "        fontweight = 'semibold',\n",
    "        size = 20,\n",
    "        xytext = (0, 10), \n",
    "        textcoords = 'offset points',\n",
    "        color = 'grey'\n",
    "    )\n",
    "\n",
    "plt.title('Customer Response Based on Driving License', fontsize = 24, fontweight = 'semibold', ha = 'center', pad = 20)\n",
    "\n",
    "plt.tight_layout()\n",
    "\n",
    "plt.savefig('fig/stage_2/insight driving license.png', bbox_inches = 'tight', dpi = 300, transparent = True)"
   ]
  },
  {
   "cell_type": "markdown",
   "metadata": {},
   "source": [
    "### Region_Code"
   ]
  },
  {
   "cell_type": "code",
   "execution_count": null,
   "metadata": {
    "ExecuteTime": {
     "end_time": "2021-02-12T21:33:52.074857Z",
     "start_time": "2021-02-12T21:33:51.375330Z"
    }
   },
   "outputs": [],
   "source": [
    "region_code_group_distribution = data_eda_viz.groupby(['Region_Code_Group', 'Response']).count()[['id']]\n",
    "\n",
    "region_code_group = data_eda_viz.groupby(['Region_Code_Group']).count()[['id']]\n",
    "\n",
    "region_code_group_distribution['percentage'] = region_code_group_distribution.div(region_code_group, level = 'Region_Code_Group') * 100\n",
    "region_code_group_distribution = region_code_group_distribution.reset_index()\n",
    "region_code_group_distribution.columns = ['Region_Code_Group', 'Response', '#of customers', 'percentage']\n",
    "region_code_group_distribution"
   ]
  },
  {
   "cell_type": "code",
   "execution_count": null,
   "metadata": {
    "ExecuteTime": {
     "end_time": "2021-02-12T21:33:52.087821Z",
     "start_time": "2021-02-12T21:33:52.076852Z"
    }
   },
   "outputs": [],
   "source": [
    "region_code_group_distribution = region_code_group_distribution[region_code_group_distribution['Region_Code_Group'] != 'others']\n",
    "region_code_group_distribution"
   ]
  },
  {
   "cell_type": "code",
   "execution_count": null,
   "metadata": {
    "ExecuteTime": {
     "end_time": "2021-02-12T21:33:52.098792Z",
     "start_time": "2021-02-12T21:33:52.089816Z"
    }
   },
   "outputs": [],
   "source": [
    "# palette color to highlight Response = 'Interested'/1\n",
    "color_focus_region_code_group = ['#293286' if (x == 1) else 'darkgray' for x in region_code_group_distribution['Response']]"
   ]
  },
  {
   "cell_type": "code",
   "execution_count": null,
   "metadata": {
    "ExecuteTime": {
     "end_time": "2021-02-12T21:33:53.623077Z",
     "start_time": "2021-02-12T21:33:52.100786Z"
    }
   },
   "outputs": [],
   "source": [
    "plt.figure(figsize = (10, 8))\n",
    "\n",
    "# plot proportion\n",
    "ax = sns.barplot(\n",
    "    x = 'Region_Code_Group',\n",
    "    y = 'percentage',\n",
    "    hue = 'Response',\n",
    "    order = region_code_group_distribution.iloc[region_code_group_distribution[region_code_group_distribution['Response'] == 1]['percentage'].sort_values(ascending = False).index]['Region_Code_Group'],\n",
    "    palette = color_focus_region_code_group,\n",
    "    data = region_code_group_distribution\n",
    ")\n",
    "\n",
    "ax.spines['right'].set_visible(False)\n",
    "ax.spines['top'].set_visible(False)\n",
    "ax.spines['left'].set_visible(False)\n",
    "\n",
    "L = plt.legend(fontsize = 13, frameon = True, bbox_to_anchor = (1, 0.78), loc = 'upper right')\n",
    "L.get_texts()[0].set_text('Not interested')\n",
    "L.get_texts()[1].set_text('Interested')\n",
    "L.set_title('Response', prop = {'size' : 13})\n",
    "L.get_frame().set_alpha(1)\n",
    "L.get_frame().set_facecolor((1, 1, 1, 1))\n",
    "\n",
    "y_ = [x for x in range(0, 120, 20)]\n",
    "plt.yticks(y_)\n",
    "\n",
    "plt.xlabel('Region Code Group', fontsize = 14)\n",
    "plt.ylabel('Proportion', fontsize = 14)\n",
    "\n",
    "ylabels = [format(y) + '%' for y in ax.get_yticks()]\n",
    "ax.set_yticklabels(labels = ylabels)\n",
    "\n",
    "plt.xticks(fontsize = 14) \n",
    "plt.yticks(fontsize = 14) \n",
    "\n",
    "for p in ax.patches:\n",
    "    ax.annotate(\n",
    "        format(p.get_height(), '.1f') + '%',\n",
    "        (p.get_x() + p.get_width() / 2., p.get_height()), \n",
    "        ha = 'center',\n",
    "        fontweight = 'semibold',\n",
    "        size = 20,\n",
    "        xytext = (5, 10), \n",
    "        textcoords = 'offset points',\n",
    "        color = 'grey'\n",
    "    )\n",
    "\n",
    "plt.title('Customer Response Based on Top 5 Region by Frequency', fontsize = 24, fontweight = 'semibold', ha = 'center', pad = 20)\n",
    "\n",
    "plt.tight_layout()\n",
    "\n",
    "plt.savefig('fig/stage_2/insight region code group top 5.png', bbox_inches = 'tight', dpi = 300, transparent = True)"
   ]
  },
  {
   "cell_type": "markdown",
   "metadata": {},
   "source": [
    "- https://en.wikipedia.org/wiki/Administrative_divisions_of_India\n",
    " - 28 -> West Bengal\n",
    " - 8 -> Haryana\n",
    " - 46 -> ? (6: Goa)\n",
    " - 41 -> ? (1: Andhra Pradesh)\n",
    " - 15 -> Maharashtra"
   ]
  },
  {
   "cell_type": "code",
   "execution_count": null,
   "metadata": {
    "ExecuteTime": {
     "end_time": "2021-02-12T21:33:53.768630Z",
     "start_time": "2021-02-12T21:33:53.625071Z"
    }
   },
   "outputs": [],
   "source": [
    "west_bengal = data_eda_viz[data_eda_viz['Region_Code_Group'] == 'West Bengal']\n",
    "west_bengal"
   ]
  },
  {
   "cell_type": "code",
   "execution_count": null,
   "metadata": {
    "ExecuteTime": {
     "end_time": "2021-02-12T21:33:53.836448Z",
     "start_time": "2021-02-12T21:33:53.770625Z"
    }
   },
   "outputs": [],
   "source": [
    "res_west_bengal = west_bengal[west_bengal['Response'] == 1]\n",
    "res_west_bengal"
   ]
  },
  {
   "cell_type": "code",
   "execution_count": null,
   "metadata": {
    "ExecuteTime": {
     "end_time": "2021-02-12T21:33:53.847419Z",
     "start_time": "2021-02-12T21:33:53.838444Z"
    }
   },
   "outputs": [],
   "source": [
    "res_west_bengal['Annual_Premium'].sum()"
   ]
  },
  {
   "cell_type": "code",
   "execution_count": null,
   "metadata": {
    "ExecuteTime": {
     "end_time": "2021-02-12T21:33:54.122911Z",
     "start_time": "2021-02-12T21:33:53.849413Z"
    }
   },
   "outputs": [],
   "source": [
    "data_eda_viz.groupby(['Region_Code_Group']).sum()[['Annual_Premium']].sort_values('Annual_Premium', ascending = False)"
   ]
  },
  {
   "cell_type": "code",
   "execution_count": null,
   "metadata": {
    "ExecuteTime": {
     "end_time": "2021-02-12T21:33:54.416712Z",
     "start_time": "2021-02-12T21:33:54.124905Z"
    }
   },
   "outputs": [],
   "source": [
    "data_eda_viz.groupby(['Region_Code_Group', 'Response']).sum()[['Annual_Premium']].sort_values('Annual_Premium', ascending = False).sort_values('Response', ascending = False)"
   ]
  },
  {
   "cell_type": "markdown",
   "metadata": {},
   "source": [
    "Among other regions, the customer from West Bengal with response yes has the highest total annual premium."
   ]
  },
  {
   "cell_type": "code",
   "execution_count": null,
   "metadata": {
    "ExecuteTime": {
     "end_time": "2021-02-12T21:33:54.709938Z",
     "start_time": "2021-02-12T21:33:54.418705Z"
    }
   },
   "outputs": [],
   "source": [
    "data_eda_viz.groupby(['Region_Code', 'Response']).sum()[['Annual_Premium']].sort_values('Response', ascending = False).sort_values('Annual_Premium', ascending = False)"
   ]
  },
  {
   "cell_type": "markdown",
   "metadata": {},
   "source": [
    "### Previously_Insured"
   ]
  },
  {
   "cell_type": "code",
   "execution_count": null,
   "metadata": {
    "ExecuteTime": {
     "end_time": "2021-02-12T21:33:55.390144Z",
     "start_time": "2021-02-12T21:33:54.709938Z"
    }
   },
   "outputs": [],
   "source": [
    "previously_insured_distribution = data_eda_viz.groupby(['Previously_Insured', 'Response']).count()[['id']]\n",
    "\n",
    "previously_insured = data_eda_viz.groupby(['Previously_Insured']).count()[['id']]\n",
    "\n",
    "previously_insured_distribution['percentage'] = previously_insured_distribution.div(previously_insured, level = 'Previously_Insured') * 100\n",
    "previously_insured_distribution = previously_insured_distribution.reset_index()\n",
    "previously_insured_distribution.columns = ['Previously_Insured', 'Response', '#of customers', 'percentage']\n",
    "previously_insured_distribution"
   ]
  },
  {
   "cell_type": "code",
   "execution_count": null,
   "metadata": {
    "ExecuteTime": {
     "end_time": "2021-02-12T21:33:55.405766Z",
     "start_time": "2021-02-12T21:33:55.390144Z"
    }
   },
   "outputs": [],
   "source": [
    "# palette color to highlight Response = 'Interested'/1\n",
    "color_focus_previously_insured = ['#293286' if (x == 1) else 'darkgray' for x in previously_insured_distribution['Response']]"
   ]
  },
  {
   "cell_type": "code",
   "execution_count": null,
   "metadata": {
    "ExecuteTime": {
     "end_time": "2021-02-12T21:33:56.215642Z",
     "start_time": "2021-02-12T21:33:55.405766Z"
    }
   },
   "outputs": [],
   "source": [
    "plt.figure(figsize = (10, 8))\n",
    "\n",
    "# plot proportion\n",
    "ax = sns.barplot(\n",
    "    x = 'Previously_Insured',\n",
    "    y = 'percentage',\n",
    "    hue = 'Response',\n",
    "    order = previously_insured_distribution.iloc[previously_insured_distribution[previously_insured_distribution['Response'] == 1]['percentage'].sort_values(ascending = False).index]['Previously_Insured'],\n",
    "    palette = color_focus_previously_insured,\n",
    "    data = previously_insured_distribution\n",
    ")\n",
    "\n",
    "ax.spines['right'].set_visible(False)\n",
    "ax.spines['top'].set_visible(False)\n",
    "ax.spines['left'].set_visible(False)\n",
    "\n",
    "L = plt.legend(fontsize = 13, frameon = True)\n",
    "L.get_texts()[0].set_text('Not interested')\n",
    "L.get_texts()[1].set_text('Interested')\n",
    "L.set_title('Response', prop = {'size' : 13})\n",
    "L.get_frame().set_alpha(1)\n",
    "L.get_frame().set_facecolor((1, 1, 1, 1))\n",
    "\n",
    "y_ = [x for x in range(0, 120, 20)]\n",
    "plt.yticks(y_)\n",
    "\n",
    "plt.xlabel('Previously Insured', fontsize = 14)\n",
    "plt.ylabel('Proportion', fontsize = 14)\n",
    "\n",
    "ylabels = [format(y) + '%' for y in ax.get_yticks()]\n",
    "ax.set_yticklabels(labels = ylabels)\n",
    "\n",
    "plt.xticks(fontsize = 14) \n",
    "plt.yticks(fontsize = 14) \n",
    "\n",
    "for p in ax.patches:\n",
    "    ax.annotate(\n",
    "        format(p.get_height(), '.1f') + '%',\n",
    "        (p.get_x() + p.get_width() / 2., p.get_height()), \n",
    "        ha = 'center',\n",
    "        fontweight = 'semibold',\n",
    "        size = 20,\n",
    "        xytext = (0, 10), \n",
    "        textcoords = 'offset points',\n",
    "        color = 'grey'\n",
    "    )\n",
    "\n",
    "plt.title('Customer Response Based on Previously Insured', fontsize = 24, fontweight = 'semibold', ha = 'center', pad = 20)\n",
    "\n",
    "plt.tight_layout()\n",
    "\n",
    "plt.savefig('fig/stage_2/insight previously insured.png', bbox_inches = 'tight', dpi = 300, transparent = True)"
   ]
  },
  {
   "cell_type": "markdown",
   "metadata": {},
   "source": [
    "### Vehicle_Age"
   ]
  },
  {
   "cell_type": "code",
   "execution_count": null,
   "metadata": {
    "ExecuteTime": {
     "end_time": "2021-02-12T21:33:56.855560Z",
     "start_time": "2021-02-12T21:33:56.217984Z"
    }
   },
   "outputs": [],
   "source": [
    "vehicle_age_distribution = data_eda_viz.groupby(['Vehicle_Age', 'Response']).count()[['id']]\n",
    "\n",
    "vehicle_age = data_eda_viz.groupby(['Vehicle_Age']).count()[['id']]\n",
    "\n",
    "vehicle_age_distribution['percentage'] = vehicle_age_distribution.div(vehicle_age, level = 'Vehicle_Age') * 100\n",
    "vehicle_age_distribution = vehicle_age_distribution.reset_index()\n",
    "vehicle_age_distribution.columns = ['Vehicle_Age', 'Response', '#of customers', 'percentage']\n",
    "vehicle_age_distribution"
   ]
  },
  {
   "cell_type": "code",
   "execution_count": null,
   "metadata": {
    "ExecuteTime": {
     "end_time": "2021-02-12T21:33:56.871177Z",
     "start_time": "2021-02-12T21:33:56.855560Z"
    }
   },
   "outputs": [],
   "source": [
    "# palette color to highlight Response = 'Interested'/1\n",
    "color_focus_vehicle_age = ['#293286' if (x == 1) else 'darkgray' for x in vehicle_age_distribution['Response']]"
   ]
  },
  {
   "cell_type": "code",
   "execution_count": null,
   "metadata": {
    "ExecuteTime": {
     "end_time": "2021-02-12T21:33:57.878521Z",
     "start_time": "2021-02-12T21:33:56.871177Z"
    }
   },
   "outputs": [],
   "source": [
    "plt.figure(figsize = (10, 8))\n",
    "\n",
    "# plot proportion\n",
    "ax = sns.barplot(\n",
    "    x = 'Vehicle_Age',\n",
    "    y = 'percentage',\n",
    "    hue = 'Response',\n",
    "    order = vehicle_age_distribution.iloc[vehicle_age_distribution[vehicle_age_distribution['Response'] == 1]['percentage'].sort_values(ascending = False).index]['Vehicle_Age'],\n",
    "    palette = color_focus_vehicle_age,\n",
    "    data = vehicle_age_distribution\n",
    ")\n",
    "\n",
    "ax.spines['right'].set_visible(False)\n",
    "ax.spines['top'].set_visible(False)\n",
    "ax.spines['left'].set_visible(False)\n",
    "\n",
    "L = plt.legend(fontsize = 13, frameon = True)\n",
    "L.get_texts()[0].set_text('Not interested')\n",
    "L.get_texts()[1].set_text('Interested')\n",
    "L.set_title('Response', prop = {'size' : 13})\n",
    "L.get_frame().set_alpha(1)\n",
    "L.get_frame().set_facecolor((1, 1, 1, 1))\n",
    "\n",
    "y_ = [x for x in range(0, 120, 20)]\n",
    "plt.yticks(y_)\n",
    "\n",
    "plt.xlabel('Vehicle Age', fontsize = 14)\n",
    "plt.ylabel('Proportion', fontsize = 14)\n",
    "\n",
    "ylabels = [format(y) + '%' for y in ax.get_yticks()]\n",
    "ax.set_yticklabels(labels = ylabels)\n",
    "\n",
    "plt.xticks(fontsize = 14) \n",
    "plt.yticks(fontsize = 14) \n",
    "\n",
    "for p in ax.patches:\n",
    "    ax.annotate(\n",
    "        format(p.get_height(), '.1f') + '%',\n",
    "        (p.get_x() + p.get_width() / 2., p.get_height()), \n",
    "        ha = 'center',\n",
    "        fontweight = 'semibold',\n",
    "        size = 20,\n",
    "        xytext = (0, 10), \n",
    "        textcoords = 'offset points',\n",
    "        color = 'grey'\n",
    "    )\n",
    "\n",
    "plt.title('Customer Response Based on Vehicle Age', fontsize = 24, fontweight = 'semibold', ha = 'center', pad = 20)\n",
    "\n",
    "plt.tight_layout()\n",
    "\n",
    "plt.savefig('fig/stage_2/insight vehicle age.png', bbox_inches = 'tight', dpi = 300, transparent = True)"
   ]
  },
  {
   "cell_type": "markdown",
   "metadata": {},
   "source": [
    "### Vehicle_Damage"
   ]
  },
  {
   "cell_type": "code",
   "execution_count": null,
   "metadata": {
    "ExecuteTime": {
     "end_time": "2021-02-12T21:33:58.467756Z",
     "start_time": "2021-02-12T21:33:57.880518Z"
    }
   },
   "outputs": [],
   "source": [
    "vehicle_damage_distribution = data_eda_viz.groupby(['Vehicle_Damage', 'Response']).count()[['id']]\n",
    "\n",
    "vehicle_damage = data_eda_viz.groupby(['Vehicle_Damage']).count()[['id']]\n",
    "\n",
    "vehicle_damage_distribution['percentage'] = vehicle_damage_distribution.div(vehicle_damage, level = 'Vehicle_Damage') * 100\n",
    "vehicle_damage_distribution = vehicle_damage_distribution.reset_index()\n",
    "vehicle_damage_distribution.columns = ['Vehicle_Damage', 'Response', '#of customers', 'percentage']\n",
    "vehicle_damage_distribution"
   ]
  },
  {
   "cell_type": "code",
   "execution_count": null,
   "metadata": {
    "ExecuteTime": {
     "end_time": "2021-02-12T21:33:58.483340Z",
     "start_time": "2021-02-12T21:33:58.467756Z"
    }
   },
   "outputs": [],
   "source": [
    "# palette color to highlight Response = 'Interested'/1\n",
    "color_focus_vehicle_damage = ['#293286' if (x == 1) else 'darkgray' for x in vehicle_damage_distribution['Response']]"
   ]
  },
  {
   "cell_type": "code",
   "execution_count": null,
   "metadata": {
    "ExecuteTime": {
     "end_time": "2021-02-12T21:33:59.387289Z",
     "start_time": "2021-02-12T21:33:58.483340Z"
    }
   },
   "outputs": [],
   "source": [
    "plt.figure(figsize = (10, 8))\n",
    "\n",
    "# plot proportion\n",
    "ax = sns.barplot(\n",
    "    x = 'Vehicle_Damage',\n",
    "    y = 'percentage',\n",
    "    hue = 'Response',\n",
    "    order = vehicle_damage_distribution.iloc[vehicle_damage_distribution[vehicle_damage_distribution['Response'] == 1]['percentage'].sort_values(ascending = False).index]['Vehicle_Damage'],\n",
    "    palette = color_focus_vehicle_damage,\n",
    "    data = vehicle_damage_distribution\n",
    ")\n",
    "\n",
    "ax.spines['right'].set_visible(False)\n",
    "ax.spines['top'].set_visible(False)\n",
    "ax.spines['left'].set_visible(False)\n",
    "\n",
    "L = plt.legend(fontsize = 13, frameon = True)\n",
    "L.get_texts()[0].set_text('Not interested')\n",
    "L.get_texts()[1].set_text('Interested')\n",
    "L.set_title('Response', prop = {'size' : 13})\n",
    "L.get_frame().set_alpha(1)\n",
    "L.get_frame().set_facecolor((1, 1, 1, 1))\n",
    "\n",
    "y_ = [x for x in range(0, 120, 20)]\n",
    "plt.yticks(y_)\n",
    "\n",
    "plt.xlabel('Vehicle Damage', fontsize = 14)\n",
    "plt.ylabel('Proportion', fontsize = 14)\n",
    "\n",
    "ylabels = [format(y) + '%' for y in ax.get_yticks()]\n",
    "ax.set_yticklabels(labels = ylabels)\n",
    "\n",
    "plt.xticks(fontsize = 14) \n",
    "plt.yticks(fontsize = 14) \n",
    "\n",
    "for p in ax.patches:\n",
    "    ax.annotate(\n",
    "        format(p.get_height(), '.1f') + '%',\n",
    "        (p.get_x() + p.get_width() / 2., p.get_height()), \n",
    "        ha = 'center',\n",
    "        fontweight = 'semibold',\n",
    "        size = 20,\n",
    "        xytext = (0, 10), \n",
    "        textcoords = 'offset points',\n",
    "        color = 'grey'\n",
    "    )\n",
    "\n",
    "plt.title('Customer Response Based on Vehicle Damage', fontsize = 24, fontweight = 'semibold', ha = 'center', pad = 20)\n",
    "\n",
    "plt.tight_layout()\n",
    "\n",
    "plt.savefig('fig/stage_2/insight vehicle damage.png', bbox_inches = 'tight', dpi = 300, transparent = True)"
   ]
  },
  {
   "cell_type": "markdown",
   "metadata": {},
   "source": [
    "### Annual_Premium"
   ]
  },
  {
   "cell_type": "code",
   "execution_count": null,
   "metadata": {
    "ExecuteTime": {
     "end_time": "2021-02-12T21:34:14.195796Z",
     "start_time": "2021-02-12T21:33:59.387289Z"
    }
   },
   "outputs": [],
   "source": [
    "plt.figure(figsize = (20.7, 8))\n",
    "\n",
    "# plot proportion\n",
    "ax = sns.histplot(\n",
    "    x = data_eda_viz['Annual_Premium'],\n",
    "    hue = data_eda_viz['Response'],\n",
    "    stat = 'probability',\n",
    "    multiple = 'fill',\n",
    "    data = data_eda_viz,\n",
    "    palette = ['darkgray', '#293286']\n",
    ")\n",
    "\n",
    "ax.spines['right'].set_visible(False)\n",
    "ax.spines['top'].set_visible(False)\n",
    "ax.spines['left'].set_visible(False)\n",
    "\n",
    "L = ax.legend(['Interested', 'Not Interested'], fontsize = 14, frameon = True)\n",
    "L.set_title('Response', prop = {'size' : 14})\n",
    "L.get_frame().set_alpha(1)\n",
    "L.get_frame().set_facecolor((1, 1, 1, 1))\n",
    "\n",
    "plt.xlabel('Annual Premium', fontsize = 14)\n",
    "plt.ylabel('Proportion', fontsize = 14)\n",
    "\n",
    "y_ = [y for y in np.arange(0, 1.2, 0.2)]\n",
    "plt.yticks(y_)\n",
    "\n",
    "x_ = [x for x in range(2500, 550000, 50000)]\n",
    "plt.xticks(x_)\n",
    "\n",
    "ylabels = [format(int(round(y * 100, 0))) + '%' for y in ax.get_yticks()]\n",
    "ax.set_yticklabels(labels = ylabels)\n",
    "\n",
    "plt.xticks(fontsize = 14) \n",
    "plt.yticks(fontsize = 14) \n",
    "\n",
    "plt.title('Customer Response Based on Annual Premium', fontsize = 24, fontweight = 'semibold', ha = 'center', pad = 20)\n",
    "\n",
    "plt.tight_layout()\n",
    "\n",
    "plt.savefig('fig/stage_2/insight annual premium.png', bbox_inches = 'tight', dpi = 300, transparent = True)"
   ]
  },
  {
   "cell_type": "code",
   "execution_count": null,
   "metadata": {
    "ExecuteTime": {
     "end_time": "2021-02-12T21:34:14.776866Z",
     "start_time": "2021-02-12T21:34:14.197789Z"
    }
   },
   "outputs": [],
   "source": [
    "annual_premium_group_distribution = data_eda_viz.groupby(['Annual_Premium_Group', 'Response']).count()[['id']]\n",
    "\n",
    "annual_premium_group = data_eda_viz.groupby(['Annual_Premium_Group']).count()[['id']]\n",
    "\n",
    "annual_premium_group_distribution['percentage'] = annual_premium_group_distribution.div(annual_premium_group, level = 'Annual_Premium_Group') * 100\n",
    "annual_premium_group_distribution = annual_premium_group_distribution.reset_index()\n",
    "annual_premium_group_distribution.columns = ['Annual_Premium_Group', 'Response', '#of customers', 'percentage']\n",
    "annual_premium_group_distribution"
   ]
  },
  {
   "cell_type": "code",
   "execution_count": null,
   "metadata": {
    "ExecuteTime": {
     "end_time": "2021-02-12T21:34:14.782850Z",
     "start_time": "2021-02-12T21:34:14.778859Z"
    }
   },
   "outputs": [],
   "source": [
    "# palette color to highlight Response = 'Interested'/1\n",
    "color_focus_annual_premium_group = ['#293286' if (x == 1) else 'darkgray' for x in annual_premium_group_distribution['Response']]"
   ]
  },
  {
   "cell_type": "code",
   "execution_count": null,
   "metadata": {
    "ExecuteTime": {
     "end_time": "2021-02-12T21:34:15.791959Z",
     "start_time": "2021-02-12T21:34:14.784846Z"
    }
   },
   "outputs": [],
   "source": [
    "plt.figure(figsize = (10, 8))\n",
    "\n",
    "# plot proportion\n",
    "ax = sns.barplot(\n",
    "    x = 'Annual_Premium_Group',\n",
    "    y = 'percentage',\n",
    "    hue = 'Response',\n",
    "    order = annual_premium_group_distribution.iloc[annual_premium_group_distribution[annual_premium_group_distribution['Response'] == 1]['percentage'].sort_values(ascending = False).index]['Annual_Premium_Group'],\n",
    "    palette = color_focus_annual_premium_group,\n",
    "    data = annual_premium_group_distribution\n",
    ")\n",
    "\n",
    "ax.spines['right'].set_visible(False)\n",
    "ax.spines['top'].set_visible(False)\n",
    "ax.spines['left'].set_visible(False)\n",
    "\n",
    "L = plt.legend(fontsize = 13, frameon = True, bbox_to_anchor = (1, 0.78), loc = 'upper right')\n",
    "L.get_texts()[0].set_text('Not interested')\n",
    "L.get_texts()[1].set_text('Interested')\n",
    "L.set_title('Response', prop = {'size' : 13})\n",
    "L.get_frame().set_alpha(1)\n",
    "L.get_frame().set_facecolor((1, 1, 1, 1))\n",
    "\n",
    "y_ = [x for x in range(0, 120, 20)]\n",
    "plt.yticks(y_)\n",
    "\n",
    "plt.xlabel('Annual Premium Group', fontsize = 14)\n",
    "plt.ylabel('Proportion', fontsize = 14)\n",
    "\n",
    "ylabels = [format(y) + '%' for y in ax.get_yticks()]\n",
    "ax.set_yticklabels(labels = ylabels)\n",
    "\n",
    "plt.xticks(fontsize = 14) \n",
    "plt.yticks(fontsize = 14) \n",
    "\n",
    "for p in ax.patches:\n",
    "    ax.annotate(\n",
    "        format(p.get_height(), '.1f') + '%',\n",
    "        (p.get_x() + p.get_width() / 2., p.get_height()), \n",
    "        ha = 'center',\n",
    "        fontweight = 'semibold',\n",
    "        size = 20,\n",
    "        xytext = (5, 8), \n",
    "        textcoords = 'offset points',\n",
    "        color = 'grey'\n",
    "    )\n",
    "\n",
    "plt.title('Customer Response Based on Annual Premium Group', fontsize = 24, fontweight = 'semibold', ha = 'center', pad = 20)\n",
    "\n",
    "plt.tight_layout()\n",
    "\n",
    "plt.savefig('fig/stage_2/insight annual premium group.png', bbox_inches = 'tight', dpi = 300, transparent = True)"
   ]
  },
  {
   "cell_type": "markdown",
   "metadata": {},
   "source": [
    "### Policy_Sales_Channel"
   ]
  },
  {
   "cell_type": "code",
   "execution_count": null,
   "metadata": {
    "ExecuteTime": {
     "end_time": "2021-02-12T21:34:16.433520Z",
     "start_time": "2021-02-12T21:34:15.793953Z"
    }
   },
   "outputs": [],
   "source": [
    "policy_sales_channel_group_distribution = data_eda_viz.groupby(['Policy_Sales_Channel_Group', 'Response']).count()[['id']]\n",
    "\n",
    "policy_sales_channel_group = data_eda_viz.groupby(['Policy_Sales_Channel_Group']).count()[['id']]\n",
    "\n",
    "policy_sales_channel_group_distribution['percentage'] = policy_sales_channel_group_distribution.div(policy_sales_channel_group, level = 'Policy_Sales_Channel_Group') * 100\n",
    "policy_sales_channel_group_distribution = policy_sales_channel_group_distribution.reset_index()\n",
    "policy_sales_channel_group_distribution.columns = ['Policy_Sales_Channel_Group', 'Response', '#of customers', 'percentage']\n",
    "policy_sales_channel_group_distribution"
   ]
  },
  {
   "cell_type": "code",
   "execution_count": null,
   "metadata": {
    "ExecuteTime": {
     "end_time": "2021-02-12T21:34:16.452468Z",
     "start_time": "2021-02-12T21:34:16.435514Z"
    }
   },
   "outputs": [],
   "source": [
    "policy_sales_channel_group_distribution = policy_sales_channel_group_distribution[policy_sales_channel_group_distribution['Policy_Sales_Channel_Group'] != 'others']\n",
    "policy_sales_channel_group_distribution"
   ]
  },
  {
   "cell_type": "code",
   "execution_count": null,
   "metadata": {
    "ExecuteTime": {
     "end_time": "2021-02-12T21:34:16.472416Z",
     "start_time": "2021-02-12T21:34:16.455478Z"
    }
   },
   "outputs": [],
   "source": [
    "direct_writers = policy_sales_channel_group_distribution[policy_sales_channel_group_distribution['Policy_Sales_Channel_Group'].isin(['Affinity Group', 'Direct Response', 'Exclusive/Captive Agents', 'Internet'])].reset_index(drop = True)\n",
    "direct_writers"
   ]
  },
  {
   "cell_type": "code",
   "execution_count": null,
   "metadata": {
    "ExecuteTime": {
     "end_time": "2021-02-12T21:34:16.488372Z",
     "start_time": "2021-02-12T21:34:16.478400Z"
    }
   },
   "outputs": [],
   "source": [
    "agency_writers = policy_sales_channel_group_distribution[policy_sales_channel_group_distribution['Policy_Sales_Channel_Group'].isin(['Independent Agencies'])].reset_index(drop = True)\n",
    "agency_writers"
   ]
  },
  {
   "cell_type": "code",
   "execution_count": null,
   "metadata": {
    "ExecuteTime": {
     "end_time": "2021-02-12T21:34:16.500341Z",
     "start_time": "2021-02-12T21:34:16.495355Z"
    }
   },
   "outputs": [],
   "source": [
    "# palette color to highlight Response = 'Interested'/1\n",
    "color_focus_policy_sales_channel_group = ['#293286' if (x == 1) else 'darkgray' for x in policy_sales_channel_group_distribution['Response']]"
   ]
  },
  {
   "cell_type": "code",
   "execution_count": null,
   "metadata": {
    "ExecuteTime": {
     "end_time": "2021-02-12T21:34:16.514303Z",
     "start_time": "2021-02-12T21:34:16.502335Z"
    }
   },
   "outputs": [],
   "source": [
    "direct_writers['Policy_Sales_Channel_Group'].unique()"
   ]
  },
  {
   "cell_type": "code",
   "execution_count": null,
   "metadata": {
    "ExecuteTime": {
     "end_time": "2021-02-12T21:34:18.234052Z",
     "start_time": "2021-02-12T21:34:16.516298Z"
    },
    "scrolled": false
   },
   "outputs": [],
   "source": [
    "fig, ax = plt.subplots(\n",
    "    nrows = 1, ncols = 2, figsize = (12, 8), sharey = True,\n",
    "    gridspec_kw = {\n",
    "        'width_ratios': [3.5, 1]\n",
    "})\n",
    "\n",
    "# plot direct writers\n",
    "ax[0] = sns.barplot(\n",
    "    x = 'Policy_Sales_Channel_Group',\n",
    "    y = 'percentage',\n",
    "    hue = 'Response',\n",
    "    order = direct_writers.iloc[direct_writers[direct_writers['Response'] == 1]['percentage'].sort_values(ascending = False).index]['Policy_Sales_Channel_Group'],\n",
    "    palette = color_focus_policy_sales_channel_group,\n",
    "    data = direct_writers,\n",
    "    ax = ax[0]\n",
    ")\n",
    "\n",
    "ax[0].spines['right'].set_visible(False)\n",
    "ax[0].spines['top'].set_visible(False)\n",
    "ax[0].spines['left'].set_visible(False)\n",
    "\n",
    "L = ax[0].legend(fontsize = 13, frameon = True)\n",
    "L.get_texts()[0].set_text('Not interested')\n",
    "L.get_texts()[1].set_text('Interested')\n",
    "L.set_title('Response', prop = {'size' : 13})\n",
    "L.get_frame().set_alpha(1)\n",
    "L.get_frame().set_facecolor((1, 1, 1, 1))\n",
    "\n",
    "y_ = [x for x in range(0, 120, 20)]\n",
    "ax[0].set_yticks(y_)\n",
    "\n",
    "ylabels = [format(y) + '%' for y in ax[0].get_yticks()]\n",
    "ax[0].set_yticklabels(labels = ylabels, fontsize = 14)\n",
    "\n",
    "ax[0].set_xlabel('Direct Writers', fontsize = 16, fontweight = 'semibold')\n",
    "ax[0].set_ylabel('Proportion', fontsize = 16)\n",
    "\n",
    "for p in ax[0].patches:\n",
    "    ax[0].annotate(\n",
    "        format(p.get_height(), '.1f') + '%',\n",
    "        (p.get_x() + p.get_width() / 2., p.get_height()), \n",
    "        ha = 'center',\n",
    "        fontweight = 'semibold',\n",
    "        size = 20,\n",
    "        xytext = (5, 10), \n",
    "        textcoords = 'offset points',\n",
    "        color = 'grey'\n",
    "    )\n",
    "\n",
    "# plot agency writers\n",
    "ax[1] = sns.barplot(\n",
    "    x = 'Policy_Sales_Channel_Group',\n",
    "    y = 'percentage',\n",
    "    hue = 'Response',\n",
    "    order = agency_writers.iloc[agency_writers[agency_writers['Response'] == 1]['percentage'].sort_values(ascending = False).index]['Policy_Sales_Channel_Group'],\n",
    "    palette = color_focus_policy_sales_channel_group,\n",
    "    data = agency_writers,\n",
    "    ax = ax[1]\n",
    ")\n",
    "\n",
    "ax[1].spines['right'].set_visible(False)\n",
    "ax[1].spines['top'].set_visible(False)\n",
    "ax[1].spines['left'].set_visible(False)\n",
    "\n",
    "ax[1].legend([],[], frameon = False)\n",
    "\n",
    "y_ = [x for x in range(0, 120, 20)]\n",
    "ax[1].set_yticks(y_)\n",
    "\n",
    "ylabels = [format(y) + '%' for y in ax[1].get_yticks()]\n",
    "ax[1].set_yticklabels(labels = ylabels)\n",
    "\n",
    "ax[1].set_xlabel('Agency Writers', fontsize = 16, fontweight = 'semibold')\n",
    "ax[1].set_ylabel(' ', fontsize = 16)\n",
    "\n",
    "for p in ax[1].patches:\n",
    "    ax[1].annotate(\n",
    "        format(p.get_height(), '.1f') + '%',\n",
    "        (p.get_x() + p.get_width() / 2., p.get_height()), \n",
    "        ha = 'center',\n",
    "        fontweight = 'semibold',\n",
    "        size = 20,\n",
    "        xytext = (5, 10), \n",
    "        textcoords = 'offset points',\n",
    "        color = 'grey'\n",
    "    )\n",
    "\n",
    "plt.suptitle('Customer Response Based on Top 5 Sales Channel by Frequency', fontsize = 24, fontweight = 'semibold', ha = 'center', y = 1.02)\n",
    "\n",
    "plt.tight_layout()\n",
    "\n",
    "plt.savefig('fig/stage_2/insight policy sales channel group top 5.png', bbox_inches = 'tight', dpi = 300, transparent = True)"
   ]
  },
  {
   "cell_type": "markdown",
   "metadata": {},
   "source": [
    "- https://www.iii.org/fact-statistic/facts-statistics-distribution-channels\n",
    "- Best organizes insurance into two main distribution channels: agency writers and direct writers.\n",
    " - Its agency writers category includes insurers that distribute through independent agencies, brokers, general agents and managing general agents.\n",
    " - Its direct writers category includes insurers that distribute through the Internet, exclusive/captive agents, direct response and affinity groups.\n",
    "- In 2018 direct writers accounted for 51.4 percent of P/C insurance net premiums written and agency writers accounted for 47.7 percent, according to A.M. Best.*"
   ]
  },
  {
   "cell_type": "markdown",
   "metadata": {},
   "source": [
    "- https://en.wikipedia.org/wiki/Independent_insurance_agent\n",
    " - Independent insurance agents, also known as insurance sales agents or \"producers\", typically sell a variety of insurance and financial products, including property insurance and casualty insurance, life insurance, health insurance, disability insurance, and long-term care insurance.\n",
    "- https://www.thebalance.com/what-is-a-captive-insurance-agent-527298\n",
    " - Captive insurance agents work directly for a single insurance carrier. A lot of well known, highly rated insurance carriers employ captive agents. \n",
    "- https://www.nerdwallet.com/blog/insurance/auto/drivers-can-find-cheap-car-insurance-through-a-group/\n",
    " - Affinity groups give insurers access to a pool of potential customers, who often are part of a demographic that the insurer judges to be “less risky” and therefore eligible for better rates."
   ]
  },
  {
   "cell_type": "markdown",
   "metadata": {},
   "source": [
    "### Vintage"
   ]
  },
  {
   "cell_type": "code",
   "execution_count": null,
   "metadata": {
    "ExecuteTime": {
     "end_time": "2021-02-12T21:34:20.751846Z",
     "start_time": "2021-02-12T21:34:18.236046Z"
    }
   },
   "outputs": [],
   "source": [
    "plt.figure(figsize = (20.7, 8))\n",
    "\n",
    "# plot proportion\n",
    "ax = sns.histplot(\n",
    "    x = data_eda_viz['Vintage'],\n",
    "    hue = data_eda_viz['Response'],\n",
    "    stat = 'probability',\n",
    "    multiple = 'fill',\n",
    "    data = data_eda_viz,\n",
    "    palette = ['darkgray', '#293286']\n",
    ")\n",
    "\n",
    "ax.spines['right'].set_visible(False)\n",
    "ax.spines['top'].set_visible(False)\n",
    "ax.spines['left'].set_visible(False)\n",
    "\n",
    "L = ax.legend(['Interested', 'Not Interested'], fontsize = 14, frameon = True)\n",
    "L.set_title('Response', prop = {'size' : 14})\n",
    "L.get_frame().set_alpha(1)\n",
    "L.get_frame().set_facecolor((1, 1, 1, 1))\n",
    "\n",
    "plt.xlabel('Vintage in day count', fontsize = 14)\n",
    "plt.ylabel('Proportion', fontsize = 14)\n",
    "\n",
    "y_ = [y for y in np.arange(0, 1.2, 0.2)]\n",
    "plt.yticks(y_)\n",
    "\n",
    "x_ = [x for x in range(10, 310, 10)]\n",
    "plt.xticks(x_)\n",
    "\n",
    "ylabels = [format(int(round(y * 100, 0))) + '%' for y in ax.get_yticks()]\n",
    "ax.set_yticklabels(labels = ylabels)\n",
    "\n",
    "plt.xticks(fontsize = 14) \n",
    "plt.yticks(fontsize = 14) \n",
    "\n",
    "plt.title('Customer Response Based on Length of Relationship', fontsize = 24, fontweight = 'semibold', ha = 'center', pad = 20)\n",
    "\n",
    "plt.tight_layout()\n",
    "\n",
    "plt.savefig('fig/stage_2/insight vintage day.png', bbox_inches = 'tight', dpi = 300, transparent = True)"
   ]
  },
  {
   "cell_type": "code",
   "execution_count": null,
   "metadata": {
    "ExecuteTime": {
     "end_time": "2021-02-12T21:34:21.300477Z",
     "start_time": "2021-02-12T21:34:20.753842Z"
    }
   },
   "outputs": [],
   "source": [
    "vintage_month_distribution = data_eda_viz.groupby(['Vintage_Month', 'Response']).count()[['id']]\n",
    "\n",
    "vintage_month = data_eda_viz.groupby(['Vintage_Month']).count()[['id']]\n",
    "\n",
    "vintage_month_distribution['percentage'] = vintage_month_distribution.div(vintage_month, level = 'Vintage_Month') * 100\n",
    "vintage_month_distribution = vintage_month_distribution.reset_index()\n",
    "vintage_month_distribution.columns = ['Vintage_Month', 'Response', '#of customers', 'percentage']\n",
    "vintage_month_distribution"
   ]
  },
  {
   "cell_type": "code",
   "execution_count": null,
   "metadata": {
    "ExecuteTime": {
     "end_time": "2021-02-12T21:34:21.306460Z",
     "start_time": "2021-02-12T21:34:21.302471Z"
    }
   },
   "outputs": [],
   "source": [
    "# palette color to highlight Response = 'Interested'/1\n",
    "color_focus_vintage_month = ['#293286' if (x == 1) else 'darkgray' for x in vintage_month_distribution['Response']]"
   ]
  },
  {
   "cell_type": "code",
   "execution_count": null,
   "metadata": {
    "ExecuteTime": {
     "end_time": "2021-02-12T21:34:23.149925Z",
     "start_time": "2021-02-12T21:34:21.308454Z"
    },
    "scrolled": false
   },
   "outputs": [],
   "source": [
    "plt.figure(figsize = (20.7, 8))\n",
    "\n",
    "# plot proportion\n",
    "ax = sns.barplot(\n",
    "    x = 'Vintage_Month',\n",
    "    y = 'percentage',\n",
    "    hue = 'Response',\n",
    "    order = vintage_month_distribution.iloc[vintage_month_distribution[vintage_month_distribution['Response'] == 1]['percentage'].sort_values(ascending = False).index]['Vintage_Month'],\n",
    "    palette = color_focus_vintage_month,\n",
    "    data = vintage_month_distribution\n",
    ")\n",
    "\n",
    "ax.spines['right'].set_visible(False)\n",
    "ax.spines['top'].set_visible(False)\n",
    "ax.spines['left'].set_visible(False)\n",
    "\n",
    "L = plt.legend(fontsize = 13, frameon = True, bbox_to_anchor = (1, 0.7), loc = 'upper right')\n",
    "L.get_texts()[0].set_text('Not interested')\n",
    "L.get_texts()[1].set_text('Interested')\n",
    "L.set_title('Response', prop = {'size' : 13})\n",
    "L.get_frame().set_alpha(1)\n",
    "L.get_frame().set_facecolor((1, 1, 1, 1))\n",
    "\n",
    "y_ = [x for x in range(0, 120, 20)]\n",
    "plt.yticks(y_)\n",
    "\n",
    "plt.xlabel('Vintage in month count', fontsize = 14)\n",
    "plt.ylabel('Proportion', fontsize = 14)\n",
    "\n",
    "xlabels = [format(x) + 'th' for x in ax.get_xticks()]\n",
    "ax.set_xticklabels(labels = xlabels)\n",
    "\n",
    "ylabels = [format(y) + '%' for y in ax.get_yticks()]\n",
    "ax.set_yticklabels(labels = ylabels)\n",
    "\n",
    "plt.xticks(fontsize = 14) \n",
    "plt.yticks(fontsize = 14) \n",
    "\n",
    "for p in ax.patches:\n",
    "    ax.annotate(\n",
    "        format(p.get_height(), '.1f') + '%',\n",
    "        (p.get_x() + p.get_width() / 2., p.get_height()), \n",
    "        ha = 'center',\n",
    "        fontweight = 'semibold',\n",
    "        size = 20,\n",
    "        xytext = (5, 8), \n",
    "        textcoords = 'offset points',\n",
    "        color = 'grey'\n",
    "    )\n",
    "\n",
    "plt.title('Customer Response Based on Length of Relationship', fontsize = 24, fontweight = 'semibold', ha = 'center', pad = 20)\n",
    "\n",
    "plt.tight_layout()\n",
    "\n",
    "plt.savefig('fig/stage_2/insight vintage month.png', bbox_inches = 'tight', dpi = 300, transparent = True)"
   ]
  },
  {
   "cell_type": "code",
   "execution_count": null,
   "metadata": {
    "ExecuteTime": {
     "end_time": "2021-02-12T21:34:23.914545Z",
     "start_time": "2021-02-12T21:34:23.152920Z"
    }
   },
   "outputs": [],
   "source": [
    "vintage_month_group_distribution = data_eda_viz.groupby(['Vintage_Month_Group', 'Response']).count()[['id']]\n",
    "\n",
    "vintage_month_group = data_eda_viz.groupby(['Vintage_Month_Group']).count()[['id']]\n",
    "\n",
    "vintage_month_group_distribution['percentage'] = vintage_month_group_distribution.div(vintage_month_group, level = 'Vintage_Month_Group') * 100\n",
    "vintage_month_group_distribution = vintage_month_group_distribution.reset_index()\n",
    "vintage_month_group_distribution.columns = ['Vintage_Month_Group', 'Response', '#of customers', 'percentage']\n",
    "vintage_month_group_distribution"
   ]
  },
  {
   "cell_type": "code",
   "execution_count": null,
   "metadata": {
    "ExecuteTime": {
     "end_time": "2021-02-12T21:34:23.920528Z",
     "start_time": "2021-02-12T21:34:23.916539Z"
    }
   },
   "outputs": [],
   "source": [
    "# palette color to highlight Response = 'Interested'/1\n",
    "color_focus_vintage_month_group = ['#293286' if (x == 1) else 'darkgray' for x in vintage_month_group_distribution['Response']]"
   ]
  },
  {
   "cell_type": "code",
   "execution_count": null,
   "metadata": {
    "ExecuteTime": {
     "end_time": "2021-02-12T21:34:24.787041Z",
     "start_time": "2021-02-12T21:34:23.923521Z"
    }
   },
   "outputs": [],
   "source": [
    "plt.figure(figsize = (10, 8))\n",
    "\n",
    "# plot proportion\n",
    "ax = sns.barplot(\n",
    "    x = 'Vintage_Month_Group',\n",
    "    y = 'percentage',\n",
    "    hue = 'Response',\n",
    "    order = vintage_month_group_distribution.iloc[vintage_month_group_distribution[vintage_month_group_distribution['Response'] == 1]['percentage'].sort_values(ascending = False).index]['Vintage_Month_Group'],\n",
    "    palette = color_focus_vintage_month_group,\n",
    "    data = vintage_month_group_distribution\n",
    ")\n",
    "\n",
    "ax.spines['right'].set_visible(False)\n",
    "ax.spines['top'].set_visible(False)\n",
    "ax.spines['left'].set_visible(False)\n",
    "\n",
    "L = plt.legend(fontsize = 13, frameon = True, bbox_to_anchor = (1, 0.7), loc = 'upper right')\n",
    "L.get_texts()[0].set_text('Not interested')\n",
    "L.get_texts()[1].set_text('Interested')\n",
    "L.set_title('Response', prop = {'size' : 13})\n",
    "L.get_frame().set_alpha(1)\n",
    "L.get_frame().set_facecolor((1, 1, 1, 1))\n",
    "\n",
    "y_ = [x for x in range(0, 120, 20)]\n",
    "plt.yticks(y_)\n",
    "\n",
    "plt.xlabel('Vintage in group of month', fontsize = 14)\n",
    "plt.ylabel('Proportion', fontsize = 14)\n",
    "\n",
    "ylabels = [format(y) + '%' for y in ax.get_yticks()]\n",
    "ax.set_yticklabels(labels = ylabels)\n",
    "\n",
    "plt.xticks(fontsize = 14) \n",
    "plt.yticks(fontsize = 14) \n",
    "\n",
    "for p in ax.patches:\n",
    "    ax.annotate(\n",
    "        format(p.get_height(), '.1f') + '%',\n",
    "        (p.get_x() + p.get_width() / 2., p.get_height()), \n",
    "        ha = 'center',\n",
    "        fontweight = 'semibold',\n",
    "        size = 20,\n",
    "        xytext = (5, 8), \n",
    "        textcoords = 'offset points',\n",
    "        color = 'grey'\n",
    "    )\n",
    "\n",
    "plt.title('Customer Response Based on Length of Relationship', fontsize = 24, fontweight = 'semibold', ha = 'center', pad = 20)\n",
    "\n",
    "plt.tight_layout()\n",
    "\n",
    "plt.savefig('fig/stage_2/insight vintage month group.png', bbox_inches = 'tight', dpi = 300, transparent = True)"
   ]
  },
  {
   "cell_type": "markdown",
   "metadata": {},
   "source": [
    "### Internal Concerns"
   ]
  },
  {
   "cell_type": "code",
   "execution_count": null,
   "metadata": {
    "ExecuteTime": {
     "end_time": "2021-02-12T21:34:24.794402Z",
     "start_time": "2021-02-12T21:34:24.789416Z"
    }
   },
   "outputs": [],
   "source": [
    "array_date = np.arange(np.datetime64('2020-10-01'), np.datetime64('2021-01-01'))"
   ]
  },
  {
   "cell_type": "code",
   "execution_count": null,
   "metadata": {
    "ExecuteTime": {
     "end_time": "2021-02-12T21:34:24.805374Z",
     "start_time": "2021-02-12T21:34:24.796396Z"
    }
   },
   "outputs": [],
   "source": [
    "print(len(array_date))\n",
    "array_date"
   ]
  },
  {
   "cell_type": "code",
   "execution_count": null,
   "metadata": {
    "ExecuteTime": {
     "end_time": "2021-02-12T21:34:24.813350Z",
     "start_time": "2021-02-12T21:34:24.808365Z"
    }
   },
   "outputs": [],
   "source": [
    "revenue_1 = np.arange(1500000000, 1400000000, -10000000)\n",
    "print(len(revenue_1))"
   ]
  },
  {
   "cell_type": "code",
   "execution_count": null,
   "metadata": {
    "ExecuteTime": {
     "end_time": "2021-02-12T21:34:24.820364Z",
     "start_time": "2021-02-12T21:34:24.815347Z"
    }
   },
   "outputs": [],
   "source": [
    "revenue_2 = np.arange(1395000000, 1430000000, 3500000)\n",
    "print(len(revenue_2))"
   ]
  },
  {
   "cell_type": "code",
   "execution_count": null,
   "metadata": {
    "ExecuteTime": {
     "end_time": "2021-02-12T21:34:24.828312Z",
     "start_time": "2021-02-12T21:34:24.823325Z"
    }
   },
   "outputs": [],
   "source": [
    "revenue_3 = np.arange(1310000000, 1380000000, 15000000)\n",
    "print(len(revenue_3))"
   ]
  },
  {
   "cell_type": "code",
   "execution_count": null,
   "metadata": {
    "ExecuteTime": {
     "end_time": "2021-02-12T21:34:24.836291Z",
     "start_time": "2021-02-12T21:34:24.830306Z"
    }
   },
   "outputs": [],
   "source": [
    "revenue_4 = np.arange(1315000000, 1305000000, -1500000)\n",
    "print(len(revenue_4))"
   ]
  },
  {
   "cell_type": "code",
   "execution_count": null,
   "metadata": {
    "ExecuteTime": {
     "end_time": "2021-02-12T21:34:24.844269Z",
     "start_time": "2021-02-12T21:34:24.839283Z"
    }
   },
   "outputs": [],
   "source": [
    "revenue_5 = np.arange(1307000000, 1308800000, 200000)\n",
    "print(len(revenue_5))"
   ]
  },
  {
   "cell_type": "code",
   "execution_count": null,
   "metadata": {
    "ExecuteTime": {
     "end_time": "2021-02-12T21:34:24.851252Z",
     "start_time": "2021-02-12T21:34:24.846262Z"
    }
   },
   "outputs": [],
   "source": [
    "revenue_6 = np.arange(1290000000, 1270000000, -3000000)\n",
    "print(len(revenue_6))"
   ]
  },
  {
   "cell_type": "code",
   "execution_count": null,
   "metadata": {
    "ExecuteTime": {
     "end_time": "2021-02-12T21:34:24.859228Z",
     "start_time": "2021-02-12T21:34:24.854243Z"
    }
   },
   "outputs": [],
   "source": [
    "revenue_7 = np.arange(1260000000, 1240000000, -2000000)\n",
    "print(len(revenue_7))"
   ]
  },
  {
   "cell_type": "code",
   "execution_count": null,
   "metadata": {
    "ExecuteTime": {
     "end_time": "2021-02-12T21:34:24.867207Z",
     "start_time": "2021-02-12T21:34:24.862224Z"
    }
   },
   "outputs": [],
   "source": [
    "revenue_8 = np.arange(1240000000, 1219900000, -2000000)\n",
    "print(len(revenue_8))"
   ]
  },
  {
   "cell_type": "code",
   "execution_count": null,
   "metadata": {
    "ExecuteTime": {
     "end_time": "2021-02-12T21:34:24.874189Z",
     "start_time": "2021-02-12T21:34:24.869201Z"
    }
   },
   "outputs": [],
   "source": [
    "revenue_9 = np.arange(1219900000, 1190000000, -1300000)\n",
    "print(len(revenue_9))"
   ]
  },
  {
   "cell_type": "code",
   "execution_count": null,
   "metadata": {
    "ExecuteTime": {
     "end_time": "2021-02-12T21:34:24.886158Z",
     "start_time": "2021-02-12T21:34:24.877180Z"
    }
   },
   "outputs": [],
   "source": [
    "array_revenue = np.concatenate((revenue_1, revenue_2, revenue_3, revenue_4, revenue_5, revenue_6, revenue_7, revenue_8, revenue_9))\n",
    "print(len(array_revenue))\n",
    "array_revenue"
   ]
  },
  {
   "cell_type": "code",
   "execution_count": null,
   "metadata": {
    "ExecuteTime": {
     "end_time": "2021-02-12T21:34:24.902116Z",
     "start_time": "2021-02-12T21:34:24.889149Z"
    }
   },
   "outputs": [],
   "source": [
    "internal_concerns = pd.DataFrame({\n",
    "    'datetime' : array_date,\n",
    "    'vehicle_revenue' : array_revenue\n",
    "})\n",
    "internal_concerns"
   ]
  },
  {
   "cell_type": "code",
   "execution_count": null,
   "metadata": {
    "ExecuteTime": {
     "end_time": "2021-02-12T21:34:24.921063Z",
     "start_time": "2021-02-12T21:34:24.905106Z"
    }
   },
   "outputs": [],
   "source": [
    "internal_concerns['date_month'] = internal_concerns['datetime'].dt.strftime('%d-%B')\n",
    "internal_concerns"
   ]
  },
  {
   "cell_type": "code",
   "execution_count": null,
   "metadata": {
    "ExecuteTime": {
     "end_time": "2021-02-12T21:34:24.942007Z",
     "start_time": "2021-02-12T21:34:24.924056Z"
    }
   },
   "outputs": [],
   "source": [
    "# internal_concerns['total'] = internal_concerns['vehicle_revenue'].cumsum()\n",
    "internal_concerns['diff'] = 0\n",
    "internal_concerns.iloc[:, 3] = internal_concerns['vehicle_revenue'].diff(1)\n",
    "\n",
    "internal_concerns.iloc[0, 3] = 0\n",
    "internal_concerns"
   ]
  },
  {
   "cell_type": "code",
   "execution_count": null,
   "metadata": {
    "ExecuteTime": {
     "end_time": "2021-02-12T21:34:24.957964Z",
     "start_time": "2021-02-12T21:34:24.944999Z"
    }
   },
   "outputs": [],
   "source": [
    "revenue = internal_concerns.set_index('datetime')[['vehicle_revenue']]\n",
    "revenue"
   ]
  },
  {
   "cell_type": "code",
   "execution_count": null,
   "metadata": {
    "ExecuteTime": {
     "end_time": "2021-02-12T21:34:27.327817Z",
     "start_time": "2021-02-12T21:34:24.959959Z"
    }
   },
   "outputs": [],
   "source": [
    "decomposition = sm.tsa.seasonal_decompose(revenue, model = 'additive')\n",
    "\n",
    "decomposition.plot()"
   ]
  },
  {
   "cell_type": "code",
   "execution_count": null,
   "metadata": {
    "ExecuteTime": {
     "end_time": "2021-02-12T21:34:28.624760Z",
     "start_time": "2021-02-12T21:34:27.329811Z"
    }
   },
   "outputs": [],
   "source": [
    "fig, ax = plt.subplots(1, 1, figsize = (14, 10))\n",
    "\n",
    "sns.lineplot(\n",
    "    x = internal_concerns['datetime'],\n",
    "    y = internal_concerns['vehicle_revenue'],\n",
    "    label = 'Revenue',\n",
    "    color = '#293286',\n",
    "    ax = ax,\n",
    ")\n",
    "\n",
    "sns.lineplot(\n",
    "    x = decomposition.trend.index,\n",
    "    y = decomposition.trend,\n",
    "    color = '#df2f2f',\n",
    "    label = 'Trend'\n",
    ")\n",
    "\n",
    "ax.spines['right'].set_visible(False)\n",
    "ax.spines['top'].set_visible(False)\n",
    "ax.spines['left'].set_visible(False)\n",
    "\n",
    "L = plt.legend(fontsize = 18, frameon = True)\n",
    "L.get_frame().set_alpha(1)\n",
    "L.get_frame().set_facecolor((1, 1, 1, 1))\n",
    "\n",
    "plt.xlabel(' ')\n",
    "plt.ylabel('Revenue', fontsize = 18)\n",
    "\n",
    "x_ = ['2020-10-01', '2020-11-01', '2020-12-01', '2020-12-31']\n",
    "plt.xticks(x_)\n",
    "\n",
    "# x_ = [x for x in np.arange(np.datetime64('2020-10-01'), np.datetime64('2021-01-01'))]\n",
    "# plt.xticks(x_)\n",
    "\n",
    "y_ = [y for y in np.arange(min(array_revenue), max(array_revenue) + 100000000, 100000000)]\n",
    "plt.yticks(y_)\n",
    "\n",
    "xlabels = [x.get_text() for x in ax.get_xticklabels()]\n",
    "xlabels[0] = 'October \\'20'\n",
    "xlabels[1] = 'November \\'20'\n",
    "xlabels[2] = 'December \\'20'\n",
    "xlabels[3] = 'End of Year'\n",
    "ax.set_xticklabels(xlabels)\n",
    "\n",
    "ylabels = ['₹ ' + format(round(y/pow(10, 9), 1)) + ' B' for y in ax.get_yticks()]\n",
    "ax.set_yticklabels(labels = ylabels)\n",
    "\n",
    "# np.arange(4), ('01-Oct', '01-Nov', '01-Dec', '31-Dec')\n",
    "plt.xticks(fontsize = 24, fontweight = 'semibold')\n",
    "plt.yticks(fontsize = 20) \n",
    "\n",
    "plt.title('Vehicle Insurance Product Revenue Decreasement in Q4 2020', fontsize = 24, fontweight = 'semibold', ha = 'center', pad = 20)\n",
    "\n",
    "plt.tight_layout()\n",
    "\n",
    "plt.savefig('fig/stage_2/internal concerns.png', bbox_inches = 'tight', dpi = 300, transparent = True)"
   ]
  },
  {
   "cell_type": "markdown",
   "metadata": {},
   "source": [
    "# Stage 4"
   ]
  },
  {
   "cell_type": "code",
   "execution_count": null,
   "metadata": {
    "ExecuteTime": {
     "end_time": "2021-02-12T21:34:28.669639Z",
     "start_time": "2021-02-12T21:34:28.627753Z"
    }
   },
   "outputs": [],
   "source": [
    "data"
   ]
  },
  {
   "cell_type": "markdown",
   "metadata": {},
   "source": [
    "## How much should we bill vehicle insurance customers?"
   ]
  },
  {
   "cell_type": "markdown",
   "metadata": {},
   "source": [
    "- or how did we estimate the income we will get from customer?"
   ]
  },
  {
   "cell_type": "markdown",
   "metadata": {},
   "source": [
    "- We have defined the potential customer as follows:\n",
    " - **Response Yes**\n",
    " - High Conversion rate: **Not Previously Insured**\n",
    " - Low risk: **Vehicle Age < 1 year & No Vehicle Damage**"
   ]
  },
  {
   "cell_type": "code",
   "execution_count": null,
   "metadata": {
    "ExecuteTime": {
     "end_time": "2021-02-12T21:34:28.737458Z",
     "start_time": "2021-02-12T21:34:28.673630Z"
    },
    "scrolled": false
   },
   "outputs": [],
   "source": [
    "potential_customer = data[data['Response'] == 1].reset_index(drop = True)\n",
    "potential_customer"
   ]
  },
  {
   "cell_type": "code",
   "execution_count": null,
   "metadata": {
    "ExecuteTime": {
     "end_time": "2021-02-12T21:34:28.796300Z",
     "start_time": "2021-02-12T21:34:28.740450Z"
    }
   },
   "outputs": [],
   "source": [
    "potential_customer_2 = potential_customer[potential_customer['Previously_Insured'] == 0].reset_index(drop = True)\n",
    "potential_customer_2"
   ]
  },
  {
   "cell_type": "code",
   "execution_count": null,
   "metadata": {
    "ExecuteTime": {
     "end_time": "2021-02-12T21:34:28.850157Z",
     "start_time": "2021-02-12T21:34:28.799293Z"
    }
   },
   "outputs": [],
   "source": [
    "potential_customer_3 = potential_customer_2[potential_customer_2['Vehicle_Age'] == '< 1 Year'].reset_index(drop = True)\n",
    "potential_customer_3"
   ]
  },
  {
   "cell_type": "code",
   "execution_count": null,
   "metadata": {
    "ExecuteTime": {
     "end_time": "2021-02-12T21:34:29.017116Z",
     "start_time": "2021-02-12T21:34:28.853150Z"
    }
   },
   "outputs": [],
   "source": [
    "potential_customer_4 = potential_customer_3[potential_customer_3['Vehicle_Damage'] == 'No'].reset_index(drop = True)\n",
    "potential_customer_4"
   ]
  },
  {
   "cell_type": "markdown",
   "metadata": {},
   "source": [
    "### So Vehicle Insurance Premium is..."
   ]
  },
  {
   "cell_type": "code",
   "execution_count": null,
   "metadata": {
    "ExecuteTime": {
     "end_time": "2021-02-12T21:34:29.032737Z",
     "start_time": "2021-02-12T21:34:29.017116Z"
    }
   },
   "outputs": [],
   "source": [
    "potential_customer_4['Annual_Premium'].describe()"
   ]
  },
  {
   "cell_type": "markdown",
   "metadata": {},
   "source": [
    "- Rs 1 = Rp 192.47\n",
    "- Since the median is at 50% of total data ordered in ascending, we get Rs 26.847\n",
    " - So, the annual premium for vehicle insurance is around Rs 25.000 (~Rp 4.800.000)"
   ]
  }
 ],
 "metadata": {
  "kernelspec": {
   "display_name": ".venv",
   "language": "python",
   "name": "python3"
  },
  "language_info": {
   "codemirror_mode": {
    "name": "ipython",
    "version": 3
   },
   "file_extension": ".py",
   "mimetype": "text/x-python",
   "name": "python",
   "nbconvert_exporter": "python",
   "pygments_lexer": "ipython3",
   "version": "3.13.5"
  },
  "nbTranslate": {
   "displayLangs": [
    "en"
   ],
   "hotkey": "alt-t",
   "langInMainMenu": true,
   "sourceLang": "en",
   "targetLang": "fr",
   "useGoogleTranslate": true
  },
  "toc": {
   "base_numbering": 1,
   "nav_menu": {},
   "number_sections": true,
   "sideBar": true,
   "skip_h1_title": false,
   "title_cell": "Table of Contents",
   "title_sidebar": "Contents",
   "toc_cell": true,
   "toc_position": {
    "height": "calc(100% - 180px)",
    "left": "10px",
    "top": "150px",
    "width": "231px"
   },
   "toc_section_display": true,
   "toc_window_display": true
  }
 },
 "nbformat": 4,
 "nbformat_minor": 4
}
